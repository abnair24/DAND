{
 "cells": [
  {
   "cell_type": "markdown",
   "metadata": {},
   "source": [
    "## Udacity - Exploring Weather Trends"
   ]
  },
  {
   "cell_type": "code",
   "execution_count": 19,
   "metadata": {},
   "outputs": [],
   "source": [
    "\n",
    "import pandas as pd \n",
    "import numpy as np \n",
    "import matplotlib.pyplot as plt\n",
    "import sys"
   ]
  },
  {
   "cell_type": "code",
   "execution_count": 20,
   "metadata": {},
   "outputs": [
    {
     "name": "stdout",
     "output_type": "stream",
     "text": "Python version :3.8.0 (default, Dec 26 2019, 15:35:22) \n[Clang 11.0.0 (clang-1100.0.33.16)]\nPandas version :0.25.3\n"
    }
   ],
   "source": [
    "print('Python version :'+ sys.version)\n",
    "print('Pandas version :'+ pd.__version__)"
   ]
  },
  {
   "cell_type": "markdown",
   "metadata": {},
   "source": [
    "### Importing Data"
   ]
  },
  {
   "cell_type": "code",
   "execution_count": 21,
   "metadata": {},
   "outputs": [
    {
     "data": {
      "text/html": "<div>\n<style scoped>\n    .dataframe tbody tr th:only-of-type {\n        vertical-align: middle;\n    }\n\n    .dataframe tbody tr th {\n        vertical-align: top;\n    }\n\n    .dataframe thead th {\n        text-align: right;\n    }\n</style>\n<table border=\"1\" class=\"dataframe\">\n  <thead>\n    <tr style=\"text-align: right;\">\n      <th></th>\n      <th>city_avg</th>\n      <th>global_avg</th>\n    </tr>\n    <tr>\n      <th>year</th>\n      <th></th>\n      <th></th>\n    </tr>\n  </thead>\n  <tbody>\n    <tr>\n      <th>1796</th>\n      <td>24.49</td>\n      <td>8.27</td>\n    </tr>\n    <tr>\n      <th>1797</th>\n      <td>25.18</td>\n      <td>8.51</td>\n    </tr>\n    <tr>\n      <th>1798</th>\n      <td>24.65</td>\n      <td>8.67</td>\n    </tr>\n    <tr>\n      <th>1799</th>\n      <td>24.81</td>\n      <td>8.51</td>\n    </tr>\n    <tr>\n      <th>1800</th>\n      <td>24.85</td>\n      <td>8.48</td>\n    </tr>\n    <tr>\n      <th>...</th>\n      <td>...</td>\n      <td>...</td>\n    </tr>\n    <tr>\n      <th>2009</th>\n      <td>25.73</td>\n      <td>9.51</td>\n    </tr>\n    <tr>\n      <th>2010</th>\n      <td>25.71</td>\n      <td>9.70</td>\n    </tr>\n    <tr>\n      <th>2011</th>\n      <td>25.36</td>\n      <td>9.52</td>\n    </tr>\n    <tr>\n      <th>2012</th>\n      <td>26.04</td>\n      <td>9.51</td>\n    </tr>\n    <tr>\n      <th>2013</th>\n      <td>26.61</td>\n      <td>9.61</td>\n    </tr>\n  </tbody>\n</table>\n<p>218 rows × 2 columns</p>\n</div>",
      "text/plain": "      city_avg  global_avg\nyear                      \n1796     24.49        8.27\n1797     25.18        8.51\n1798     24.65        8.67\n1799     24.81        8.51\n1800     24.85        8.48\n...        ...         ...\n2009     25.73        9.51\n2010     25.71        9.70\n2011     25.36        9.52\n2012     26.04        9.51\n2013     26.61        9.61\n\n[218 rows x 2 columns]"
     },
     "execution_count": 21,
     "metadata": {},
     "output_type": "execute_result"
    }
   ],
   "source": [
    "df = pd.read_csv('AvgTemp.csv').set_index('year')\n",
    "df"
   ]
  },
  {
   "cell_type": "markdown",
   "metadata": {},
   "source": [
    "### Finding moving avg for global temperature"
   ]
  },
  {
   "cell_type": "code",
   "execution_count": 22,
   "metadata": {},
   "outputs": [
    {
     "data": {
      "text/plain": "year\n1805    8.551\n1806    8.567\n1807    8.544\n1808    8.440\n1809    8.297\n        ...  \n2009    9.493\n2010    9.543\n2011    9.554\n2012    9.548\n2013    9.556\nName: global_avg, Length: 209, dtype: float64"
     },
     "execution_count": 22,
     "metadata": {},
     "output_type": "execute_result"
    }
   ],
   "source": [
    "global_mov_avg = df['global_avg'].rolling(10).mean().dropna()\n",
    "global_mov_avg"
   ]
  },
  {
   "cell_type": "markdown",
   "metadata": {},
   "source": [
    "### Finding moving avg for city temperature (Bangalore)"
   ]
  },
  {
   "cell_type": "code",
   "execution_count": 23,
   "metadata": {},
   "outputs": [
    {
     "data": {
      "text/plain": "year\n1805    24.981\n1806    25.019\n1807    24.926\n1822    23.927\n1823    23.966\n         ...  \n2009    25.524\n2010    25.561\n2011    25.544\n2012    25.572\n2013    25.641\nName: city_avg, Length: 184, dtype: float64"
     },
     "execution_count": 23,
     "metadata": {},
     "output_type": "execute_result"
    }
   ],
   "source": [
    "city_mov_avg = df['city_avg'].rolling(10).mean().dropna()\n",
    "city_mov_avg"
   ]
  },
  {
   "cell_type": "markdown",
   "metadata": {},
   "source": [
    "### Data visualization using Matplotlib"
   ]
  },
  {
   "cell_type": "code",
   "execution_count": 24,
   "metadata": {},
   "outputs": [],
   "source": [
    "plt.plot(global_mov_avg,label = 'Global')\n",
    "plt.plot(city_mov_avg,label='Bangalore')\n",
    "plt.legend()\n",
    "\n",
    "plt.xlabel(\"Years\")\n",
    "plt.ylabel(\"Temperature\")\n",
    "plt.title(\"Global Avg Temp vs City Avg Temp\")\n",
    "plt.show()"
   ]
  }
 ],
 "metadata": {
  "file_extension": ".py",
  "kernelspec": {
   "display_name": "Python 3",
   "language": "python",
   "name": "python3"
  },
  "language_info": {
   "codemirror_mode": {
    "name": "ipython",
    "version": 3
   },
   "file_extension": ".py",
   "mimetype": "text/x-python",
   "name": "python",
   "nbconvert_exporter": "python",
   "pygments_lexer": "ipython3",
   "version": "3.8.0"
  },
  "mimetype": "text/x-python",
  "name": "python",
  "npconvert_exporter": "python",
  "pygments_lexer": "ipython3",
  "version": 3
 },
 "nbformat": 4,
 "nbformat_minor": 2
}