{
 "cells": [
  {
   "cell_type": "code",
   "execution_count": 16,
   "metadata": {},
   "outputs": [],
   "source": [
    "import numpy as np\n",
    "import pandas as pd\n",
    "import matplotlib.pyplot as plt\n",
    "\n",
    "np.random.seed(42)"
   ]
  },
  {
   "cell_type": "code",
   "execution_count": 17,
   "metadata": {},
   "outputs": [
    {
     "name": "stdout",
     "output_type": "stream",
     "text": "timestamp      id       group action    duration\n0  2016-09-24 17:14:52.012145  261869  experiment   view  130.545004\n1  2016-09-24 18:45:09.645857  226546  experiment   view  159.862440\n2  2016-09-24 19:16:21.002533  286353  experiment   view   79.349315\n3  2016-09-24 19:43:06.927785  842279  experiment   view   55.536126\n4  2016-09-24 21:08:22.790333  781883  experiment   view  204.322437\n4074\n"
    }
   ],
   "source": [
    "df = pd.read_csv('course_page_actions.csv')\n",
    "print(df.head())\n",
    "print(df.shape[0])"
   ]
  },
  {
   "cell_type": "code",
   "execution_count": null,
   "metadata": {},
   "outputs": [],
   "source": [
    "# Get dataframe with all records from control group\n",
    "control_df = df.query('group == \"control\"')\n",
    "\n",
    "# Compute click through rate for control group\n",
    "control_ctr = control_df.query('action == \"enroll\"').id.nunique() / control_df.query('action == \"view\"').id.nunique()\n",
    "\n",
    "# Display click through rate\n",
    "control_ctr"
   ]
  },
  {
   "cell_type": "code",
   "execution_count": null,
   "metadata": {},
   "outputs": [],
   "source": [
    "# Get dataframe with all records from experiment group\n",
    "experiment_df = df.query('group == \"experiment\"')\n",
    "\n",
    "# Compute click through rate for experiment group\n",
    "experiment_ctr = experiment_df.query('action== \"enroll\"').id.nunique() /experiment_df.query('action == \"view\"').id.nunique()\n",
    "\n",
    "# Display click through rate\n",
    "experiment_ctr"
   ]
  },
  {
   "cell_type": "code",
   "execution_count": null,
   "metadata": {},
   "outputs": [],
   "source": [
    "# Compute the observed difference in click through rates\n",
    "obs_diff = experiment_ctr - control_ctr\n",
    "\n",
    "# Display observed difference\n",
    "obs_diff"
   ]
  },
  {
   "cell_type": "code",
   "execution_count": null,
   "metadata": {},
   "outputs": [],
   "source": [
    "# Create a sampling distribution of the difference in proportions\n",
    "# with bootstrapping\n",
    "diffs = []\n",
    "size = df.shape[0]\n",
    "for _ in range(10000):\n",
    "    b_samp = df.sample(size, replace=True)\n",
    "    control_df = b_samp.query('group == \"control\"')\n",
    "    experiment_df = b_samp.query('group == \"experiment\"')\n",
    "    control_ctr = control_df.query('action == \"enroll\"').id.nunique() / control_df.query('action == \"view\"').id.nunique()\n",
    "    experiment_ctr = experiment_df.query('action == \"enroll\"').id.nunique() / experiment_df.query('action == \"view\"').id.nunique()\n",
    "    diffs.append(experiment_ctr - control_ctr)\n"
   ]
  },
  {
   "cell_type": "code",
   "execution_count": null,
   "metadata": {},
   "outputs": [],
   "source": [
    "# Convert to numpy array\n",
    "diffs = np.array(diffs)\n",
    "# Plot sampling distribution\n",
    "plt.hist(diffs);"
   ]
  },
  {
   "cell_type": "code",
   "execution_count": null,
   "metadata": {},
   "outputs": [],
   "source": [
    "# Simulate distribution under the null hypothesis\n",
    "null_vals = np.random.normal(0,diffs.std(),diffs.size)\n",
    "\n",
    "# Plot the null distribution\n",
    "plt.hist(null_vals);\n"
   ]
  },
  {
   "cell_type": "code",
   "execution_count": null,
   "metadata": {},
   "outputs": [],
   "source": [
    "# Plot observed statistic with the null distibution\n",
    "plt.hist(null_vals);\n",
    "plt.axvline(obs_diff,color='red');\n"
   ]
  },
  {
   "cell_type": "code",
   "execution_count": null,
   "metadata": {},
   "outputs": [],
   "source": [
    "# Compute p-value\n",
    "p_value = (null_vals > obs_diff).mean()\n",
    "p_value"
   ]
  },
  {
   "cell_type": "code",
   "execution_count": null,
   "metadata": {},
   "outputs": [],
   "source": [
    "with p_value < alpha_value(0.05), we can reject null hypothesis and results are statistically significant"
   ]
  }
 ],
 "metadata": {
  "kernelspec": {
   "display_name": "Python 3",
   "language": "python",
   "name": "python3"
  },
  "language_info": {
   "codemirror_mode": {
    "name": "ipython",
    "version": 3
   },
   "file_extension": ".py",
   "mimetype": "text/x-python",
   "name": "python",
   "nbconvert_exporter": "python",
   "pygments_lexer": "ipython3",
   "version": "3.8.0-final"
  }
 },
 "nbformat": 4,
 "nbformat_minor": 2
}