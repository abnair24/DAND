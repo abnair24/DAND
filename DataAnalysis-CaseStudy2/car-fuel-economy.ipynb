{
 "nbformat": 4,
 "nbformat_minor": 2,
 "metadata": {
  "language_info": {
   "name": "python",
   "codemirror_mode": {
    "name": "ipython",
    "version": 3
   },
   "version": "3.8.0-final"
  },
  "orig_nbformat": 2,
  "file_extension": ".py",
  "mimetype": "text/x-python",
  "name": "python",
  "npconvert_exporter": "python",
  "pygments_lexer": "ipython3",
  "version": 3,
  "kernelspec": {
   "name": "python38064bit3b635276ab954b06b6ad471ae64bf7e1",
   "display_name": "Python 3.8.0 64-bit"
  }
 },
 "cells": [
  {
   "cell_type": "code",
   "execution_count": 1814,
   "metadata": {},
   "outputs": [],
   "source": [
    "import pandas as pd \n",
    "import numpy as np \n",
    "import matplotlib.pyplot as plt \n"
   ]
  },
  {
   "cell_type": "code",
   "execution_count": 1815,
   "metadata": {},
   "outputs": [
    {
     "data": {
      "text/html": "<div>\n<style scoped>\n    .dataframe tbody tr th:only-of-type {\n        vertical-align: middle;\n    }\n\n    .dataframe tbody tr th {\n        vertical-align: top;\n    }\n\n    .dataframe thead th {\n        text-align: right;\n    }\n</style>\n<table border=\"1\" class=\"dataframe\">\n  <thead>\n    <tr style=\"text-align: right;\">\n      <th></th>\n      <th>Model</th>\n      <th>Displ</th>\n      <th>Cyl</th>\n      <th>Trans</th>\n      <th>Drive</th>\n      <th>Fuel</th>\n      <th>Sales Area</th>\n      <th>Stnd</th>\n      <th>Underhood ID</th>\n      <th>Veh Class</th>\n      <th>Air Pollution Score</th>\n      <th>FE Calc Appr</th>\n      <th>City MPG</th>\n      <th>Hwy MPG</th>\n      <th>Cmb MPG</th>\n      <th>Unadj Cmb MPG</th>\n      <th>Greenhouse Gas Score</th>\n      <th>SmartWay</th>\n    </tr>\n  </thead>\n  <tbody>\n    <tr>\n      <th>0</th>\n      <td>ACURA MDX</td>\n      <td>3.7</td>\n      <td>(6 cyl)</td>\n      <td>Auto-S5</td>\n      <td>4WD</td>\n      <td>Gasoline</td>\n      <td>CA</td>\n      <td>U2</td>\n      <td>8HNXT03.7PKR</td>\n      <td>SUV</td>\n      <td>7</td>\n      <td>Drv</td>\n      <td>15</td>\n      <td>20</td>\n      <td>17</td>\n      <td>22.0527</td>\n      <td>4</td>\n      <td>no</td>\n    </tr>\n    <tr>\n      <th>1</th>\n      <td>ACURA MDX</td>\n      <td>3.7</td>\n      <td>(6 cyl)</td>\n      <td>Auto-S5</td>\n      <td>4WD</td>\n      <td>Gasoline</td>\n      <td>FA</td>\n      <td>B5</td>\n      <td>8HNXT03.7PKR</td>\n      <td>SUV</td>\n      <td>6</td>\n      <td>Drv</td>\n      <td>15</td>\n      <td>20</td>\n      <td>17</td>\n      <td>22.0527</td>\n      <td>4</td>\n      <td>no</td>\n    </tr>\n    <tr>\n      <th>2</th>\n      <td>ACURA RDX</td>\n      <td>2.3</td>\n      <td>(4 cyl)</td>\n      <td>Auto-S5</td>\n      <td>4WD</td>\n      <td>Gasoline</td>\n      <td>CA</td>\n      <td>U2</td>\n      <td>8HNXT02.3DKR</td>\n      <td>SUV</td>\n      <td>7</td>\n      <td>Drv</td>\n      <td>17</td>\n      <td>22</td>\n      <td>19</td>\n      <td>24.1745</td>\n      <td>5</td>\n      <td>no</td>\n    </tr>\n    <tr>\n      <th>3</th>\n      <td>ACURA RDX</td>\n      <td>2.3</td>\n      <td>(4 cyl)</td>\n      <td>Auto-S5</td>\n      <td>4WD</td>\n      <td>Gasoline</td>\n      <td>FA</td>\n      <td>B5</td>\n      <td>8HNXT02.3DKR</td>\n      <td>SUV</td>\n      <td>6</td>\n      <td>Drv</td>\n      <td>17</td>\n      <td>22</td>\n      <td>19</td>\n      <td>24.1745</td>\n      <td>5</td>\n      <td>no</td>\n    </tr>\n    <tr>\n      <th>4</th>\n      <td>ACURA RL</td>\n      <td>3.5</td>\n      <td>(6 cyl)</td>\n      <td>Auto-S5</td>\n      <td>4WD</td>\n      <td>Gasoline</td>\n      <td>CA</td>\n      <td>U2</td>\n      <td>8HNXV03.5HKR</td>\n      <td>midsize car</td>\n      <td>7</td>\n      <td>Drv</td>\n      <td>16</td>\n      <td>24</td>\n      <td>19</td>\n      <td>24.5629</td>\n      <td>5</td>\n      <td>no</td>\n    </tr>\n  </tbody>\n</table>\n</div>",
      "text/plain": "       Model  Displ      Cyl    Trans Drive      Fuel Sales Area Stnd  \\\n0  ACURA MDX    3.7  (6 cyl)  Auto-S5   4WD  Gasoline         CA   U2   \n1  ACURA MDX    3.7  (6 cyl)  Auto-S5   4WD  Gasoline         FA   B5   \n2  ACURA RDX    2.3  (4 cyl)  Auto-S5   4WD  Gasoline         CA   U2   \n3  ACURA RDX    2.3  (4 cyl)  Auto-S5   4WD  Gasoline         FA   B5   \n4   ACURA RL    3.5  (6 cyl)  Auto-S5   4WD  Gasoline         CA   U2   \n\n   Underhood ID    Veh Class Air Pollution Score FE Calc Appr City MPG  \\\n0  8HNXT03.7PKR          SUV                   7          Drv       15   \n1  8HNXT03.7PKR          SUV                   6          Drv       15   \n2  8HNXT02.3DKR          SUV                   7          Drv       17   \n3  8HNXT02.3DKR          SUV                   6          Drv       17   \n4  8HNXV03.5HKR  midsize car                   7          Drv       16   \n\n  Hwy MPG Cmb MPG  Unadj Cmb MPG Greenhouse Gas Score SmartWay  \n0      20      17        22.0527                    4       no  \n1      20      17        22.0527                    4       no  \n2      22      19        24.1745                    5       no  \n3      22      19        24.1745                    5       no  \n4      24      19        24.5629                    5       no  "
     },
     "execution_count": 1815,
     "metadata": {},
     "output_type": "execute_result"
    }
   ],
   "source": [
    "df_08 = pd.read_csv('all_alpha_08.csv')\n",
    "df_08.head()\n"
   ]
  },
  {
   "cell_type": "code",
   "execution_count": 1816,
   "metadata": {},
   "outputs": [
    {
     "data": {
      "text/html": "<div>\n<style scoped>\n    .dataframe tbody tr th:only-of-type {\n        vertical-align: middle;\n    }\n\n    .dataframe tbody tr th {\n        vertical-align: top;\n    }\n\n    .dataframe thead th {\n        text-align: right;\n    }\n</style>\n<table border=\"1\" class=\"dataframe\">\n  <thead>\n    <tr style=\"text-align: right;\">\n      <th></th>\n      <th>Displ</th>\n      <th>Unadj Cmb MPG</th>\n    </tr>\n  </thead>\n  <tbody>\n    <tr>\n      <th>count</th>\n      <td>2404.000000</td>\n      <td>2205.000000</td>\n    </tr>\n    <tr>\n      <th>mean</th>\n      <td>3.748918</td>\n      <td>23.916104</td>\n    </tr>\n    <tr>\n      <th>std</th>\n      <td>1.335785</td>\n      <td>6.366170</td>\n    </tr>\n    <tr>\n      <th>min</th>\n      <td>1.300000</td>\n      <td>10.018400</td>\n    </tr>\n    <tr>\n      <th>25%</th>\n      <td>2.500000</td>\n      <td>19.113900</td>\n    </tr>\n    <tr>\n      <th>50%</th>\n      <td>3.500000</td>\n      <td>23.921300</td>\n    </tr>\n    <tr>\n      <th>75%</th>\n      <td>4.800000</td>\n      <td>27.869300</td>\n    </tr>\n    <tr>\n      <th>max</th>\n      <td>8.400000</td>\n      <td>65.777800</td>\n    </tr>\n  </tbody>\n</table>\n</div>",
      "text/plain": "             Displ  Unadj Cmb MPG\ncount  2404.000000    2205.000000\nmean      3.748918      23.916104\nstd       1.335785       6.366170\nmin       1.300000      10.018400\n25%       2.500000      19.113900\n50%       3.500000      23.921300\n75%       4.800000      27.869300\nmax       8.400000      65.777800"
     },
     "execution_count": 1816,
     "metadata": {},
     "output_type": "execute_result"
    }
   ],
   "source": [
    "df_08.describe()"
   ]
  },
  {
   "cell_type": "code",
   "execution_count": 1817,
   "metadata": {},
   "outputs": [
    {
     "data": {
      "text/plain": "(2404, 18)"
     },
     "execution_count": 1817,
     "metadata": {},
     "output_type": "execute_result"
    }
   ],
   "source": [
    "df_08.shape"
   ]
  },
  {
   "cell_type": "code",
   "execution_count": 1818,
   "metadata": {},
   "outputs": [
    {
     "name": "stdout",
     "output_type": "stream",
     "text": "<class 'pandas.core.frame.DataFrame'>\nRangeIndex: 2404 entries, 0 to 2403\nData columns (total 18 columns):\nModel                   2404 non-null object\nDispl                   2404 non-null float64\nCyl                     2205 non-null object\nTrans                   2205 non-null object\nDrive                   2311 non-null object\nFuel                    2404 non-null object\nSales Area              2404 non-null object\nStnd                    2404 non-null object\nUnderhood ID            2404 non-null object\nVeh Class               2404 non-null object\nAir Pollution Score     2404 non-null object\nFE Calc Appr            2205 non-null object\nCity MPG                2205 non-null object\nHwy MPG                 2205 non-null object\nCmb MPG                 2205 non-null object\nUnadj Cmb MPG           2205 non-null float64\nGreenhouse Gas Score    2205 non-null object\nSmartWay                2404 non-null object\ndtypes: float64(2), object(16)\nmemory usage: 338.2+ KB\n"
    }
   ],
   "source": [
    "df_08.info()"
   ]
  },
  {
   "cell_type": "code",
   "execution_count": 1819,
   "metadata": {},
   "outputs": [
    {
     "data": {
      "text/plain": "2"
     },
     "execution_count": 1819,
     "metadata": {},
     "output_type": "execute_result"
    }
   ],
   "source": [
    "### Finding no of non-null unique values\n",
    "df_08.SmartWay.nunique()"
   ]
  },
  {
   "cell_type": "code",
   "execution_count": 1820,
   "metadata": {},
   "outputs": [
    {
     "data": {
      "text/plain": "3"
     },
     "execution_count": 1820,
     "metadata": {},
     "output_type": "execute_result"
    }
   ],
   "source": [
    "df_08['Sales Area'].nunique()"
   ]
  },
  {
   "cell_type": "code",
   "execution_count": 1821,
   "metadata": {},
   "outputs": [
    {
     "data": {
      "text/plain": "14"
     },
     "execution_count": 1821,
     "metadata": {},
     "output_type": "execute_result"
    }
   ],
   "source": [
    "df_08.Trans.nunique()"
   ]
  },
  {
   "cell_type": "code",
   "execution_count": 1822,
   "metadata": {},
   "outputs": [
    {
     "data": {
      "text/plain": "8"
     },
     "execution_count": 1822,
     "metadata": {},
     "output_type": "execute_result"
    }
   ],
   "source": [
    "df_08.Cyl.nunique()"
   ]
  },
  {
   "cell_type": "code",
   "execution_count": 1823,
   "metadata": {},
   "outputs": [
    {
     "data": {
      "text/plain": "199"
     },
     "execution_count": 1823,
     "metadata": {},
     "output_type": "execute_result"
    }
   ],
   "source": [
    "### Finding no of rows with null values\n",
    "df_08.isnull().any(axis=1).sum()\n"
   ]
  },
  {
   "cell_type": "code",
   "execution_count": 1824,
   "metadata": {},
   "outputs": [
    {
     "data": {
      "text/plain": "25"
     },
     "execution_count": 1824,
     "metadata": {},
     "output_type": "execute_result"
    }
   ],
   "source": [
    "### Finding no of duplicated values\n",
    "sum(df_08.duplicated())"
   ]
  },
  {
   "cell_type": "code",
   "execution_count": 1825,
   "metadata": {},
   "outputs": [
    {
     "data": {
      "text/html": "<div>\n<style scoped>\n    .dataframe tbody tr th:only-of-type {\n        vertical-align: middle;\n    }\n\n    .dataframe tbody tr th {\n        vertical-align: top;\n    }\n\n    .dataframe thead th {\n        text-align: right;\n    }\n</style>\n<table border=\"1\" class=\"dataframe\">\n  <thead>\n    <tr style=\"text-align: right;\">\n      <th></th>\n      <th>Model</th>\n      <th>Displ</th>\n      <th>Cyl</th>\n      <th>Trans</th>\n      <th>Drive</th>\n      <th>Fuel</th>\n      <th>Cert Region</th>\n      <th>Stnd</th>\n      <th>Stnd Description</th>\n      <th>Underhood ID</th>\n      <th>Veh Class</th>\n      <th>Air Pollution Score</th>\n      <th>City MPG</th>\n      <th>Hwy MPG</th>\n      <th>Cmb MPG</th>\n      <th>Greenhouse Gas Score</th>\n      <th>SmartWay</th>\n      <th>Comb CO2</th>\n    </tr>\n  </thead>\n  <tbody>\n    <tr>\n      <th>0</th>\n      <td>ACURA RDX</td>\n      <td>3.5</td>\n      <td>6.0</td>\n      <td>SemiAuto-6</td>\n      <td>2WD</td>\n      <td>Gasoline</td>\n      <td>FA</td>\n      <td>T3B125</td>\n      <td>Federal Tier 3 Bin 125</td>\n      <td>JHNXT03.5GV3</td>\n      <td>small SUV</td>\n      <td>3</td>\n      <td>20</td>\n      <td>28</td>\n      <td>23</td>\n      <td>5</td>\n      <td>No</td>\n      <td>386</td>\n    </tr>\n    <tr>\n      <th>1</th>\n      <td>ACURA RDX</td>\n      <td>3.5</td>\n      <td>6.0</td>\n      <td>SemiAuto-6</td>\n      <td>2WD</td>\n      <td>Gasoline</td>\n      <td>CA</td>\n      <td>U2</td>\n      <td>California LEV-II ULEV</td>\n      <td>JHNXT03.5GV3</td>\n      <td>small SUV</td>\n      <td>3</td>\n      <td>20</td>\n      <td>28</td>\n      <td>23</td>\n      <td>5</td>\n      <td>No</td>\n      <td>386</td>\n    </tr>\n    <tr>\n      <th>2</th>\n      <td>ACURA RDX</td>\n      <td>3.5</td>\n      <td>6.0</td>\n      <td>SemiAuto-6</td>\n      <td>4WD</td>\n      <td>Gasoline</td>\n      <td>FA</td>\n      <td>T3B125</td>\n      <td>Federal Tier 3 Bin 125</td>\n      <td>JHNXT03.5GV3</td>\n      <td>small SUV</td>\n      <td>3</td>\n      <td>19</td>\n      <td>27</td>\n      <td>22</td>\n      <td>4</td>\n      <td>No</td>\n      <td>402</td>\n    </tr>\n    <tr>\n      <th>3</th>\n      <td>ACURA RDX</td>\n      <td>3.5</td>\n      <td>6.0</td>\n      <td>SemiAuto-6</td>\n      <td>4WD</td>\n      <td>Gasoline</td>\n      <td>CA</td>\n      <td>U2</td>\n      <td>California LEV-II ULEV</td>\n      <td>JHNXT03.5GV3</td>\n      <td>small SUV</td>\n      <td>3</td>\n      <td>19</td>\n      <td>27</td>\n      <td>22</td>\n      <td>4</td>\n      <td>No</td>\n      <td>402</td>\n    </tr>\n    <tr>\n      <th>4</th>\n      <td>ACURA TLX</td>\n      <td>2.4</td>\n      <td>4.0</td>\n      <td>AMS-8</td>\n      <td>2WD</td>\n      <td>Gasoline</td>\n      <td>CA</td>\n      <td>L3ULEV125</td>\n      <td>California LEV-III ULEV125</td>\n      <td>JHNXV02.4WH3</td>\n      <td>small car</td>\n      <td>3</td>\n      <td>23</td>\n      <td>33</td>\n      <td>27</td>\n      <td>6</td>\n      <td>No</td>\n      <td>330</td>\n    </tr>\n  </tbody>\n</table>\n</div>",
      "text/plain": "       Model  Displ  Cyl       Trans Drive      Fuel Cert Region       Stnd  \\\n0  ACURA RDX    3.5  6.0  SemiAuto-6   2WD  Gasoline          FA     T3B125   \n1  ACURA RDX    3.5  6.0  SemiAuto-6   2WD  Gasoline          CA         U2   \n2  ACURA RDX    3.5  6.0  SemiAuto-6   4WD  Gasoline          FA     T3B125   \n3  ACURA RDX    3.5  6.0  SemiAuto-6   4WD  Gasoline          CA         U2   \n4  ACURA TLX    2.4  4.0       AMS-8   2WD  Gasoline          CA  L3ULEV125   \n\n             Stnd Description  Underhood ID  Veh Class  Air Pollution Score  \\\n0      Federal Tier 3 Bin 125  JHNXT03.5GV3  small SUV                    3   \n1      California LEV-II ULEV  JHNXT03.5GV3  small SUV                    3   \n2      Federal Tier 3 Bin 125  JHNXT03.5GV3  small SUV                    3   \n3      California LEV-II ULEV  JHNXT03.5GV3  small SUV                    3   \n4  California LEV-III ULEV125  JHNXV02.4WH3  small car                    3   \n\n  City MPG Hwy MPG Cmb MPG  Greenhouse Gas Score SmartWay Comb CO2  \n0       20      28      23                     5       No      386  \n1       20      28      23                     5       No      386  \n2       19      27      22                     4       No      402  \n3       19      27      22                     4       No      402  \n4       23      33      27                     6       No      330  "
     },
     "execution_count": 1825,
     "metadata": {},
     "output_type": "execute_result"
    }
   ],
   "source": [
    "df_18 = pd.read_csv('all_alpha_18.csv')\n",
    "df_18.head()"
   ]
  },
  {
   "cell_type": "code",
   "execution_count": 1826,
   "metadata": {},
   "outputs": [
    {
     "data": {
      "text/html": "<div>\n<style scoped>\n    .dataframe tbody tr th:only-of-type {\n        vertical-align: middle;\n    }\n\n    .dataframe tbody tr th {\n        vertical-align: top;\n    }\n\n    .dataframe thead th {\n        text-align: right;\n    }\n</style>\n<table border=\"1\" class=\"dataframe\">\n  <thead>\n    <tr style=\"text-align: right;\">\n      <th></th>\n      <th>Displ</th>\n      <th>Cyl</th>\n      <th>Air Pollution Score</th>\n      <th>Greenhouse Gas Score</th>\n    </tr>\n  </thead>\n  <tbody>\n    <tr>\n      <th>count</th>\n      <td>1609.000000</td>\n      <td>1609.000000</td>\n      <td>1611.000000</td>\n      <td>1611.000000</td>\n    </tr>\n    <tr>\n      <th>mean</th>\n      <td>3.055687</td>\n      <td>5.479180</td>\n      <td>3.958411</td>\n      <td>4.711359</td>\n    </tr>\n    <tr>\n      <th>std</th>\n      <td>1.344574</td>\n      <td>1.749121</td>\n      <td>1.824303</td>\n      <td>1.657429</td>\n    </tr>\n    <tr>\n      <th>min</th>\n      <td>1.200000</td>\n      <td>3.000000</td>\n      <td>1.000000</td>\n      <td>1.000000</td>\n    </tr>\n    <tr>\n      <th>25%</th>\n      <td>2.000000</td>\n      <td>4.000000</td>\n      <td>3.000000</td>\n      <td>4.000000</td>\n    </tr>\n    <tr>\n      <th>50%</th>\n      <td>3.000000</td>\n      <td>6.000000</td>\n      <td>3.000000</td>\n      <td>5.000000</td>\n    </tr>\n    <tr>\n      <th>75%</th>\n      <td>3.600000</td>\n      <td>6.000000</td>\n      <td>5.000000</td>\n      <td>6.000000</td>\n    </tr>\n    <tr>\n      <th>max</th>\n      <td>8.000000</td>\n      <td>16.000000</td>\n      <td>10.000000</td>\n      <td>10.000000</td>\n    </tr>\n  </tbody>\n</table>\n</div>",
      "text/plain": "             Displ          Cyl  Air Pollution Score  Greenhouse Gas Score\ncount  1609.000000  1609.000000          1611.000000           1611.000000\nmean      3.055687     5.479180             3.958411              4.711359\nstd       1.344574     1.749121             1.824303              1.657429\nmin       1.200000     3.000000             1.000000              1.000000\n25%       2.000000     4.000000             3.000000              4.000000\n50%       3.000000     6.000000             3.000000              5.000000\n75%       3.600000     6.000000             5.000000              6.000000\nmax       8.000000    16.000000            10.000000             10.000000"
     },
     "execution_count": 1826,
     "metadata": {},
     "output_type": "execute_result"
    }
   ],
   "source": [
    "df_18.describe()"
   ]
  },
  {
   "cell_type": "code",
   "execution_count": 1827,
   "metadata": {},
   "outputs": [
    {
     "data": {
      "text/plain": "(1611, 18)"
     },
     "execution_count": 1827,
     "metadata": {},
     "output_type": "execute_result"
    }
   ],
   "source": [
    "df_18.shape"
   ]
  },
  {
   "cell_type": "code",
   "execution_count": 1828,
   "metadata": {},
   "outputs": [
    {
     "name": "stdout",
     "output_type": "stream",
     "text": "<class 'pandas.core.frame.DataFrame'>\nRangeIndex: 1611 entries, 0 to 1610\nData columns (total 18 columns):\nModel                   1611 non-null object\nDispl                   1609 non-null float64\nCyl                     1609 non-null float64\nTrans                   1611 non-null object\nDrive                   1611 non-null object\nFuel                    1611 non-null object\nCert Region             1611 non-null object\nStnd                    1611 non-null object\nStnd Description        1611 non-null object\nUnderhood ID            1611 non-null object\nVeh Class               1611 non-null object\nAir Pollution Score     1611 non-null int64\nCity MPG                1611 non-null object\nHwy MPG                 1611 non-null object\nCmb MPG                 1611 non-null object\nGreenhouse Gas Score    1611 non-null int64\nSmartWay                1611 non-null object\nComb CO2                1611 non-null object\ndtypes: float64(2), int64(2), object(14)\nmemory usage: 226.7+ KB\n"
    }
   ],
   "source": [
    "df_18.info()"
   ]
  },
  {
   "cell_type": "code",
   "execution_count": 1829,
   "metadata": {},
   "outputs": [
    {
     "data": {
      "text/plain": "2"
     },
     "execution_count": 1829,
     "metadata": {},
     "output_type": "execute_result"
    }
   ],
   "source": [
    "### Finding no of rows with null values\n",
    "df_18.isnull().any(axis=1).sum()\n"
   ]
  },
  {
   "cell_type": "code",
   "execution_count": 1830,
   "metadata": {},
   "outputs": [
    {
     "data": {
      "text/plain": "0"
     },
     "execution_count": 1830,
     "metadata": {},
     "output_type": "execute_result"
    }
   ],
   "source": [
    "### Finding no of duplicated rows\n",
    "sum(df_18.duplicated())"
   ]
  },
  {
   "cell_type": "code",
   "execution_count": 1831,
   "metadata": {},
   "outputs": [
    {
     "data": {
      "text/plain": "3"
     },
     "execution_count": 1831,
     "metadata": {},
     "output_type": "execute_result"
    }
   ],
   "source": [
    "### Finding no of non-null unique values\n",
    "df_18.SmartWay.nunique()"
   ]
  },
  {
   "cell_type": "code",
   "execution_count": 1832,
   "metadata": {},
   "outputs": [
    {
     "data": {
      "text/plain": "2"
     },
     "execution_count": 1832,
     "metadata": {},
     "output_type": "execute_result"
    }
   ],
   "source": [
    "df_18['Cert Region'].nunique()"
   ]
  },
  {
   "cell_type": "code",
   "execution_count": 1833,
   "metadata": {},
   "outputs": [
    {
     "data": {
      "text/plain": "7"
     },
     "execution_count": 1833,
     "metadata": {},
     "output_type": "execute_result"
    }
   ],
   "source": [
    "df_18.Cyl.nunique()"
   ]
  },
  {
   "cell_type": "code",
   "execution_count": 1834,
   "metadata": {},
   "outputs": [
    {
     "data": {
      "text/plain": "False"
     },
     "execution_count": 1834,
     "metadata": {},
     "output_type": "execute_result"
    }
   ],
   "source": [
    "df_18.Fuel.eq('CNG').any()"
   ]
  },
  {
   "cell_type": "code",
   "execution_count": 1835,
   "metadata": {},
   "outputs": [
    {
     "data": {
      "text/plain": "True"
     },
     "execution_count": 1835,
     "metadata": {},
     "output_type": "execute_result"
    }
   ],
   "source": [
    "df_18.Fuel.eq('Gasoline').any()"
   ]
  },
  {
   "cell_type": "code",
   "execution_count": 1836,
   "metadata": {},
   "outputs": [
    {
     "data": {
      "text/plain": "True"
     },
     "execution_count": 1836,
     "metadata": {},
     "output_type": "execute_result"
    }
   ],
   "source": [
    "df_18.Fuel.eq('Ethanol/Gas').any()"
   ]
  },
  {
   "cell_type": "code",
   "execution_count": 1837,
   "metadata": {},
   "outputs": [
    {
     "data": {
      "text/plain": "True"
     },
     "execution_count": 1837,
     "metadata": {},
     "output_type": "execute_result"
    }
   ],
   "source": [
    "df_18.Fuel.eq('Electricity').any()"
   ]
  },
  {
   "cell_type": "code",
   "execution_count": 1838,
   "metadata": {},
   "outputs": [
    {
     "data": {
      "text/plain": "True"
     },
     "execution_count": 1838,
     "metadata": {},
     "output_type": "execute_result"
    }
   ],
   "source": [
    "df_18.Fuel.eq('Gasoline/Electricity').any()"
   ]
  },
  {
   "cell_type": "code",
   "execution_count": 1839,
   "metadata": {},
   "outputs": [
    {
     "data": {
      "text/plain": "True"
     },
     "execution_count": 1839,
     "metadata": {},
     "output_type": "execute_result"
    }
   ],
   "source": [
    "df_08.Fuel.eq('CNG').any()"
   ]
  },
  {
   "cell_type": "code",
   "execution_count": 1840,
   "metadata": {},
   "outputs": [
    {
     "data": {
      "text/plain": "True"
     },
     "execution_count": 1840,
     "metadata": {},
     "output_type": "execute_result"
    }
   ],
   "source": [
    "df_08.Fuel.eq('Gasoline').any()"
   ]
  },
  {
   "cell_type": "code",
   "execution_count": 1841,
   "metadata": {},
   "outputs": [
    {
     "data": {
      "text/plain": "False"
     },
     "execution_count": 1841,
     "metadata": {},
     "output_type": "execute_result"
    }
   ],
   "source": [
    "df_08.Fuel.eq('Ethanol/Gas').any()"
   ]
  },
  {
   "cell_type": "code",
   "execution_count": 1842,
   "metadata": {},
   "outputs": [
    {
     "data": {
      "text/plain": "False"
     },
     "execution_count": 1842,
     "metadata": {},
     "output_type": "execute_result"
    }
   ],
   "source": [
    "df_08.Fuel.eq('Electricity').any()"
   ]
  },
  {
   "cell_type": "code",
   "execution_count": 1843,
   "metadata": {},
   "outputs": [
    {
     "data": {
      "text/plain": "False"
     },
     "execution_count": 1843,
     "metadata": {},
     "output_type": "execute_result"
    }
   ],
   "source": [
    "df_08.Fuel.eq('Gasoline/Electricity').any()"
   ]
  },
  {
   "cell_type": "code",
   "execution_count": 1844,
   "metadata": {},
   "outputs": [
    {
     "data": {
      "text/html": "<div>\n<style scoped>\n    .dataframe tbody tr th:only-of-type {\n        vertical-align: middle;\n    }\n\n    .dataframe tbody tr th {\n        vertical-align: top;\n    }\n\n    .dataframe thead th {\n        text-align: right;\n    }\n</style>\n<table border=\"1\" class=\"dataframe\">\n  <thead>\n    <tr style=\"text-align: right;\">\n      <th></th>\n      <th>Model</th>\n      <th>Displ</th>\n      <th>Cyl</th>\n      <th>Trans</th>\n      <th>Drive</th>\n      <th>Fuel</th>\n      <th>Sales Area</th>\n      <th>Veh Class</th>\n      <th>Air Pollution Score</th>\n      <th>City MPG</th>\n      <th>Hwy MPG</th>\n      <th>Cmb MPG</th>\n      <th>Greenhouse Gas Score</th>\n      <th>SmartWay</th>\n    </tr>\n  </thead>\n  <tbody>\n    <tr>\n      <th>0</th>\n      <td>ACURA MDX</td>\n      <td>3.7</td>\n      <td>(6 cyl)</td>\n      <td>Auto-S5</td>\n      <td>4WD</td>\n      <td>Gasoline</td>\n      <td>CA</td>\n      <td>SUV</td>\n      <td>7</td>\n      <td>15</td>\n      <td>20</td>\n      <td>17</td>\n      <td>4</td>\n      <td>no</td>\n    </tr>\n  </tbody>\n</table>\n</div>",
      "text/plain": "       Model  Displ      Cyl    Trans Drive      Fuel Sales Area Veh Class  \\\n0  ACURA MDX    3.7  (6 cyl)  Auto-S5   4WD  Gasoline         CA       SUV   \n\n  Air Pollution Score City MPG Hwy MPG Cmb MPG Greenhouse Gas Score SmartWay  \n0                   7       15      20      17                    4       no  "
     },
     "execution_count": 1844,
     "metadata": {},
     "output_type": "execute_result"
    }
   ],
   "source": [
    "# dropping columns\n",
    "\n",
    "column_08= ['Stnd', 'Underhood ID', 'FE Calc Appr', 'Unadj Cmb MPG']\n",
    "column_18 = ['Stnd', 'Stnd Description', 'Underhood ID', 'Comb CO2']\n",
    "\n",
    "df_08.drop(column_08,axis=1, inplace=True)\n",
    "df_08.head(1)"
   ]
  },
  {
   "cell_type": "code",
   "execution_count": 1845,
   "metadata": {},
   "outputs": [
    {
     "data": {
      "text/html": "<div>\n<style scoped>\n    .dataframe tbody tr th:only-of-type {\n        vertical-align: middle;\n    }\n\n    .dataframe tbody tr th {\n        vertical-align: top;\n    }\n\n    .dataframe thead th {\n        text-align: right;\n    }\n</style>\n<table border=\"1\" class=\"dataframe\">\n  <thead>\n    <tr style=\"text-align: right;\">\n      <th></th>\n      <th>Model</th>\n      <th>Displ</th>\n      <th>Cyl</th>\n      <th>Trans</th>\n      <th>Drive</th>\n      <th>Fuel</th>\n      <th>Cert Region</th>\n      <th>Veh Class</th>\n      <th>Air Pollution Score</th>\n      <th>City MPG</th>\n      <th>Hwy MPG</th>\n      <th>Cmb MPG</th>\n      <th>Greenhouse Gas Score</th>\n      <th>SmartWay</th>\n    </tr>\n  </thead>\n  <tbody>\n    <tr>\n      <th>0</th>\n      <td>ACURA RDX</td>\n      <td>3.5</td>\n      <td>6.0</td>\n      <td>SemiAuto-6</td>\n      <td>2WD</td>\n      <td>Gasoline</td>\n      <td>FA</td>\n      <td>small SUV</td>\n      <td>3</td>\n      <td>20</td>\n      <td>28</td>\n      <td>23</td>\n      <td>5</td>\n      <td>No</td>\n    </tr>\n  </tbody>\n</table>\n</div>",
      "text/plain": "       Model  Displ  Cyl       Trans Drive      Fuel Cert Region  Veh Class  \\\n0  ACURA RDX    3.5  6.0  SemiAuto-6   2WD  Gasoline          FA  small SUV   \n\n   Air Pollution Score City MPG Hwy MPG Cmb MPG  Greenhouse Gas Score SmartWay  \n0                    3       20      28      23                     5       No  "
     },
     "execution_count": 1845,
     "metadata": {},
     "output_type": "execute_result"
    }
   ],
   "source": [
    "df_18.drop(column_18,axis=1,inplace=True)\n",
    "df_18.head(1)"
   ]
  },
  {
   "cell_type": "code",
   "execution_count": 1846,
   "metadata": {},
   "outputs": [
    {
     "data": {
      "text/html": "<div>\n<style scoped>\n    .dataframe tbody tr th:only-of-type {\n        vertical-align: middle;\n    }\n\n    .dataframe tbody tr th {\n        vertical-align: top;\n    }\n\n    .dataframe thead th {\n        text-align: right;\n    }\n</style>\n<table border=\"1\" class=\"dataframe\">\n  <thead>\n    <tr style=\"text-align: right;\">\n      <th></th>\n      <th>Model</th>\n      <th>Displ</th>\n      <th>Cyl</th>\n      <th>Trans</th>\n      <th>Drive</th>\n      <th>Fuel</th>\n      <th>Cert Region</th>\n      <th>Veh Class</th>\n      <th>Air Pollution Score</th>\n      <th>City MPG</th>\n      <th>Hwy MPG</th>\n      <th>Cmb MPG</th>\n      <th>Greenhouse Gas Score</th>\n      <th>SmartWay</th>\n    </tr>\n  </thead>\n  <tbody>\n    <tr>\n      <th>0</th>\n      <td>ACURA MDX</td>\n      <td>3.7</td>\n      <td>(6 cyl)</td>\n      <td>Auto-S5</td>\n      <td>4WD</td>\n      <td>Gasoline</td>\n      <td>CA</td>\n      <td>SUV</td>\n      <td>7</td>\n      <td>15</td>\n      <td>20</td>\n      <td>17</td>\n      <td>4</td>\n      <td>no</td>\n    </tr>\n  </tbody>\n</table>\n</div>",
      "text/plain": "       Model  Displ      Cyl    Trans Drive      Fuel Cert Region Veh Class  \\\n0  ACURA MDX    3.7  (6 cyl)  Auto-S5   4WD  Gasoline          CA       SUV   \n\n  Air Pollution Score City MPG Hwy MPG Cmb MPG Greenhouse Gas Score SmartWay  \n0                   7       15      20      17                    4       no  "
     },
     "execution_count": 1846,
     "metadata": {},
     "output_type": "execute_result"
    }
   ],
   "source": [
    "#Renameing columns\n",
    "df_08.rename(columns={'Sales Area':'Cert Region'},inplace=True)\n",
    "df_08.head(1)"
   ]
  },
  {
   "cell_type": "code",
   "execution_count": 1847,
   "metadata": {},
   "outputs": [
    {
     "data": {
      "text/html": "<div>\n<style scoped>\n    .dataframe tbody tr th:only-of-type {\n        vertical-align: middle;\n    }\n\n    .dataframe tbody tr th {\n        vertical-align: top;\n    }\n\n    .dataframe thead th {\n        text-align: right;\n    }\n</style>\n<table border=\"1\" class=\"dataframe\">\n  <thead>\n    <tr style=\"text-align: right;\">\n      <th></th>\n      <th>model</th>\n      <th>displ</th>\n      <th>cyl</th>\n      <th>trans</th>\n      <th>drive</th>\n      <th>fuel</th>\n      <th>cert_region</th>\n      <th>veh_class</th>\n      <th>air_pollution_score</th>\n      <th>city_mpg</th>\n      <th>hwy_mpg</th>\n      <th>cmb_mpg</th>\n      <th>greenhouse_gas_score</th>\n      <th>smartway</th>\n    </tr>\n  </thead>\n  <tbody>\n    <tr>\n      <th>0</th>\n      <td>ACURA MDX</td>\n      <td>3.7</td>\n      <td>(6 cyl)</td>\n      <td>Auto-S5</td>\n      <td>4WD</td>\n      <td>Gasoline</td>\n      <td>CA</td>\n      <td>SUV</td>\n      <td>7</td>\n      <td>15</td>\n      <td>20</td>\n      <td>17</td>\n      <td>4</td>\n      <td>no</td>\n    </tr>\n  </tbody>\n</table>\n</div>",
      "text/plain": "       model  displ      cyl    trans drive      fuel cert_region veh_class  \\\n0  ACURA MDX    3.7  (6 cyl)  Auto-S5   4WD  Gasoline          CA       SUV   \n\n  air_pollution_score city_mpg hwy_mpg cmb_mpg greenhouse_gas_score smartway  \n0                   7       15      20      17                    4       no  "
     },
     "execution_count": 1847,
     "metadata": {},
     "output_type": "execute_result"
    }
   ],
   "source": [
    "#Replacing space in column name with underscore\n",
    "df_08.rename(columns = lambda x: x.strip().lower().replace(\" \",\"_\"),inplace=True)\n",
    "df_08.head(1)"
   ]
  },
  {
   "cell_type": "code",
   "execution_count": 1848,
   "metadata": {},
   "outputs": [
    {
     "data": {
      "text/html": "<div>\n<style scoped>\n    .dataframe tbody tr th:only-of-type {\n        vertical-align: middle;\n    }\n\n    .dataframe tbody tr th {\n        vertical-align: top;\n    }\n\n    .dataframe thead th {\n        text-align: right;\n    }\n</style>\n<table border=\"1\" class=\"dataframe\">\n  <thead>\n    <tr style=\"text-align: right;\">\n      <th></th>\n      <th>model</th>\n      <th>displ</th>\n      <th>cyl</th>\n      <th>trans</th>\n      <th>drive</th>\n      <th>fuel</th>\n      <th>cert_region</th>\n      <th>veh_class</th>\n      <th>air_pollution_score</th>\n      <th>city_mpg</th>\n      <th>hwy_mpg</th>\n      <th>cmb_mpg</th>\n      <th>greenhouse_gas_score</th>\n      <th>smartway</th>\n    </tr>\n  </thead>\n  <tbody>\n    <tr>\n      <th>0</th>\n      <td>ACURA RDX</td>\n      <td>3.5</td>\n      <td>6.0</td>\n      <td>SemiAuto-6</td>\n      <td>2WD</td>\n      <td>Gasoline</td>\n      <td>FA</td>\n      <td>small SUV</td>\n      <td>3</td>\n      <td>20</td>\n      <td>28</td>\n      <td>23</td>\n      <td>5</td>\n      <td>No</td>\n    </tr>\n  </tbody>\n</table>\n</div>",
      "text/plain": "       model  displ  cyl       trans drive      fuel cert_region  veh_class  \\\n0  ACURA RDX    3.5  6.0  SemiAuto-6   2WD  Gasoline          FA  small SUV   \n\n   air_pollution_score city_mpg hwy_mpg cmb_mpg  greenhouse_gas_score smartway  \n0                    3       20      28      23                     5       No  "
     },
     "execution_count": 1848,
     "metadata": {},
     "output_type": "execute_result"
    }
   ],
   "source": [
    "df_18.rename(columns = lambda x: x.strip().lower().replace(\" \",\"_\"),inplace=True)\n",
    "df_18.head(1)"
   ]
  },
  {
   "cell_type": "code",
   "execution_count": 1849,
   "metadata": {},
   "outputs": [],
   "source": [
    "df_08.to_csv('data_08_v1.csv', index=False)\n",
    "df_18.to_csv('data_18_v1.csv', index=False)"
   ]
  },
  {
   "cell_type": "code",
   "execution_count": 1850,
   "metadata": {},
   "outputs": [],
   "source": [
    "df08 = pd.read_csv('data_08_v1.csv')\n",
    "df18 = pd.read_csv('data_18_v1.csv')\n"
   ]
  },
  {
   "cell_type": "code",
   "execution_count": 1851,
   "metadata": {},
   "outputs": [
    {
     "data": {
      "text/html": "<div>\n<style scoped>\n    .dataframe tbody tr th:only-of-type {\n        vertical-align: middle;\n    }\n\n    .dataframe tbody tr th {\n        vertical-align: top;\n    }\n\n    .dataframe thead th {\n        text-align: right;\n    }\n</style>\n<table border=\"1\" class=\"dataframe\">\n  <thead>\n    <tr style=\"text-align: right;\">\n      <th></th>\n      <th>model</th>\n      <th>displ</th>\n      <th>cyl</th>\n      <th>trans</th>\n      <th>drive</th>\n      <th>fuel</th>\n      <th>cert_region</th>\n      <th>veh_class</th>\n      <th>air_pollution_score</th>\n      <th>city_mpg</th>\n      <th>hwy_mpg</th>\n      <th>cmb_mpg</th>\n      <th>greenhouse_gas_score</th>\n      <th>smartway</th>\n    </tr>\n  </thead>\n  <tbody>\n    <tr>\n      <th>0</th>\n      <td>ACURA MDX</td>\n      <td>3.7</td>\n      <td>(6 cyl)</td>\n      <td>Auto-S5</td>\n      <td>4WD</td>\n      <td>Gasoline</td>\n      <td>CA</td>\n      <td>SUV</td>\n      <td>7</td>\n      <td>15</td>\n      <td>20</td>\n      <td>17</td>\n      <td>4</td>\n      <td>no</td>\n    </tr>\n  </tbody>\n</table>\n</div>",
      "text/plain": "       model  displ      cyl    trans drive      fuel cert_region veh_class  \\\n0  ACURA MDX    3.7  (6 cyl)  Auto-S5   4WD  Gasoline          CA       SUV   \n\n  air_pollution_score city_mpg hwy_mpg cmb_mpg greenhouse_gas_score smartway  \n0                   7       15      20      17                    4       no  "
     },
     "execution_count": 1851,
     "metadata": {},
     "output_type": "execute_result"
    }
   ],
   "source": [
    "# filtering with column values\n",
    "df08.query('cert_region == \"CA\"',inplace=True)\n",
    "df08.head(1)"
   ]
  },
  {
   "cell_type": "code",
   "execution_count": 1852,
   "metadata": {},
   "outputs": [
    {
     "data": {
      "text/html": "<div>\n<style scoped>\n    .dataframe tbody tr th:only-of-type {\n        vertical-align: middle;\n    }\n\n    .dataframe tbody tr th {\n        vertical-align: top;\n    }\n\n    .dataframe thead th {\n        text-align: right;\n    }\n</style>\n<table border=\"1\" class=\"dataframe\">\n  <thead>\n    <tr style=\"text-align: right;\">\n      <th></th>\n      <th>model</th>\n      <th>displ</th>\n      <th>cyl</th>\n      <th>trans</th>\n      <th>drive</th>\n      <th>fuel</th>\n      <th>cert_region</th>\n      <th>veh_class</th>\n      <th>air_pollution_score</th>\n      <th>city_mpg</th>\n      <th>hwy_mpg</th>\n      <th>cmb_mpg</th>\n      <th>greenhouse_gas_score</th>\n      <th>smartway</th>\n    </tr>\n  </thead>\n  <tbody>\n    <tr>\n      <th>1</th>\n      <td>ACURA RDX</td>\n      <td>3.5</td>\n      <td>6.0</td>\n      <td>SemiAuto-6</td>\n      <td>2WD</td>\n      <td>Gasoline</td>\n      <td>CA</td>\n      <td>small SUV</td>\n      <td>3</td>\n      <td>20</td>\n      <td>28</td>\n      <td>23</td>\n      <td>5</td>\n      <td>No</td>\n    </tr>\n  </tbody>\n</table>\n</div>",
      "text/plain": "       model  displ  cyl       trans drive      fuel cert_region  veh_class  \\\n1  ACURA RDX    3.5  6.0  SemiAuto-6   2WD  Gasoline          CA  small SUV   \n\n   air_pollution_score city_mpg hwy_mpg cmb_mpg  greenhouse_gas_score smartway  \n1                    3       20      28      23                     5       No  "
     },
     "execution_count": 1852,
     "metadata": {},
     "output_type": "execute_result"
    }
   ],
   "source": [
    "df18.query('cert_region == \"CA\"',inplace=True)\n",
    "df18.head(1)"
   ]
  },
  {
   "cell_type": "code",
   "execution_count": 0,
   "metadata": {},
   "outputs": [],
   "source": [
    "#Drop columns with cert_region\n",
    "df08.drop(['cert_region'],axis=1,inplace=True)\n",
    "df18.drop(['cert_region'],axis=1,inplace=True)\n",
    "\n"
   ]
  },
  {
   "cell_type": "code",
   "execution_count": 0,
   "metadata": {},
   "outputs": [],
   "source": [
    "df08.head(1)"
   ]
  },
  {
   "cell_type": "code",
   "execution_count": 0,
   "metadata": {},
   "outputs": [],
   "source": [
    "df18.head(1)"
   ]
  },
  {
   "cell_type": "code",
   "execution_count": 0,
   "metadata": {},
   "outputs": [],
   "source": [
    "##Find missing values in each column\n",
    "\n",
    "df08.isnull().sum()"
   ]
  },
  {
   "cell_type": "code",
   "execution_count": 0,
   "metadata": {},
   "outputs": [],
   "source": [
    "df18.isnull().sum()"
   ]
  },
  {
   "cell_type": "code",
   "execution_count": 0,
   "metadata": {},
   "outputs": [],
   "source": [
    "    ## drop rows with any null value\n",
    "    df08.dropna(inplace=True)\n",
    "    df18.dropna(inplace=True)\n"
   ]
  },
  {
   "cell_type": "code",
   "execution_count": 0,
   "metadata": {},
   "outputs": [],
   "source": [
    "df08.isnull().sum().any()"
   ]
  },
  {
   "cell_type": "code",
   "execution_count": 0,
   "metadata": {},
   "outputs": [],
   "source": [
    "df18.isnull().sum().any()"
   ]
  },
  {
   "cell_type": "code",
   "execution_count": 0,
   "metadata": {},
   "outputs": [],
   "source": [
    "## Drop duplicates\n",
    "df08.drop_duplicates(inplace=True)\n",
    "df08.duplicated().sum()"
   ]
  },
  {
   "cell_type": "code",
   "execution_count": 0,
   "metadata": {},
   "outputs": [],
   "source": [
    "\n",
    "df18.drop_duplicates(inplace=True)\n",
    "df18.duplicated().sum()\n"
   ]
  },
  {
   "cell_type": "code",
   "execution_count": 0,
   "metadata": {},
   "outputs": [],
   "source": [
    "## Extract integer from string values\n",
    "\n",
    "df08['cyl'] = df08['cyl'].str.extract('(\\d+)').astype(int)\n",
    "df08.head()"
   ]
  },
  {
   "cell_type": "code",
   "execution_count": 0,
   "metadata": {},
   "outputs": [],
   "source": [
    "df08['cyl'].value_counts()"
   ]
  },
  {
   "cell_type": "code",
   "execution_count": 0,
   "metadata": {},
   "outputs": [],
   "source": [
    "df18['cyl']=df18['cyl'].astype(int)\n",
    "df18.head()"
   ]
  },
  {
   "cell_type": "code",
   "execution_count": 0,
   "metadata": {},
   "outputs": [],
   "source": [
    "df18.info()"
   ]
  },
  {
   "cell_type": "code",
   "execution_count": null,
   "metadata": {},
   "outputs": [],
   "source": []
  },
  {
   "cell_type": "code",
   "execution_count": null,
   "metadata": {},
   "outputs": [],
   "source": []
  }
 ]
}