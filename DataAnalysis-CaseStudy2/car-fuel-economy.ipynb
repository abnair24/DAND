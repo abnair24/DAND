{
 "nbformat": 4,
 "nbformat_minor": 2,
 "metadata": {
  "language_info": {
   "name": "python",
   "codemirror_mode": {
    "name": "ipython",
    "version": 3
   },
   "version": "3.8.0-final"
  },
  "orig_nbformat": 2,
  "file_extension": ".py",
  "mimetype": "text/x-python",
  "name": "python",
  "npconvert_exporter": "python",
  "pygments_lexer": "ipython3",
  "version": 3,
  "kernelspec": {
   "name": "python38064bit3b635276ab954b06b6ad471ae64bf7e1",
   "display_name": "Python 3.8.0 64-bit"
  }
 },
 "cells": [
  {
   "cell_type": "code",
   "execution_count": 719,
   "metadata": {},
   "outputs": [],
   "source": [
    "import pandas as pd \n",
    "import numpy as np \n",
    "import matplotlib.pyplot as plt \n"
   ]
  },
  {
   "cell_type": "code",
   "execution_count": 720,
   "metadata": {},
   "outputs": [
    {
     "data": {
      "text/html": "<div>\n<style scoped>\n    .dataframe tbody tr th:only-of-type {\n        vertical-align: middle;\n    }\n\n    .dataframe tbody tr th {\n        vertical-align: top;\n    }\n\n    .dataframe thead th {\n        text-align: right;\n    }\n</style>\n<table border=\"1\" class=\"dataframe\">\n  <thead>\n    <tr style=\"text-align: right;\">\n      <th></th>\n      <th>Model</th>\n      <th>Displ</th>\n      <th>Cyl</th>\n      <th>Trans</th>\n      <th>Drive</th>\n      <th>Fuel</th>\n      <th>Sales Area</th>\n      <th>Stnd</th>\n      <th>Underhood ID</th>\n      <th>Veh Class</th>\n      <th>Air Pollution Score</th>\n      <th>FE Calc Appr</th>\n      <th>City MPG</th>\n      <th>Hwy MPG</th>\n      <th>Cmb MPG</th>\n      <th>Unadj Cmb MPG</th>\n      <th>Greenhouse Gas Score</th>\n      <th>SmartWay</th>\n    </tr>\n  </thead>\n  <tbody>\n    <tr>\n      <th>0</th>\n      <td>ACURA MDX</td>\n      <td>3.7</td>\n      <td>(6 cyl)</td>\n      <td>Auto-S5</td>\n      <td>4WD</td>\n      <td>Gasoline</td>\n      <td>CA</td>\n      <td>U2</td>\n      <td>8HNXT03.7PKR</td>\n      <td>SUV</td>\n      <td>7</td>\n      <td>Drv</td>\n      <td>15</td>\n      <td>20</td>\n      <td>17</td>\n      <td>22.0527</td>\n      <td>4</td>\n      <td>no</td>\n    </tr>\n    <tr>\n      <th>1</th>\n      <td>ACURA MDX</td>\n      <td>3.7</td>\n      <td>(6 cyl)</td>\n      <td>Auto-S5</td>\n      <td>4WD</td>\n      <td>Gasoline</td>\n      <td>FA</td>\n      <td>B5</td>\n      <td>8HNXT03.7PKR</td>\n      <td>SUV</td>\n      <td>6</td>\n      <td>Drv</td>\n      <td>15</td>\n      <td>20</td>\n      <td>17</td>\n      <td>22.0527</td>\n      <td>4</td>\n      <td>no</td>\n    </tr>\n    <tr>\n      <th>2</th>\n      <td>ACURA RDX</td>\n      <td>2.3</td>\n      <td>(4 cyl)</td>\n      <td>Auto-S5</td>\n      <td>4WD</td>\n      <td>Gasoline</td>\n      <td>CA</td>\n      <td>U2</td>\n      <td>8HNXT02.3DKR</td>\n      <td>SUV</td>\n      <td>7</td>\n      <td>Drv</td>\n      <td>17</td>\n      <td>22</td>\n      <td>19</td>\n      <td>24.1745</td>\n      <td>5</td>\n      <td>no</td>\n    </tr>\n    <tr>\n      <th>3</th>\n      <td>ACURA RDX</td>\n      <td>2.3</td>\n      <td>(4 cyl)</td>\n      <td>Auto-S5</td>\n      <td>4WD</td>\n      <td>Gasoline</td>\n      <td>FA</td>\n      <td>B5</td>\n      <td>8HNXT02.3DKR</td>\n      <td>SUV</td>\n      <td>6</td>\n      <td>Drv</td>\n      <td>17</td>\n      <td>22</td>\n      <td>19</td>\n      <td>24.1745</td>\n      <td>5</td>\n      <td>no</td>\n    </tr>\n    <tr>\n      <th>4</th>\n      <td>ACURA RL</td>\n      <td>3.5</td>\n      <td>(6 cyl)</td>\n      <td>Auto-S5</td>\n      <td>4WD</td>\n      <td>Gasoline</td>\n      <td>CA</td>\n      <td>U2</td>\n      <td>8HNXV03.5HKR</td>\n      <td>midsize car</td>\n      <td>7</td>\n      <td>Drv</td>\n      <td>16</td>\n      <td>24</td>\n      <td>19</td>\n      <td>24.5629</td>\n      <td>5</td>\n      <td>no</td>\n    </tr>\n  </tbody>\n</table>\n</div>",
      "text/plain": "       Model  Displ      Cyl    Trans Drive      Fuel Sales Area Stnd  \\\n0  ACURA MDX    3.7  (6 cyl)  Auto-S5   4WD  Gasoline         CA   U2   \n1  ACURA MDX    3.7  (6 cyl)  Auto-S5   4WD  Gasoline         FA   B5   \n2  ACURA RDX    2.3  (4 cyl)  Auto-S5   4WD  Gasoline         CA   U2   \n3  ACURA RDX    2.3  (4 cyl)  Auto-S5   4WD  Gasoline         FA   B5   \n4   ACURA RL    3.5  (6 cyl)  Auto-S5   4WD  Gasoline         CA   U2   \n\n   Underhood ID    Veh Class Air Pollution Score FE Calc Appr City MPG  \\\n0  8HNXT03.7PKR          SUV                   7          Drv       15   \n1  8HNXT03.7PKR          SUV                   6          Drv       15   \n2  8HNXT02.3DKR          SUV                   7          Drv       17   \n3  8HNXT02.3DKR          SUV                   6          Drv       17   \n4  8HNXV03.5HKR  midsize car                   7          Drv       16   \n\n  Hwy MPG Cmb MPG  Unadj Cmb MPG Greenhouse Gas Score SmartWay  \n0      20      17        22.0527                    4       no  \n1      20      17        22.0527                    4       no  \n2      22      19        24.1745                    5       no  \n3      22      19        24.1745                    5       no  \n4      24      19        24.5629                    5       no  "
     },
     "execution_count": 720,
     "metadata": {},
     "output_type": "execute_result"
    }
   ],
   "source": [
    "df_08 = pd.read_csv('all_alpha_08.csv')\n",
    "df_08.head()\n"
   ]
  },
  {
   "cell_type": "code",
   "execution_count": 721,
   "metadata": {},
   "outputs": [
    {
     "data": {
      "text/html": "<div>\n<style scoped>\n    .dataframe tbody tr th:only-of-type {\n        vertical-align: middle;\n    }\n\n    .dataframe tbody tr th {\n        vertical-align: top;\n    }\n\n    .dataframe thead th {\n        text-align: right;\n    }\n</style>\n<table border=\"1\" class=\"dataframe\">\n  <thead>\n    <tr style=\"text-align: right;\">\n      <th></th>\n      <th>Displ</th>\n      <th>Unadj Cmb MPG</th>\n    </tr>\n  </thead>\n  <tbody>\n    <tr>\n      <th>count</th>\n      <td>2404.000000</td>\n      <td>2205.000000</td>\n    </tr>\n    <tr>\n      <th>mean</th>\n      <td>3.748918</td>\n      <td>23.916104</td>\n    </tr>\n    <tr>\n      <th>std</th>\n      <td>1.335785</td>\n      <td>6.366170</td>\n    </tr>\n    <tr>\n      <th>min</th>\n      <td>1.300000</td>\n      <td>10.018400</td>\n    </tr>\n    <tr>\n      <th>25%</th>\n      <td>2.500000</td>\n      <td>19.113900</td>\n    </tr>\n    <tr>\n      <th>50%</th>\n      <td>3.500000</td>\n      <td>23.921300</td>\n    </tr>\n    <tr>\n      <th>75%</th>\n      <td>4.800000</td>\n      <td>27.869300</td>\n    </tr>\n    <tr>\n      <th>max</th>\n      <td>8.400000</td>\n      <td>65.777800</td>\n    </tr>\n  </tbody>\n</table>\n</div>",
      "text/plain": "             Displ  Unadj Cmb MPG\ncount  2404.000000    2205.000000\nmean      3.748918      23.916104\nstd       1.335785       6.366170\nmin       1.300000      10.018400\n25%       2.500000      19.113900\n50%       3.500000      23.921300\n75%       4.800000      27.869300\nmax       8.400000      65.777800"
     },
     "execution_count": 721,
     "metadata": {},
     "output_type": "execute_result"
    }
   ],
   "source": [
    "df_08.describe()"
   ]
  },
  {
   "cell_type": "code",
   "execution_count": 722,
   "metadata": {},
   "outputs": [
    {
     "data": {
      "text/plain": "(2404, 18)"
     },
     "execution_count": 722,
     "metadata": {},
     "output_type": "execute_result"
    }
   ],
   "source": [
    "df_08.shape"
   ]
  },
  {
   "cell_type": "code",
   "execution_count": 723,
   "metadata": {},
   "outputs": [
    {
     "name": "stdout",
     "output_type": "stream",
     "text": "<class 'pandas.core.frame.DataFrame'>\nRangeIndex: 2404 entries, 0 to 2403\nData columns (total 18 columns):\nModel                   2404 non-null object\nDispl                   2404 non-null float64\nCyl                     2205 non-null object\nTrans                   2205 non-null object\nDrive                   2311 non-null object\nFuel                    2404 non-null object\nSales Area              2404 non-null object\nStnd                    2404 non-null object\nUnderhood ID            2404 non-null object\nVeh Class               2404 non-null object\nAir Pollution Score     2404 non-null object\nFE Calc Appr            2205 non-null object\nCity MPG                2205 non-null object\nHwy MPG                 2205 non-null object\nCmb MPG                 2205 non-null object\nUnadj Cmb MPG           2205 non-null float64\nGreenhouse Gas Score    2205 non-null object\nSmartWay                2404 non-null object\ndtypes: float64(2), object(16)\nmemory usage: 338.2+ KB\n"
    }
   ],
   "source": [
    "df_08.info()"
   ]
  },
  {
   "cell_type": "code",
   "execution_count": 724,
   "metadata": {},
   "outputs": [
    {
     "data": {
      "text/plain": "2"
     },
     "execution_count": 724,
     "metadata": {},
     "output_type": "execute_result"
    }
   ],
   "source": [
    "### Finding no of non-null unique values\n",
    "df_08.SmartWay.nunique()"
   ]
  },
  {
   "cell_type": "code",
   "execution_count": 725,
   "metadata": {},
   "outputs": [
    {
     "data": {
      "text/plain": "3"
     },
     "execution_count": 725,
     "metadata": {},
     "output_type": "execute_result"
    }
   ],
   "source": [
    "df_08['Sales Area'].nunique()"
   ]
  },
  {
   "cell_type": "code",
   "execution_count": 726,
   "metadata": {},
   "outputs": [
    {
     "data": {
      "text/plain": "14"
     },
     "execution_count": 726,
     "metadata": {},
     "output_type": "execute_result"
    }
   ],
   "source": [
    "df_08.Trans.nunique()"
   ]
  },
  {
   "cell_type": "code",
   "execution_count": 727,
   "metadata": {},
   "outputs": [
    {
     "data": {
      "text/plain": "8"
     },
     "execution_count": 727,
     "metadata": {},
     "output_type": "execute_result"
    }
   ],
   "source": [
    "df_08.Cyl.nunique()"
   ]
  },
  {
   "cell_type": "code",
   "execution_count": 728,
   "metadata": {},
   "outputs": [
    {
     "data": {
      "text/plain": "199"
     },
     "execution_count": 728,
     "metadata": {},
     "output_type": "execute_result"
    }
   ],
   "source": [
    "### Finding no of rows with null values\n",
    "df_08.isnull().any(axis=1).sum()\n"
   ]
  },
  {
   "cell_type": "code",
   "execution_count": 729,
   "metadata": {},
   "outputs": [
    {
     "data": {
      "text/plain": "25"
     },
     "execution_count": 729,
     "metadata": {},
     "output_type": "execute_result"
    }
   ],
   "source": [
    "### Finding no of duplicated values\n",
    "sum(df_08.duplicated())"
   ]
  },
  {
   "cell_type": "code",
   "execution_count": 730,
   "metadata": {},
   "outputs": [
    {
     "data": {
      "text/html": "<div>\n<style scoped>\n    .dataframe tbody tr th:only-of-type {\n        vertical-align: middle;\n    }\n\n    .dataframe tbody tr th {\n        vertical-align: top;\n    }\n\n    .dataframe thead th {\n        text-align: right;\n    }\n</style>\n<table border=\"1\" class=\"dataframe\">\n  <thead>\n    <tr style=\"text-align: right;\">\n      <th></th>\n      <th>Model</th>\n      <th>Displ</th>\n      <th>Cyl</th>\n      <th>Trans</th>\n      <th>Drive</th>\n      <th>Fuel</th>\n      <th>Cert Region</th>\n      <th>Stnd</th>\n      <th>Stnd Description</th>\n      <th>Underhood ID</th>\n      <th>Veh Class</th>\n      <th>Air Pollution Score</th>\n      <th>City MPG</th>\n      <th>Hwy MPG</th>\n      <th>Cmb MPG</th>\n      <th>Greenhouse Gas Score</th>\n      <th>SmartWay</th>\n      <th>Comb CO2</th>\n    </tr>\n  </thead>\n  <tbody>\n    <tr>\n      <th>0</th>\n      <td>ACURA RDX</td>\n      <td>3.5</td>\n      <td>6.0</td>\n      <td>SemiAuto-6</td>\n      <td>2WD</td>\n      <td>Gasoline</td>\n      <td>FA</td>\n      <td>T3B125</td>\n      <td>Federal Tier 3 Bin 125</td>\n      <td>JHNXT03.5GV3</td>\n      <td>small SUV</td>\n      <td>3</td>\n      <td>20</td>\n      <td>28</td>\n      <td>23</td>\n      <td>5</td>\n      <td>No</td>\n      <td>386</td>\n    </tr>\n    <tr>\n      <th>1</th>\n      <td>ACURA RDX</td>\n      <td>3.5</td>\n      <td>6.0</td>\n      <td>SemiAuto-6</td>\n      <td>2WD</td>\n      <td>Gasoline</td>\n      <td>CA</td>\n      <td>U2</td>\n      <td>California LEV-II ULEV</td>\n      <td>JHNXT03.5GV3</td>\n      <td>small SUV</td>\n      <td>3</td>\n      <td>20</td>\n      <td>28</td>\n      <td>23</td>\n      <td>5</td>\n      <td>No</td>\n      <td>386</td>\n    </tr>\n    <tr>\n      <th>2</th>\n      <td>ACURA RDX</td>\n      <td>3.5</td>\n      <td>6.0</td>\n      <td>SemiAuto-6</td>\n      <td>4WD</td>\n      <td>Gasoline</td>\n      <td>FA</td>\n      <td>T3B125</td>\n      <td>Federal Tier 3 Bin 125</td>\n      <td>JHNXT03.5GV3</td>\n      <td>small SUV</td>\n      <td>3</td>\n      <td>19</td>\n      <td>27</td>\n      <td>22</td>\n      <td>4</td>\n      <td>No</td>\n      <td>402</td>\n    </tr>\n    <tr>\n      <th>3</th>\n      <td>ACURA RDX</td>\n      <td>3.5</td>\n      <td>6.0</td>\n      <td>SemiAuto-6</td>\n      <td>4WD</td>\n      <td>Gasoline</td>\n      <td>CA</td>\n      <td>U2</td>\n      <td>California LEV-II ULEV</td>\n      <td>JHNXT03.5GV3</td>\n      <td>small SUV</td>\n      <td>3</td>\n      <td>19</td>\n      <td>27</td>\n      <td>22</td>\n      <td>4</td>\n      <td>No</td>\n      <td>402</td>\n    </tr>\n    <tr>\n      <th>4</th>\n      <td>ACURA TLX</td>\n      <td>2.4</td>\n      <td>4.0</td>\n      <td>AMS-8</td>\n      <td>2WD</td>\n      <td>Gasoline</td>\n      <td>CA</td>\n      <td>L3ULEV125</td>\n      <td>California LEV-III ULEV125</td>\n      <td>JHNXV02.4WH3</td>\n      <td>small car</td>\n      <td>3</td>\n      <td>23</td>\n      <td>33</td>\n      <td>27</td>\n      <td>6</td>\n      <td>No</td>\n      <td>330</td>\n    </tr>\n  </tbody>\n</table>\n</div>",
      "text/plain": "       Model  Displ  Cyl       Trans Drive      Fuel Cert Region       Stnd  \\\n0  ACURA RDX    3.5  6.0  SemiAuto-6   2WD  Gasoline          FA     T3B125   \n1  ACURA RDX    3.5  6.0  SemiAuto-6   2WD  Gasoline          CA         U2   \n2  ACURA RDX    3.5  6.0  SemiAuto-6   4WD  Gasoline          FA     T3B125   \n3  ACURA RDX    3.5  6.0  SemiAuto-6   4WD  Gasoline          CA         U2   \n4  ACURA TLX    2.4  4.0       AMS-8   2WD  Gasoline          CA  L3ULEV125   \n\n             Stnd Description  Underhood ID  Veh Class  Air Pollution Score  \\\n0      Federal Tier 3 Bin 125  JHNXT03.5GV3  small SUV                    3   \n1      California LEV-II ULEV  JHNXT03.5GV3  small SUV                    3   \n2      Federal Tier 3 Bin 125  JHNXT03.5GV3  small SUV                    3   \n3      California LEV-II ULEV  JHNXT03.5GV3  small SUV                    3   \n4  California LEV-III ULEV125  JHNXV02.4WH3  small car                    3   \n\n  City MPG Hwy MPG Cmb MPG  Greenhouse Gas Score SmartWay Comb CO2  \n0       20      28      23                     5       No      386  \n1       20      28      23                     5       No      386  \n2       19      27      22                     4       No      402  \n3       19      27      22                     4       No      402  \n4       23      33      27                     6       No      330  "
     },
     "execution_count": 730,
     "metadata": {},
     "output_type": "execute_result"
    }
   ],
   "source": [
    "df_18 = pd.read_csv('all_alpha_18.csv')\n",
    "df_18.head()"
   ]
  },
  {
   "cell_type": "code",
   "execution_count": 731,
   "metadata": {},
   "outputs": [
    {
     "data": {
      "text/html": "<div>\n<style scoped>\n    .dataframe tbody tr th:only-of-type {\n        vertical-align: middle;\n    }\n\n    .dataframe tbody tr th {\n        vertical-align: top;\n    }\n\n    .dataframe thead th {\n        text-align: right;\n    }\n</style>\n<table border=\"1\" class=\"dataframe\">\n  <thead>\n    <tr style=\"text-align: right;\">\n      <th></th>\n      <th>Displ</th>\n      <th>Cyl</th>\n      <th>Air Pollution Score</th>\n      <th>Greenhouse Gas Score</th>\n    </tr>\n  </thead>\n  <tbody>\n    <tr>\n      <th>count</th>\n      <td>1609.000000</td>\n      <td>1609.000000</td>\n      <td>1611.000000</td>\n      <td>1611.000000</td>\n    </tr>\n    <tr>\n      <th>mean</th>\n      <td>3.055687</td>\n      <td>5.479180</td>\n      <td>3.958411</td>\n      <td>4.711359</td>\n    </tr>\n    <tr>\n      <th>std</th>\n      <td>1.344574</td>\n      <td>1.749121</td>\n      <td>1.824303</td>\n      <td>1.657429</td>\n    </tr>\n    <tr>\n      <th>min</th>\n      <td>1.200000</td>\n      <td>3.000000</td>\n      <td>1.000000</td>\n      <td>1.000000</td>\n    </tr>\n    <tr>\n      <th>25%</th>\n      <td>2.000000</td>\n      <td>4.000000</td>\n      <td>3.000000</td>\n      <td>4.000000</td>\n    </tr>\n    <tr>\n      <th>50%</th>\n      <td>3.000000</td>\n      <td>6.000000</td>\n      <td>3.000000</td>\n      <td>5.000000</td>\n    </tr>\n    <tr>\n      <th>75%</th>\n      <td>3.600000</td>\n      <td>6.000000</td>\n      <td>5.000000</td>\n      <td>6.000000</td>\n    </tr>\n    <tr>\n      <th>max</th>\n      <td>8.000000</td>\n      <td>16.000000</td>\n      <td>10.000000</td>\n      <td>10.000000</td>\n    </tr>\n  </tbody>\n</table>\n</div>",
      "text/plain": "             Displ          Cyl  Air Pollution Score  Greenhouse Gas Score\ncount  1609.000000  1609.000000          1611.000000           1611.000000\nmean      3.055687     5.479180             3.958411              4.711359\nstd       1.344574     1.749121             1.824303              1.657429\nmin       1.200000     3.000000             1.000000              1.000000\n25%       2.000000     4.000000             3.000000              4.000000\n50%       3.000000     6.000000             3.000000              5.000000\n75%       3.600000     6.000000             5.000000              6.000000\nmax       8.000000    16.000000            10.000000             10.000000"
     },
     "execution_count": 731,
     "metadata": {},
     "output_type": "execute_result"
    }
   ],
   "source": [
    "df_18.describe()"
   ]
  },
  {
   "cell_type": "code",
   "execution_count": 732,
   "metadata": {},
   "outputs": [
    {
     "data": {
      "text/plain": "(1611, 18)"
     },
     "execution_count": 732,
     "metadata": {},
     "output_type": "execute_result"
    }
   ],
   "source": [
    "df_18.shape"
   ]
  },
  {
   "cell_type": "code",
   "execution_count": 733,
   "metadata": {},
   "outputs": [
    {
     "name": "stdout",
     "output_type": "stream",
     "text": "<class 'pandas.core.frame.DataFrame'>\nRangeIndex: 1611 entries, 0 to 1610\nData columns (total 18 columns):\nModel                   1611 non-null object\nDispl                   1609 non-null float64\nCyl                     1609 non-null float64\nTrans                   1611 non-null object\nDrive                   1611 non-null object\nFuel                    1611 non-null object\nCert Region             1611 non-null object\nStnd                    1611 non-null object\nStnd Description        1611 non-null object\nUnderhood ID            1611 non-null object\nVeh Class               1611 non-null object\nAir Pollution Score     1611 non-null int64\nCity MPG                1611 non-null object\nHwy MPG                 1611 non-null object\nCmb MPG                 1611 non-null object\nGreenhouse Gas Score    1611 non-null int64\nSmartWay                1611 non-null object\nComb CO2                1611 non-null object\ndtypes: float64(2), int64(2), object(14)\nmemory usage: 226.7+ KB\n"
    }
   ],
   "source": [
    "df_18.info()"
   ]
  },
  {
   "cell_type": "code",
   "execution_count": 734,
   "metadata": {},
   "outputs": [
    {
     "data": {
      "text/plain": "2"
     },
     "execution_count": 734,
     "metadata": {},
     "output_type": "execute_result"
    }
   ],
   "source": [
    "### Finding no of rows with null values\n",
    "df_18.isnull().any(axis=1).sum()\n"
   ]
  },
  {
   "cell_type": "code",
   "execution_count": 735,
   "metadata": {},
   "outputs": [
    {
     "data": {
      "text/plain": "0"
     },
     "execution_count": 735,
     "metadata": {},
     "output_type": "execute_result"
    }
   ],
   "source": [
    "### Finding no of duplicated rows\n",
    "sum(df_18.duplicated())"
   ]
  },
  {
   "cell_type": "code",
   "execution_count": 736,
   "metadata": {},
   "outputs": [
    {
     "data": {
      "text/plain": "3"
     },
     "execution_count": 736,
     "metadata": {},
     "output_type": "execute_result"
    }
   ],
   "source": [
    "### Finding no of non-null unique values\n",
    "df_18.SmartWay.nunique()"
   ]
  },
  {
   "cell_type": "code",
   "execution_count": 737,
   "metadata": {},
   "outputs": [
    {
     "data": {
      "text/plain": "2"
     },
     "execution_count": 737,
     "metadata": {},
     "output_type": "execute_result"
    }
   ],
   "source": [
    "df_18['Cert Region'].nunique()"
   ]
  },
  {
   "cell_type": "code",
   "execution_count": 738,
   "metadata": {},
   "outputs": [
    {
     "data": {
      "text/plain": "7"
     },
     "execution_count": 738,
     "metadata": {},
     "output_type": "execute_result"
    }
   ],
   "source": [
    "df_18.Cyl.nunique()"
   ]
  },
  {
   "cell_type": "code",
   "execution_count": 739,
   "metadata": {},
   "outputs": [
    {
     "data": {
      "text/plain": "False"
     },
     "execution_count": 739,
     "metadata": {},
     "output_type": "execute_result"
    }
   ],
   "source": [
    "df_18.Fuel.eq('CNG').any()"
   ]
  },
  {
   "cell_type": "code",
   "execution_count": 740,
   "metadata": {},
   "outputs": [
    {
     "data": {
      "text/plain": "True"
     },
     "execution_count": 740,
     "metadata": {},
     "output_type": "execute_result"
    }
   ],
   "source": [
    "df_18.Fuel.eq('Gasoline').any()"
   ]
  },
  {
   "cell_type": "code",
   "execution_count": 741,
   "metadata": {},
   "outputs": [
    {
     "data": {
      "text/plain": "True"
     },
     "execution_count": 741,
     "metadata": {},
     "output_type": "execute_result"
    }
   ],
   "source": [
    "df_18.Fuel.eq('Ethanol/Gas').any()"
   ]
  },
  {
   "cell_type": "code",
   "execution_count": 742,
   "metadata": {},
   "outputs": [
    {
     "data": {
      "text/plain": "True"
     },
     "execution_count": 742,
     "metadata": {},
     "output_type": "execute_result"
    }
   ],
   "source": [
    "df_18.Fuel.eq('Electricity').any()"
   ]
  },
  {
   "cell_type": "code",
   "execution_count": 743,
   "metadata": {},
   "outputs": [
    {
     "data": {
      "text/plain": "True"
     },
     "execution_count": 743,
     "metadata": {},
     "output_type": "execute_result"
    }
   ],
   "source": [
    "df_18.Fuel.eq('Gasoline/Electricity').any()"
   ]
  },
  {
   "cell_type": "code",
   "execution_count": 744,
   "metadata": {},
   "outputs": [
    {
     "data": {
      "text/plain": "True"
     },
     "execution_count": 744,
     "metadata": {},
     "output_type": "execute_result"
    }
   ],
   "source": [
    "df_08.Fuel.eq('CNG').any()"
   ]
  },
  {
   "cell_type": "code",
   "execution_count": 745,
   "metadata": {},
   "outputs": [
    {
     "data": {
      "text/plain": "True"
     },
     "execution_count": 745,
     "metadata": {},
     "output_type": "execute_result"
    }
   ],
   "source": [
    "df_08.Fuel.eq('Gasoline').any()"
   ]
  },
  {
   "cell_type": "code",
   "execution_count": 746,
   "metadata": {},
   "outputs": [
    {
     "data": {
      "text/plain": "False"
     },
     "execution_count": 746,
     "metadata": {},
     "output_type": "execute_result"
    }
   ],
   "source": [
    "df_08.Fuel.eq('Ethanol/Gas').any()"
   ]
  },
  {
   "cell_type": "code",
   "execution_count": 747,
   "metadata": {},
   "outputs": [
    {
     "data": {
      "text/plain": "False"
     },
     "execution_count": 747,
     "metadata": {},
     "output_type": "execute_result"
    }
   ],
   "source": [
    "df_08.Fuel.eq('Electricity').any()"
   ]
  },
  {
   "cell_type": "code",
   "execution_count": 748,
   "metadata": {},
   "outputs": [
    {
     "data": {
      "text/plain": "False"
     },
     "execution_count": 748,
     "metadata": {},
     "output_type": "execute_result"
    }
   ],
   "source": [
    "df_08.Fuel.eq('Gasoline/Electricity').any()"
   ]
  },
  {
   "cell_type": "code",
   "execution_count": 749,
   "metadata": {},
   "outputs": [
    {
     "data": {
      "text/html": "<div>\n<style scoped>\n    .dataframe tbody tr th:only-of-type {\n        vertical-align: middle;\n    }\n\n    .dataframe tbody tr th {\n        vertical-align: top;\n    }\n\n    .dataframe thead th {\n        text-align: right;\n    }\n</style>\n<table border=\"1\" class=\"dataframe\">\n  <thead>\n    <tr style=\"text-align: right;\">\n      <th></th>\n      <th>Model</th>\n      <th>Displ</th>\n      <th>Cyl</th>\n      <th>Trans</th>\n      <th>Drive</th>\n      <th>Fuel</th>\n      <th>Sales Area</th>\n      <th>Veh Class</th>\n      <th>Air Pollution Score</th>\n      <th>City MPG</th>\n      <th>Hwy MPG</th>\n      <th>Cmb MPG</th>\n      <th>Greenhouse Gas Score</th>\n      <th>SmartWay</th>\n    </tr>\n  </thead>\n  <tbody>\n    <tr>\n      <th>0</th>\n      <td>ACURA MDX</td>\n      <td>3.7</td>\n      <td>(6 cyl)</td>\n      <td>Auto-S5</td>\n      <td>4WD</td>\n      <td>Gasoline</td>\n      <td>CA</td>\n      <td>SUV</td>\n      <td>7</td>\n      <td>15</td>\n      <td>20</td>\n      <td>17</td>\n      <td>4</td>\n      <td>no</td>\n    </tr>\n  </tbody>\n</table>\n</div>",
      "text/plain": "       Model  Displ      Cyl    Trans Drive      Fuel Sales Area Veh Class  \\\n0  ACURA MDX    3.7  (6 cyl)  Auto-S5   4WD  Gasoline         CA       SUV   \n\n  Air Pollution Score City MPG Hwy MPG Cmb MPG Greenhouse Gas Score SmartWay  \n0                   7       15      20      17                    4       no  "
     },
     "execution_count": 749,
     "metadata": {},
     "output_type": "execute_result"
    }
   ],
   "source": [
    "# dropping columns\n",
    "\n",
    "column_08= ['Stnd', 'Underhood ID', 'FE Calc Appr', 'Unadj Cmb MPG']\n",
    "column_18 = ['Stnd', 'Stnd Description', 'Underhood ID', 'Comb CO2']\n",
    "\n",
    "df_08.drop(column_08,axis=1, inplace=True)\n",
    "df_08.head(1)"
   ]
  },
  {
   "cell_type": "code",
   "execution_count": 750,
   "metadata": {},
   "outputs": [
    {
     "data": {
      "text/html": "<div>\n<style scoped>\n    .dataframe tbody tr th:only-of-type {\n        vertical-align: middle;\n    }\n\n    .dataframe tbody tr th {\n        vertical-align: top;\n    }\n\n    .dataframe thead th {\n        text-align: right;\n    }\n</style>\n<table border=\"1\" class=\"dataframe\">\n  <thead>\n    <tr style=\"text-align: right;\">\n      <th></th>\n      <th>Model</th>\n      <th>Displ</th>\n      <th>Cyl</th>\n      <th>Trans</th>\n      <th>Drive</th>\n      <th>Fuel</th>\n      <th>Cert Region</th>\n      <th>Veh Class</th>\n      <th>Air Pollution Score</th>\n      <th>City MPG</th>\n      <th>Hwy MPG</th>\n      <th>Cmb MPG</th>\n      <th>Greenhouse Gas Score</th>\n      <th>SmartWay</th>\n    </tr>\n  </thead>\n  <tbody>\n    <tr>\n      <th>0</th>\n      <td>ACURA RDX</td>\n      <td>3.5</td>\n      <td>6.0</td>\n      <td>SemiAuto-6</td>\n      <td>2WD</td>\n      <td>Gasoline</td>\n      <td>FA</td>\n      <td>small SUV</td>\n      <td>3</td>\n      <td>20</td>\n      <td>28</td>\n      <td>23</td>\n      <td>5</td>\n      <td>No</td>\n    </tr>\n  </tbody>\n</table>\n</div>",
      "text/plain": "       Model  Displ  Cyl       Trans Drive      Fuel Cert Region  Veh Class  \\\n0  ACURA RDX    3.5  6.0  SemiAuto-6   2WD  Gasoline          FA  small SUV   \n\n   Air Pollution Score City MPG Hwy MPG Cmb MPG  Greenhouse Gas Score SmartWay  \n0                    3       20      28      23                     5       No  "
     },
     "execution_count": 750,
     "metadata": {},
     "output_type": "execute_result"
    }
   ],
   "source": [
    "df_18.drop(column_18,axis=1,inplace=True)\n",
    "df_18.head(1)"
   ]
  },
  {
   "cell_type": "code",
   "execution_count": 751,
   "metadata": {},
   "outputs": [
    {
     "data": {
      "text/html": "<div>\n<style scoped>\n    .dataframe tbody tr th:only-of-type {\n        vertical-align: middle;\n    }\n\n    .dataframe tbody tr th {\n        vertical-align: top;\n    }\n\n    .dataframe thead th {\n        text-align: right;\n    }\n</style>\n<table border=\"1\" class=\"dataframe\">\n  <thead>\n    <tr style=\"text-align: right;\">\n      <th></th>\n      <th>Model</th>\n      <th>Displ</th>\n      <th>Cyl</th>\n      <th>Trans</th>\n      <th>Drive</th>\n      <th>Fuel</th>\n      <th>Cert Region</th>\n      <th>Veh Class</th>\n      <th>Air Pollution Score</th>\n      <th>City MPG</th>\n      <th>Hwy MPG</th>\n      <th>Cmb MPG</th>\n      <th>Greenhouse Gas Score</th>\n      <th>SmartWay</th>\n    </tr>\n  </thead>\n  <tbody>\n    <tr>\n      <th>0</th>\n      <td>ACURA MDX</td>\n      <td>3.7</td>\n      <td>(6 cyl)</td>\n      <td>Auto-S5</td>\n      <td>4WD</td>\n      <td>Gasoline</td>\n      <td>CA</td>\n      <td>SUV</td>\n      <td>7</td>\n      <td>15</td>\n      <td>20</td>\n      <td>17</td>\n      <td>4</td>\n      <td>no</td>\n    </tr>\n  </tbody>\n</table>\n</div>",
      "text/plain": "       Model  Displ      Cyl    Trans Drive      Fuel Cert Region Veh Class  \\\n0  ACURA MDX    3.7  (6 cyl)  Auto-S5   4WD  Gasoline          CA       SUV   \n\n  Air Pollution Score City MPG Hwy MPG Cmb MPG Greenhouse Gas Score SmartWay  \n0                   7       15      20      17                    4       no  "
     },
     "execution_count": 751,
     "metadata": {},
     "output_type": "execute_result"
    }
   ],
   "source": [
    "#Renameing columns\n",
    "df_08.rename(columns={'Sales Area':'Cert Region'},inplace=True)\n",
    "df_08.head(1)"
   ]
  },
  {
   "cell_type": "code",
   "execution_count": 752,
   "metadata": {},
   "outputs": [
    {
     "data": {
      "text/html": "<div>\n<style scoped>\n    .dataframe tbody tr th:only-of-type {\n        vertical-align: middle;\n    }\n\n    .dataframe tbody tr th {\n        vertical-align: top;\n    }\n\n    .dataframe thead th {\n        text-align: right;\n    }\n</style>\n<table border=\"1\" class=\"dataframe\">\n  <thead>\n    <tr style=\"text-align: right;\">\n      <th></th>\n      <th>model</th>\n      <th>displ</th>\n      <th>cyl</th>\n      <th>trans</th>\n      <th>drive</th>\n      <th>fuel</th>\n      <th>cert_region</th>\n      <th>veh_class</th>\n      <th>air_pollution_score</th>\n      <th>city_mpg</th>\n      <th>hwy_mpg</th>\n      <th>cmb_mpg</th>\n      <th>greenhouse_gas_score</th>\n      <th>smartway</th>\n    </tr>\n  </thead>\n  <tbody>\n    <tr>\n      <th>0</th>\n      <td>ACURA MDX</td>\n      <td>3.7</td>\n      <td>(6 cyl)</td>\n      <td>Auto-S5</td>\n      <td>4WD</td>\n      <td>Gasoline</td>\n      <td>CA</td>\n      <td>SUV</td>\n      <td>7</td>\n      <td>15</td>\n      <td>20</td>\n      <td>17</td>\n      <td>4</td>\n      <td>no</td>\n    </tr>\n  </tbody>\n</table>\n</div>",
      "text/plain": "       model  displ      cyl    trans drive      fuel cert_region veh_class  \\\n0  ACURA MDX    3.7  (6 cyl)  Auto-S5   4WD  Gasoline          CA       SUV   \n\n  air_pollution_score city_mpg hwy_mpg cmb_mpg greenhouse_gas_score smartway  \n0                   7       15      20      17                    4       no  "
     },
     "execution_count": 752,
     "metadata": {},
     "output_type": "execute_result"
    }
   ],
   "source": [
    "#Replacing space in column name with underscore\n",
    "df_08.rename(columns = lambda x: x.strip().lower().replace(\" \",\"_\"),inplace=True)\n",
    "df_08.head(1)"
   ]
  },
  {
   "cell_type": "code",
   "execution_count": 753,
   "metadata": {},
   "outputs": [
    {
     "data": {
      "text/html": "<div>\n<style scoped>\n    .dataframe tbody tr th:only-of-type {\n        vertical-align: middle;\n    }\n\n    .dataframe tbody tr th {\n        vertical-align: top;\n    }\n\n    .dataframe thead th {\n        text-align: right;\n    }\n</style>\n<table border=\"1\" class=\"dataframe\">\n  <thead>\n    <tr style=\"text-align: right;\">\n      <th></th>\n      <th>model</th>\n      <th>displ</th>\n      <th>cyl</th>\n      <th>trans</th>\n      <th>drive</th>\n      <th>fuel</th>\n      <th>cert_region</th>\n      <th>veh_class</th>\n      <th>air_pollution_score</th>\n      <th>city_mpg</th>\n      <th>hwy_mpg</th>\n      <th>cmb_mpg</th>\n      <th>greenhouse_gas_score</th>\n      <th>smartway</th>\n    </tr>\n  </thead>\n  <tbody>\n    <tr>\n      <th>0</th>\n      <td>ACURA RDX</td>\n      <td>3.5</td>\n      <td>6.0</td>\n      <td>SemiAuto-6</td>\n      <td>2WD</td>\n      <td>Gasoline</td>\n      <td>FA</td>\n      <td>small SUV</td>\n      <td>3</td>\n      <td>20</td>\n      <td>28</td>\n      <td>23</td>\n      <td>5</td>\n      <td>No</td>\n    </tr>\n  </tbody>\n</table>\n</div>",
      "text/plain": "       model  displ  cyl       trans drive      fuel cert_region  veh_class  \\\n0  ACURA RDX    3.5  6.0  SemiAuto-6   2WD  Gasoline          FA  small SUV   \n\n   air_pollution_score city_mpg hwy_mpg cmb_mpg  greenhouse_gas_score smartway  \n0                    3       20      28      23                     5       No  "
     },
     "execution_count": 753,
     "metadata": {},
     "output_type": "execute_result"
    }
   ],
   "source": [
    "df_18.rename(columns = lambda x: x.strip().lower().replace(\" \",\"_\"),inplace=True)\n",
    "df_18.head(1)"
   ]
  },
  {
   "cell_type": "code",
   "execution_count": 754,
   "metadata": {},
   "outputs": [],
   "source": [
    "df_08.to_csv('data_08_v1.csv', index=False)\n",
    "df_18.to_csv('data_18_v1.csv', index=False)"
   ]
  },
  {
   "cell_type": "code",
   "execution_count": 755,
   "metadata": {},
   "outputs": [],
   "source": [
    "df08 = pd.read_csv('data_08_v1.csv')\n",
    "df18 = pd.read_csv('data_18_v1.csv')\n"
   ]
  },
  {
   "cell_type": "code",
   "execution_count": 756,
   "metadata": {},
   "outputs": [
    {
     "data": {
      "text/html": "<div>\n<style scoped>\n    .dataframe tbody tr th:only-of-type {\n        vertical-align: middle;\n    }\n\n    .dataframe tbody tr th {\n        vertical-align: top;\n    }\n\n    .dataframe thead th {\n        text-align: right;\n    }\n</style>\n<table border=\"1\" class=\"dataframe\">\n  <thead>\n    <tr style=\"text-align: right;\">\n      <th></th>\n      <th>model</th>\n      <th>displ</th>\n      <th>cyl</th>\n      <th>trans</th>\n      <th>drive</th>\n      <th>fuel</th>\n      <th>cert_region</th>\n      <th>veh_class</th>\n      <th>air_pollution_score</th>\n      <th>city_mpg</th>\n      <th>hwy_mpg</th>\n      <th>cmb_mpg</th>\n      <th>greenhouse_gas_score</th>\n      <th>smartway</th>\n    </tr>\n  </thead>\n  <tbody>\n    <tr>\n      <th>0</th>\n      <td>ACURA MDX</td>\n      <td>3.7</td>\n      <td>(6 cyl)</td>\n      <td>Auto-S5</td>\n      <td>4WD</td>\n      <td>Gasoline</td>\n      <td>CA</td>\n      <td>SUV</td>\n      <td>7</td>\n      <td>15</td>\n      <td>20</td>\n      <td>17</td>\n      <td>4</td>\n      <td>no</td>\n    </tr>\n  </tbody>\n</table>\n</div>",
      "text/plain": "       model  displ      cyl    trans drive      fuel cert_region veh_class  \\\n0  ACURA MDX    3.7  (6 cyl)  Auto-S5   4WD  Gasoline          CA       SUV   \n\n  air_pollution_score city_mpg hwy_mpg cmb_mpg greenhouse_gas_score smartway  \n0                   7       15      20      17                    4       no  "
     },
     "execution_count": 756,
     "metadata": {},
     "output_type": "execute_result"
    }
   ],
   "source": [
    "# filtering with column values\n",
    "df08.query('cert_region == \"CA\"',inplace=True)\n",
    "df08.head(1)"
   ]
  },
  {
   "cell_type": "code",
   "execution_count": 757,
   "metadata": {},
   "outputs": [
    {
     "data": {
      "text/html": "<div>\n<style scoped>\n    .dataframe tbody tr th:only-of-type {\n        vertical-align: middle;\n    }\n\n    .dataframe tbody tr th {\n        vertical-align: top;\n    }\n\n    .dataframe thead th {\n        text-align: right;\n    }\n</style>\n<table border=\"1\" class=\"dataframe\">\n  <thead>\n    <tr style=\"text-align: right;\">\n      <th></th>\n      <th>model</th>\n      <th>displ</th>\n      <th>cyl</th>\n      <th>trans</th>\n      <th>drive</th>\n      <th>fuel</th>\n      <th>cert_region</th>\n      <th>veh_class</th>\n      <th>air_pollution_score</th>\n      <th>city_mpg</th>\n      <th>hwy_mpg</th>\n      <th>cmb_mpg</th>\n      <th>greenhouse_gas_score</th>\n      <th>smartway</th>\n    </tr>\n  </thead>\n  <tbody>\n    <tr>\n      <th>1</th>\n      <td>ACURA RDX</td>\n      <td>3.5</td>\n      <td>6.0</td>\n      <td>SemiAuto-6</td>\n      <td>2WD</td>\n      <td>Gasoline</td>\n      <td>CA</td>\n      <td>small SUV</td>\n      <td>3</td>\n      <td>20</td>\n      <td>28</td>\n      <td>23</td>\n      <td>5</td>\n      <td>No</td>\n    </tr>\n  </tbody>\n</table>\n</div>",
      "text/plain": "       model  displ  cyl       trans drive      fuel cert_region  veh_class  \\\n1  ACURA RDX    3.5  6.0  SemiAuto-6   2WD  Gasoline          CA  small SUV   \n\n   air_pollution_score city_mpg hwy_mpg cmb_mpg  greenhouse_gas_score smartway  \n1                    3       20      28      23                     5       No  "
     },
     "execution_count": 757,
     "metadata": {},
     "output_type": "execute_result"
    }
   ],
   "source": [
    "df18.query('cert_region == \"CA\"',inplace=True)\n",
    "df18.head(1)"
   ]
  },
  {
   "cell_type": "code",
   "execution_count": 758,
   "metadata": {},
   "outputs": [],
   "source": [
    "#Drop columns with cert_region\n",
    "df08.drop(['cert_region'],axis=1,inplace=True)\n",
    "df18.drop(['cert_region'],axis=1,inplace=True)\n",
    "\n"
   ]
  },
  {
   "cell_type": "code",
   "execution_count": 759,
   "metadata": {},
   "outputs": [
    {
     "data": {
      "text/html": "<div>\n<style scoped>\n    .dataframe tbody tr th:only-of-type {\n        vertical-align: middle;\n    }\n\n    .dataframe tbody tr th {\n        vertical-align: top;\n    }\n\n    .dataframe thead th {\n        text-align: right;\n    }\n</style>\n<table border=\"1\" class=\"dataframe\">\n  <thead>\n    <tr style=\"text-align: right;\">\n      <th></th>\n      <th>model</th>\n      <th>displ</th>\n      <th>cyl</th>\n      <th>trans</th>\n      <th>drive</th>\n      <th>fuel</th>\n      <th>veh_class</th>\n      <th>air_pollution_score</th>\n      <th>city_mpg</th>\n      <th>hwy_mpg</th>\n      <th>cmb_mpg</th>\n      <th>greenhouse_gas_score</th>\n      <th>smartway</th>\n    </tr>\n  </thead>\n  <tbody>\n    <tr>\n      <th>0</th>\n      <td>ACURA MDX</td>\n      <td>3.7</td>\n      <td>(6 cyl)</td>\n      <td>Auto-S5</td>\n      <td>4WD</td>\n      <td>Gasoline</td>\n      <td>SUV</td>\n      <td>7</td>\n      <td>15</td>\n      <td>20</td>\n      <td>17</td>\n      <td>4</td>\n      <td>no</td>\n    </tr>\n  </tbody>\n</table>\n</div>",
      "text/plain": "       model  displ      cyl    trans drive      fuel veh_class  \\\n0  ACURA MDX    3.7  (6 cyl)  Auto-S5   4WD  Gasoline       SUV   \n\n  air_pollution_score city_mpg hwy_mpg cmb_mpg greenhouse_gas_score smartway  \n0                   7       15      20      17                    4       no  "
     },
     "execution_count": 759,
     "metadata": {},
     "output_type": "execute_result"
    }
   ],
   "source": [
    "df08.head(1)"
   ]
  },
  {
   "cell_type": "code",
   "execution_count": 760,
   "metadata": {},
   "outputs": [
    {
     "data": {
      "text/html": "<div>\n<style scoped>\n    .dataframe tbody tr th:only-of-type {\n        vertical-align: middle;\n    }\n\n    .dataframe tbody tr th {\n        vertical-align: top;\n    }\n\n    .dataframe thead th {\n        text-align: right;\n    }\n</style>\n<table border=\"1\" class=\"dataframe\">\n  <thead>\n    <tr style=\"text-align: right;\">\n      <th></th>\n      <th>model</th>\n      <th>displ</th>\n      <th>cyl</th>\n      <th>trans</th>\n      <th>drive</th>\n      <th>fuel</th>\n      <th>veh_class</th>\n      <th>air_pollution_score</th>\n      <th>city_mpg</th>\n      <th>hwy_mpg</th>\n      <th>cmb_mpg</th>\n      <th>greenhouse_gas_score</th>\n      <th>smartway</th>\n    </tr>\n  </thead>\n  <tbody>\n    <tr>\n      <th>1</th>\n      <td>ACURA RDX</td>\n      <td>3.5</td>\n      <td>6.0</td>\n      <td>SemiAuto-6</td>\n      <td>2WD</td>\n      <td>Gasoline</td>\n      <td>small SUV</td>\n      <td>3</td>\n      <td>20</td>\n      <td>28</td>\n      <td>23</td>\n      <td>5</td>\n      <td>No</td>\n    </tr>\n  </tbody>\n</table>\n</div>",
      "text/plain": "       model  displ  cyl       trans drive      fuel  veh_class  \\\n1  ACURA RDX    3.5  6.0  SemiAuto-6   2WD  Gasoline  small SUV   \n\n   air_pollution_score city_mpg hwy_mpg cmb_mpg  greenhouse_gas_score smartway  \n1                    3       20      28      23                     5       No  "
     },
     "execution_count": 760,
     "metadata": {},
     "output_type": "execute_result"
    }
   ],
   "source": [
    "df18.head(1)"
   ]
  },
  {
   "cell_type": "code",
   "execution_count": 761,
   "metadata": {},
   "outputs": [
    {
     "data": {
      "text/plain": "model                    0\ndispl                    0\ncyl                     75\ntrans                   75\ndrive                   37\nfuel                     0\nveh_class                0\nair_pollution_score      0\ncity_mpg                75\nhwy_mpg                 75\ncmb_mpg                 75\ngreenhouse_gas_score    75\nsmartway                 0\ndtype: int64"
     },
     "execution_count": 761,
     "metadata": {},
     "output_type": "execute_result"
    }
   ],
   "source": [
    "##Find missing values in each column\n",
    "\n",
    "df08.isnull().sum()"
   ]
  },
  {
   "cell_type": "code",
   "execution_count": 762,
   "metadata": {},
   "outputs": [
    {
     "data": {
      "text/plain": "model                   0\ndispl                   1\ncyl                     1\ntrans                   0\ndrive                   0\nfuel                    0\nveh_class               0\nair_pollution_score     0\ncity_mpg                0\nhwy_mpg                 0\ncmb_mpg                 0\ngreenhouse_gas_score    0\nsmartway                0\ndtype: int64"
     },
     "execution_count": 762,
     "metadata": {},
     "output_type": "execute_result"
    }
   ],
   "source": [
    "df18.isnull().sum()"
   ]
  },
  {
   "cell_type": "code",
   "execution_count": 763,
   "metadata": {},
   "outputs": [],
   "source": [
    "    ## drop rows with any null value\n",
    "    df08.dropna(inplace=True)\n",
    "    df18.dropna(inplace=True)\n"
   ]
  },
  {
   "cell_type": "code",
   "execution_count": 764,
   "metadata": {},
   "outputs": [
    {
     "data": {
      "text/plain": "False"
     },
     "execution_count": 764,
     "metadata": {},
     "output_type": "execute_result"
    }
   ],
   "source": [
    "df08.isnull().sum().any()"
   ]
  },
  {
   "cell_type": "code",
   "execution_count": 765,
   "metadata": {},
   "outputs": [
    {
     "data": {
      "text/plain": "False"
     },
     "execution_count": 765,
     "metadata": {},
     "output_type": "execute_result"
    }
   ],
   "source": [
    "df18.isnull().sum().any()"
   ]
  },
  {
   "cell_type": "code",
   "execution_count": 766,
   "metadata": {},
   "outputs": [
    {
     "data": {
      "text/plain": "0"
     },
     "execution_count": 766,
     "metadata": {},
     "output_type": "execute_result"
    }
   ],
   "source": [
    "## Drop duplicates\n",
    "df08.drop_duplicates(inplace=True)\n",
    "df08.duplicated().sum()"
   ]
  },
  {
   "cell_type": "code",
   "execution_count": 767,
   "metadata": {},
   "outputs": [
    {
     "data": {
      "text/plain": "0"
     },
     "execution_count": 767,
     "metadata": {},
     "output_type": "execute_result"
    }
   ],
   "source": [
    "\n",
    "df18.drop_duplicates(inplace=True)\n",
    "df18.duplicated().sum()\n"
   ]
  },
  {
   "cell_type": "code",
   "execution_count": 768,
   "metadata": {},
   "outputs": [
    {
     "data": {
      "text/html": "<div>\n<style scoped>\n    .dataframe tbody tr th:only-of-type {\n        vertical-align: middle;\n    }\n\n    .dataframe tbody tr th {\n        vertical-align: top;\n    }\n\n    .dataframe thead th {\n        text-align: right;\n    }\n</style>\n<table border=\"1\" class=\"dataframe\">\n  <thead>\n    <tr style=\"text-align: right;\">\n      <th></th>\n      <th>model</th>\n      <th>displ</th>\n      <th>cyl</th>\n      <th>trans</th>\n      <th>drive</th>\n      <th>fuel</th>\n      <th>veh_class</th>\n      <th>air_pollution_score</th>\n      <th>city_mpg</th>\n      <th>hwy_mpg</th>\n      <th>cmb_mpg</th>\n      <th>greenhouse_gas_score</th>\n      <th>smartway</th>\n    </tr>\n  </thead>\n  <tbody>\n    <tr>\n      <th>0</th>\n      <td>ACURA MDX</td>\n      <td>3.7</td>\n      <td>6</td>\n      <td>Auto-S5</td>\n      <td>4WD</td>\n      <td>Gasoline</td>\n      <td>SUV</td>\n      <td>7</td>\n      <td>15</td>\n      <td>20</td>\n      <td>17</td>\n      <td>4</td>\n      <td>no</td>\n    </tr>\n    <tr>\n      <th>2</th>\n      <td>ACURA RDX</td>\n      <td>2.3</td>\n      <td>4</td>\n      <td>Auto-S5</td>\n      <td>4WD</td>\n      <td>Gasoline</td>\n      <td>SUV</td>\n      <td>7</td>\n      <td>17</td>\n      <td>22</td>\n      <td>19</td>\n      <td>5</td>\n      <td>no</td>\n    </tr>\n    <tr>\n      <th>4</th>\n      <td>ACURA RL</td>\n      <td>3.5</td>\n      <td>6</td>\n      <td>Auto-S5</td>\n      <td>4WD</td>\n      <td>Gasoline</td>\n      <td>midsize car</td>\n      <td>7</td>\n      <td>16</td>\n      <td>24</td>\n      <td>19</td>\n      <td>5</td>\n      <td>no</td>\n    </tr>\n    <tr>\n      <th>6</th>\n      <td>ACURA TL</td>\n      <td>3.2</td>\n      <td>6</td>\n      <td>Auto-S5</td>\n      <td>2WD</td>\n      <td>Gasoline</td>\n      <td>midsize car</td>\n      <td>7</td>\n      <td>18</td>\n      <td>26</td>\n      <td>21</td>\n      <td>6</td>\n      <td>yes</td>\n    </tr>\n    <tr>\n      <th>7</th>\n      <td>ACURA TL</td>\n      <td>3.5</td>\n      <td>6</td>\n      <td>Auto-S5</td>\n      <td>2WD</td>\n      <td>Gasoline</td>\n      <td>midsize car</td>\n      <td>7</td>\n      <td>17</td>\n      <td>26</td>\n      <td>20</td>\n      <td>6</td>\n      <td>yes</td>\n    </tr>\n  </tbody>\n</table>\n</div>",
      "text/plain": "       model  displ  cyl    trans drive      fuel    veh_class  \\\n0  ACURA MDX    3.7    6  Auto-S5   4WD  Gasoline          SUV   \n2  ACURA RDX    2.3    4  Auto-S5   4WD  Gasoline          SUV   \n4   ACURA RL    3.5    6  Auto-S5   4WD  Gasoline  midsize car   \n6   ACURA TL    3.2    6  Auto-S5   2WD  Gasoline  midsize car   \n7   ACURA TL    3.5    6  Auto-S5   2WD  Gasoline  midsize car   \n\n  air_pollution_score city_mpg hwy_mpg cmb_mpg greenhouse_gas_score smartway  \n0                   7       15      20      17                    4       no  \n2                   7       17      22      19                    5       no  \n4                   7       16      24      19                    5       no  \n6                   7       18      26      21                    6      yes  \n7                   7       17      26      20                    6      yes  "
     },
     "execution_count": 768,
     "metadata": {},
     "output_type": "execute_result"
    }
   ],
   "source": [
    "## Extract integer from string values\n",
    "\n",
    "df08['cyl'] = df08['cyl'].str.extract('(\\d+)').astype(int)\n",
    "df08.head()"
   ]
  },
  {
   "cell_type": "code",
   "execution_count": 769,
   "metadata": {},
   "outputs": [
    {
     "data": {
      "text/plain": "6     409\n4     283\n8     199\n5      48\n12     30\n10     14\n2       2\n16      1\nName: cyl, dtype: int64"
     },
     "execution_count": 769,
     "metadata": {},
     "output_type": "execute_result"
    }
   ],
   "source": [
    "df08['cyl'].value_counts()"
   ]
  },
  {
   "cell_type": "code",
   "execution_count": 770,
   "metadata": {},
   "outputs": [
    {
     "data": {
      "text/html": "<div>\n<style scoped>\n    .dataframe tbody tr th:only-of-type {\n        vertical-align: middle;\n    }\n\n    .dataframe tbody tr th {\n        vertical-align: top;\n    }\n\n    .dataframe thead th {\n        text-align: right;\n    }\n</style>\n<table border=\"1\" class=\"dataframe\">\n  <thead>\n    <tr style=\"text-align: right;\">\n      <th></th>\n      <th>model</th>\n      <th>displ</th>\n      <th>cyl</th>\n      <th>trans</th>\n      <th>drive</th>\n      <th>fuel</th>\n      <th>veh_class</th>\n      <th>air_pollution_score</th>\n      <th>city_mpg</th>\n      <th>hwy_mpg</th>\n      <th>cmb_mpg</th>\n      <th>greenhouse_gas_score</th>\n      <th>smartway</th>\n    </tr>\n  </thead>\n  <tbody>\n    <tr>\n      <th>1</th>\n      <td>ACURA RDX</td>\n      <td>3.5</td>\n      <td>6</td>\n      <td>SemiAuto-6</td>\n      <td>2WD</td>\n      <td>Gasoline</td>\n      <td>small SUV</td>\n      <td>3</td>\n      <td>20</td>\n      <td>28</td>\n      <td>23</td>\n      <td>5</td>\n      <td>No</td>\n    </tr>\n    <tr>\n      <th>3</th>\n      <td>ACURA RDX</td>\n      <td>3.5</td>\n      <td>6</td>\n      <td>SemiAuto-6</td>\n      <td>4WD</td>\n      <td>Gasoline</td>\n      <td>small SUV</td>\n      <td>3</td>\n      <td>19</td>\n      <td>27</td>\n      <td>22</td>\n      <td>4</td>\n      <td>No</td>\n    </tr>\n    <tr>\n      <th>4</th>\n      <td>ACURA TLX</td>\n      <td>2.4</td>\n      <td>4</td>\n      <td>AMS-8</td>\n      <td>2WD</td>\n      <td>Gasoline</td>\n      <td>small car</td>\n      <td>3</td>\n      <td>23</td>\n      <td>33</td>\n      <td>27</td>\n      <td>6</td>\n      <td>No</td>\n    </tr>\n    <tr>\n      <th>6</th>\n      <td>ACURA TLX</td>\n      <td>3.5</td>\n      <td>6</td>\n      <td>SemiAuto-9</td>\n      <td>2WD</td>\n      <td>Gasoline</td>\n      <td>small car</td>\n      <td>3</td>\n      <td>20</td>\n      <td>32</td>\n      <td>24</td>\n      <td>5</td>\n      <td>No</td>\n    </tr>\n    <tr>\n      <th>8</th>\n      <td>ACURA TLX</td>\n      <td>3.5</td>\n      <td>6</td>\n      <td>SemiAuto-9</td>\n      <td>4WD</td>\n      <td>Gasoline</td>\n      <td>small car</td>\n      <td>3</td>\n      <td>21</td>\n      <td>30</td>\n      <td>24</td>\n      <td>5</td>\n      <td>No</td>\n    </tr>\n  </tbody>\n</table>\n</div>",
      "text/plain": "       model  displ  cyl       trans drive      fuel  veh_class  \\\n1  ACURA RDX    3.5    6  SemiAuto-6   2WD  Gasoline  small SUV   \n3  ACURA RDX    3.5    6  SemiAuto-6   4WD  Gasoline  small SUV   \n4  ACURA TLX    2.4    4       AMS-8   2WD  Gasoline  small car   \n6  ACURA TLX    3.5    6  SemiAuto-9   2WD  Gasoline  small car   \n8  ACURA TLX    3.5    6  SemiAuto-9   4WD  Gasoline  small car   \n\n   air_pollution_score city_mpg hwy_mpg cmb_mpg  greenhouse_gas_score smartway  \n1                    3       20      28      23                     5       No  \n3                    3       19      27      22                     4       No  \n4                    3       23      33      27                     6       No  \n6                    3       20      32      24                     5       No  \n8                    3       21      30      24                     5       No  "
     },
     "execution_count": 770,
     "metadata": {},
     "output_type": "execute_result"
    }
   ],
   "source": [
    "df18['cyl']=df18['cyl'].astype(int)\n",
    "df18.head()"
   ]
  },
  {
   "cell_type": "code",
   "execution_count": 771,
   "metadata": {},
   "outputs": [
    {
     "name": "stdout",
     "output_type": "stream",
     "text": "<class 'pandas.core.frame.DataFrame'>\nInt64Index: 794 entries, 1 to 1609\nData columns (total 13 columns):\nmodel                   794 non-null object\ndispl                   794 non-null float64\ncyl                     794 non-null int64\ntrans                   794 non-null object\ndrive                   794 non-null object\nfuel                    794 non-null object\nveh_class               794 non-null object\nair_pollution_score     794 non-null int64\ncity_mpg                794 non-null object\nhwy_mpg                 794 non-null object\ncmb_mpg                 794 non-null object\ngreenhouse_gas_score    794 non-null int64\nsmartway                794 non-null object\ndtypes: float64(1), int64(3), object(9)\nmemory usage: 86.8+ KB\n"
    }
   ],
   "source": [
    "df18.info()"
   ]
  },
  {
   "cell_type": "code",
   "execution_count": 772,
   "metadata": {},
   "outputs": [
    {
     "name": "stdout",
     "output_type": "stream",
     "text": "<class 'pandas.core.frame.DataFrame'>\nInt64Index: 986 entries, 0 to 2400\nData columns (total 13 columns):\nmodel                   986 non-null object\ndispl                   986 non-null float64\ncyl                     986 non-null int64\ntrans                   986 non-null object\ndrive                   986 non-null object\nfuel                    986 non-null object\nveh_class               986 non-null object\nair_pollution_score     986 non-null object\ncity_mpg                986 non-null object\nhwy_mpg                 986 non-null object\ncmb_mpg                 986 non-null object\ngreenhouse_gas_score    986 non-null object\nsmartway                986 non-null object\ndtypes: float64(1), int64(1), object(11)\nmemory usage: 107.8+ KB\n"
    }
   ],
   "source": [
    "df08.info()"
   ]
  },
  {
   "cell_type": "code",
   "execution_count": 773,
   "metadata": {},
   "outputs": [
    {
     "data": {
      "text/html": "<div>\n<style scoped>\n    .dataframe tbody tr th:only-of-type {\n        vertical-align: middle;\n    }\n\n    .dataframe tbody tr th {\n        vertical-align: top;\n    }\n\n    .dataframe thead th {\n        text-align: right;\n    }\n</style>\n<table border=\"1\" class=\"dataframe\">\n  <thead>\n    <tr style=\"text-align: right;\">\n      <th></th>\n      <th>model</th>\n      <th>displ</th>\n      <th>cyl</th>\n      <th>trans</th>\n      <th>drive</th>\n      <th>fuel</th>\n      <th>veh_class</th>\n      <th>air_pollution_score</th>\n      <th>city_mpg</th>\n      <th>hwy_mpg</th>\n      <th>cmb_mpg</th>\n      <th>greenhouse_gas_score</th>\n      <th>smartway</th>\n    </tr>\n  </thead>\n  <tbody>\n    <tr>\n      <th>1550</th>\n      <td>MERCEDES-BENZ C300</td>\n      <td>3.0</td>\n      <td>6</td>\n      <td>Auto-L7</td>\n      <td>2WD</td>\n      <td>ethanol/gas</td>\n      <td>small car</td>\n      <td>6/4</td>\n      <td>13/18</td>\n      <td>19/25</td>\n      <td>15/21</td>\n      <td>7/6</td>\n      <td>no</td>\n    </tr>\n  </tbody>\n</table>\n</div>",
      "text/plain": "                   model  displ  cyl    trans drive         fuel  veh_class  \\\n1550  MERCEDES-BENZ C300    3.0    6  Auto-L7   2WD  ethanol/gas  small car   \n\n     air_pollution_score city_mpg hwy_mpg cmb_mpg greenhouse_gas_score  \\\n1550                 6/4    13/18   19/25   15/21                  7/6   \n\n     smartway  \n1550       no  "
     },
     "execution_count": 773,
     "metadata": {},
     "output_type": "execute_result"
    }
   ],
   "source": [
    "# air_pollution_score has values with /. Its a combination of 2 values when vehicle is hybrid. Finding how many such values are there by filtering fuel column having 2 fuels (/)\n",
    "\n",
    "ap08 = df08[df08['fuel'].str.contains('/')]\n",
    "ap08"
   ]
  },
  {
   "cell_type": "code",
   "execution_count": 774,
   "metadata": {},
   "outputs": [
    {
     "data": {
      "text/html": "<div>\n<style scoped>\n    .dataframe tbody tr th:only-of-type {\n        vertical-align: middle;\n    }\n\n    .dataframe tbody tr th {\n        vertical-align: top;\n    }\n\n    .dataframe thead th {\n        text-align: right;\n    }\n</style>\n<table border=\"1\" class=\"dataframe\">\n  <thead>\n    <tr style=\"text-align: right;\">\n      <th></th>\n      <th>model</th>\n      <th>displ</th>\n      <th>cyl</th>\n      <th>trans</th>\n      <th>drive</th>\n      <th>fuel</th>\n      <th>veh_class</th>\n      <th>air_pollution_score</th>\n      <th>city_mpg</th>\n      <th>hwy_mpg</th>\n      <th>cmb_mpg</th>\n      <th>greenhouse_gas_score</th>\n      <th>smartway</th>\n    </tr>\n  </thead>\n  <tbody>\n    <tr>\n      <th>108</th>\n      <td>BMW 330e</td>\n      <td>2.0</td>\n      <td>4</td>\n      <td>SemiAuto-8</td>\n      <td>2WD</td>\n      <td>Gasoline/Electricity</td>\n      <td>small car</td>\n      <td>3</td>\n      <td>28/66</td>\n      <td>34/78</td>\n      <td>30/71</td>\n      <td>10</td>\n      <td>Yes</td>\n    </tr>\n    <tr>\n      <th>160</th>\n      <td>BMW 530e</td>\n      <td>2.0</td>\n      <td>4</td>\n      <td>SemiAuto-8</td>\n      <td>2WD</td>\n      <td>Gasoline/Electricity</td>\n      <td>small car</td>\n      <td>7</td>\n      <td>27/70</td>\n      <td>31/75</td>\n      <td>29/72</td>\n      <td>10</td>\n      <td>Elite</td>\n    </tr>\n    <tr>\n      <th>162</th>\n      <td>BMW 530e</td>\n      <td>2.0</td>\n      <td>4</td>\n      <td>SemiAuto-8</td>\n      <td>4WD</td>\n      <td>Gasoline/Electricity</td>\n      <td>small car</td>\n      <td>7</td>\n      <td>27/66</td>\n      <td>31/68</td>\n      <td>28/67</td>\n      <td>10</td>\n      <td>Elite</td>\n    </tr>\n    <tr>\n      <th>188</th>\n      <td>BMW 740e</td>\n      <td>2.0</td>\n      <td>4</td>\n      <td>SemiAuto-8</td>\n      <td>4WD</td>\n      <td>Gasoline/Electricity</td>\n      <td>large car</td>\n      <td>3</td>\n      <td>25/62</td>\n      <td>29/68</td>\n      <td>27/64</td>\n      <td>9</td>\n      <td>Yes</td>\n    </tr>\n    <tr>\n      <th>382</th>\n      <td>CHEVROLET Impala</td>\n      <td>3.6</td>\n      <td>6</td>\n      <td>SemiAuto-6</td>\n      <td>2WD</td>\n      <td>Ethanol/Gas</td>\n      <td>large car</td>\n      <td>5</td>\n      <td>14/18</td>\n      <td>20/28</td>\n      <td>16/22</td>\n      <td>4</td>\n      <td>No</td>\n    </tr>\n    <tr>\n      <th>394</th>\n      <td>CHEVROLET Silverado 15</td>\n      <td>4.3</td>\n      <td>6</td>\n      <td>Auto-6</td>\n      <td>2WD</td>\n      <td>Ethanol/Gas</td>\n      <td>pickup</td>\n      <td>5</td>\n      <td>12/18</td>\n      <td>16/24</td>\n      <td>14/20</td>\n      <td>4</td>\n      <td>No</td>\n    </tr>\n    <tr>\n      <th>396</th>\n      <td>CHEVROLET Silverado 15</td>\n      <td>4.3</td>\n      <td>6</td>\n      <td>Auto-6</td>\n      <td>4WD</td>\n      <td>Ethanol/Gas</td>\n      <td>pickup</td>\n      <td>5</td>\n      <td>12/17</td>\n      <td>15/22</td>\n      <td>13/19</td>\n      <td>3</td>\n      <td>No</td>\n    </tr>\n    <tr>\n      <th>398</th>\n      <td>CHEVROLET Silverado 15</td>\n      <td>5.3</td>\n      <td>8</td>\n      <td>Auto-6</td>\n      <td>2WD</td>\n      <td>Ethanol/Gas</td>\n      <td>pickup</td>\n      <td>3</td>\n      <td>12/16</td>\n      <td>17/23</td>\n      <td>14/19</td>\n      <td>3</td>\n      <td>No</td>\n    </tr>\n    <tr>\n      <th>428</th>\n      <td>CHEVROLET Suburban 1500</td>\n      <td>5.3</td>\n      <td>8</td>\n      <td>Auto-6</td>\n      <td>2WD</td>\n      <td>Ethanol/Gas</td>\n      <td>standard SUV</td>\n      <td>3</td>\n      <td>12/16</td>\n      <td>17/23</td>\n      <td>14/19</td>\n      <td>3</td>\n      <td>No</td>\n    </tr>\n    <tr>\n      <th>432</th>\n      <td>CHEVROLET Suburban 1500</td>\n      <td>5.3</td>\n      <td>8</td>\n      <td>Auto-6</td>\n      <td>4WD</td>\n      <td>Ethanol/Gas</td>\n      <td>standard SUV</td>\n      <td>3</td>\n      <td>11/16</td>\n      <td>15/22</td>\n      <td>12/18</td>\n      <td>3</td>\n      <td>No</td>\n    </tr>\n    <tr>\n      <th>436</th>\n      <td>CHEVROLET Tahoe 1500</td>\n      <td>5.3</td>\n      <td>8</td>\n      <td>Auto-6</td>\n      <td>2WD</td>\n      <td>Ethanol/Gas</td>\n      <td>standard SUV</td>\n      <td>3</td>\n      <td>12/16</td>\n      <td>17/23</td>\n      <td>14/19</td>\n      <td>3</td>\n      <td>No</td>\n    </tr>\n    <tr>\n      <th>440</th>\n      <td>CHEVROLET Tahoe 1500</td>\n      <td>5.3</td>\n      <td>8</td>\n      <td>Auto-6</td>\n      <td>4WD</td>\n      <td>Ethanol/Gas</td>\n      <td>standard SUV</td>\n      <td>3</td>\n      <td>11/16</td>\n      <td>16/22</td>\n      <td>13/18</td>\n      <td>3</td>\n      <td>No</td>\n    </tr>\n    <tr>\n      <th>454</th>\n      <td>CHEVROLET Volt</td>\n      <td>1.5</td>\n      <td>4</td>\n      <td>CVT</td>\n      <td>2WD</td>\n      <td>Gasoline/Electricity</td>\n      <td>small car</td>\n      <td>3</td>\n      <td>43/113</td>\n      <td>42/99</td>\n      <td>42/106</td>\n      <td>10</td>\n      <td>Yes</td>\n    </tr>\n    <tr>\n      <th>456</th>\n      <td>CHEVROLET Volt</td>\n      <td>1.5</td>\n      <td>4</td>\n      <td>CVT</td>\n      <td>2WD</td>\n      <td>Gasoline/Electricity</td>\n      <td>small car</td>\n      <td>7</td>\n      <td>43/113</td>\n      <td>42/99</td>\n      <td>42/106</td>\n      <td>10</td>\n      <td>Elite</td>\n    </tr>\n    <tr>\n      <th>458</th>\n      <td>CHRYSLER 300</td>\n      <td>3.6</td>\n      <td>6</td>\n      <td>Auto-8</td>\n      <td>2WD</td>\n      <td>Ethanol/Gas</td>\n      <td>large car</td>\n      <td>3</td>\n      <td>14/19</td>\n      <td>22/30</td>\n      <td>17/23</td>\n      <td>5</td>\n      <td>No</td>\n    </tr>\n    <tr>\n      <th>462</th>\n      <td>CHRYSLER 300</td>\n      <td>3.6</td>\n      <td>6</td>\n      <td>Auto-8</td>\n      <td>4WD</td>\n      <td>Ethanol/Gas</td>\n      <td>large car</td>\n      <td>3</td>\n      <td>13/18</td>\n      <td>20/27</td>\n      <td>16/21</td>\n      <td>4</td>\n      <td>No</td>\n    </tr>\n    <tr>\n      <th>492</th>\n      <td>DODGE Charger</td>\n      <td>3.6</td>\n      <td>6</td>\n      <td>Auto-8</td>\n      <td>2WD</td>\n      <td>Ethanol/Gas</td>\n      <td>large car</td>\n      <td>3</td>\n      <td>14/19</td>\n      <td>22/30</td>\n      <td>17/23</td>\n      <td>5</td>\n      <td>No</td>\n    </tr>\n    <tr>\n      <th>496</th>\n      <td>DODGE Charger</td>\n      <td>3.6</td>\n      <td>6</td>\n      <td>Auto-8</td>\n      <td>4WD</td>\n      <td>Ethanol/Gas</td>\n      <td>large car</td>\n      <td>3</td>\n      <td>13/18</td>\n      <td>20/27</td>\n      <td>16/21</td>\n      <td>4</td>\n      <td>No</td>\n    </tr>\n    <tr>\n      <th>605</th>\n      <td>FORD Fusion Energi Plug-in Hybrid</td>\n      <td>2.0</td>\n      <td>4</td>\n      <td>CVT</td>\n      <td>2WD</td>\n      <td>Gasoline/Electricity</td>\n      <td>midsize car</td>\n      <td>7</td>\n      <td>43/102</td>\n      <td>41/91</td>\n      <td>42/97</td>\n      <td>10</td>\n      <td>Elite</td>\n    </tr>\n    <tr>\n      <th>659</th>\n      <td>GMC Sierra 15</td>\n      <td>4.3</td>\n      <td>6</td>\n      <td>Auto-6</td>\n      <td>2WD</td>\n      <td>Ethanol/Gas</td>\n      <td>pickup</td>\n      <td>5</td>\n      <td>12/18</td>\n      <td>16/24</td>\n      <td>14/20</td>\n      <td>4</td>\n      <td>No</td>\n    </tr>\n    <tr>\n      <th>661</th>\n      <td>GMC Sierra 15</td>\n      <td>4.3</td>\n      <td>6</td>\n      <td>Auto-6</td>\n      <td>4WD</td>\n      <td>Ethanol/Gas</td>\n      <td>pickup</td>\n      <td>5</td>\n      <td>12/17</td>\n      <td>15/22</td>\n      <td>13/19</td>\n      <td>3</td>\n      <td>No</td>\n    </tr>\n    <tr>\n      <th>663</th>\n      <td>GMC Sierra 15</td>\n      <td>5.3</td>\n      <td>8</td>\n      <td>Auto-6</td>\n      <td>2WD</td>\n      <td>Ethanol/Gas</td>\n      <td>pickup</td>\n      <td>3</td>\n      <td>12/16</td>\n      <td>17/23</td>\n      <td>14/19</td>\n      <td>3</td>\n      <td>No</td>\n    </tr>\n    <tr>\n      <th>697</th>\n      <td>GMC Yukon 1500</td>\n      <td>5.3</td>\n      <td>8</td>\n      <td>Auto-6</td>\n      <td>2WD</td>\n      <td>Ethanol/Gas</td>\n      <td>standard SUV</td>\n      <td>3</td>\n      <td>12/16</td>\n      <td>17/23</td>\n      <td>14/19</td>\n      <td>3</td>\n      <td>No</td>\n    </tr>\n    <tr>\n      <th>701</th>\n      <td>GMC Yukon 1500</td>\n      <td>5.3</td>\n      <td>8</td>\n      <td>Auto-6</td>\n      <td>4WD</td>\n      <td>Ethanol/Gas</td>\n      <td>standard SUV</td>\n      <td>3</td>\n      <td>11/16</td>\n      <td>16/22</td>\n      <td>13/18</td>\n      <td>3</td>\n      <td>No</td>\n    </tr>\n    <tr>\n      <th>709</th>\n      <td>GMC Yukon 1500 XL</td>\n      <td>5.3</td>\n      <td>8</td>\n      <td>Auto-6</td>\n      <td>2WD</td>\n      <td>Ethanol/Gas</td>\n      <td>standard SUV</td>\n      <td>3</td>\n      <td>12/16</td>\n      <td>17/23</td>\n      <td>14/19</td>\n      <td>3</td>\n      <td>No</td>\n    </tr>\n    <tr>\n      <th>715</th>\n      <td>GMC Yukon XL 1500</td>\n      <td>5.3</td>\n      <td>8</td>\n      <td>Auto-6</td>\n      <td>4WD</td>\n      <td>Ethanol/Gas</td>\n      <td>standard SUV</td>\n      <td>3</td>\n      <td>11/16</td>\n      <td>15/22</td>\n      <td>12/18</td>\n      <td>3</td>\n      <td>No</td>\n    </tr>\n    <tr>\n      <th>892</th>\n      <td>JEEP Cherokee</td>\n      <td>2.4</td>\n      <td>4</td>\n      <td>Auto-9</td>\n      <td>2WD</td>\n      <td>Ethanol/Gas</td>\n      <td>small SUV</td>\n      <td>3</td>\n      <td>15/21</td>\n      <td>22/30</td>\n      <td>18/25</td>\n      <td>5</td>\n      <td>No</td>\n    </tr>\n    <tr>\n      <th>896</th>\n      <td>JEEP Cherokee</td>\n      <td>2.4</td>\n      <td>4</td>\n      <td>Auto-9</td>\n      <td>4WD</td>\n      <td>Ethanol/Gas</td>\n      <td>small SUV</td>\n      <td>3</td>\n      <td>14/21</td>\n      <td>21/28</td>\n      <td>17/23</td>\n      <td>5</td>\n      <td>No</td>\n    </tr>\n    <tr>\n      <th>933</th>\n      <td>KARMA Revero</td>\n      <td>2.0</td>\n      <td>4</td>\n      <td>Auto-1</td>\n      <td>2WD</td>\n      <td>Gasoline/Electricity</td>\n      <td>small car</td>\n      <td>1</td>\n      <td>20/59</td>\n      <td>21/61</td>\n      <td>20/60</td>\n      <td>10</td>\n      <td>No</td>\n    </tr>\n    <tr>\n      <th>1162</th>\n      <td>MERCEDES-BENZ CLA250 4Matic</td>\n      <td>2.0</td>\n      <td>4</td>\n      <td>AutoMan-7</td>\n      <td>4WD</td>\n      <td>Ethanol/Gas</td>\n      <td>small car</td>\n      <td>5</td>\n      <td>17/24</td>\n      <td>24/32</td>\n      <td>20/27</td>\n      <td>6</td>\n      <td>No</td>\n    </tr>\n    <tr>\n      <th>1179</th>\n      <td>MERCEDES-BENZ GLA250 4Matic</td>\n      <td>2.0</td>\n      <td>4</td>\n      <td>AutoMan-7</td>\n      <td>4WD</td>\n      <td>Ethanol/Gas</td>\n      <td>small SUV</td>\n      <td>5</td>\n      <td>17/23</td>\n      <td>23/31</td>\n      <td>19/26</td>\n      <td>5</td>\n      <td>No</td>\n    </tr>\n    <tr>\n      <th>1192</th>\n      <td>MERCEDES-BENZ GLE350 4Matic</td>\n      <td>3.5</td>\n      <td>6</td>\n      <td>Auto-7</td>\n      <td>4WD</td>\n      <td>Ethanol/Gas</td>\n      <td>standard SUV</td>\n      <td>3</td>\n      <td>13/18</td>\n      <td>17/22</td>\n      <td>14/19</td>\n      <td>3</td>\n      <td>No</td>\n    </tr>\n    <tr>\n      <th>1256</th>\n      <td>MINI Cooper SE Countryman All4</td>\n      <td>1.5</td>\n      <td>3</td>\n      <td>SemiAuto-6</td>\n      <td>4WD</td>\n      <td>Gasoline/Electricity</td>\n      <td>midsize car</td>\n      <td>3</td>\n      <td>28/63</td>\n      <td>27/66</td>\n      <td>27/65</td>\n      <td>9</td>\n      <td>Yes</td>\n    </tr>\n    <tr>\n      <th>1507</th>\n      <td>TOYOTA Sequoia FFV</td>\n      <td>5.7</td>\n      <td>8</td>\n      <td>SemiAuto-6</td>\n      <td>4WD</td>\n      <td>Ethanol/Gas</td>\n      <td>standard SUV</td>\n      <td>5</td>\n      <td>9/13</td>\n      <td>13/17</td>\n      <td>10/14</td>\n      <td>1</td>\n      <td>No</td>\n    </tr>\n    <tr>\n      <th>1517</th>\n      <td>TOYOTA Tundra FFV</td>\n      <td>5.7</td>\n      <td>8</td>\n      <td>SemiAuto-6</td>\n      <td>4WD</td>\n      <td>Ethanol/Gas</td>\n      <td>pickup</td>\n      <td>5</td>\n      <td>9/13</td>\n      <td>12/17</td>\n      <td>10/15</td>\n      <td>2</td>\n      <td>No</td>\n    </tr>\n    <tr>\n      <th>1577</th>\n      <td>VOLVO S90</td>\n      <td>2.0</td>\n      <td>4</td>\n      <td>SemiAuto-8</td>\n      <td>4WD</td>\n      <td>Gasoline/Electricity</td>\n      <td>midsize car</td>\n      <td>7</td>\n      <td>26/70</td>\n      <td>33/72</td>\n      <td>29/71</td>\n      <td>10</td>\n      <td>Elite</td>\n    </tr>\n    <tr>\n      <th>1601</th>\n      <td>VOLVO XC 60</td>\n      <td>2.0</td>\n      <td>4</td>\n      <td>SemiAuto-8</td>\n      <td>4WD</td>\n      <td>Gasoline/Electricity</td>\n      <td>small SUV</td>\n      <td>7</td>\n      <td>26/60</td>\n      <td>28/58</td>\n      <td>26/59</td>\n      <td>10</td>\n      <td>Elite</td>\n    </tr>\n    <tr>\n      <th>1609</th>\n      <td>VOLVO XC 90</td>\n      <td>2.0</td>\n      <td>4</td>\n      <td>SemiAuto-8</td>\n      <td>4WD</td>\n      <td>Gasoline/Electricity</td>\n      <td>standard SUV</td>\n      <td>7</td>\n      <td>26/63</td>\n      <td>30/61</td>\n      <td>27/62</td>\n      <td>10</td>\n      <td>Elite</td>\n    </tr>\n  </tbody>\n</table>\n</div>",
      "text/plain": "                                  model  displ  cyl       trans drive  \\\n108                            BMW 330e    2.0    4  SemiAuto-8   2WD   \n160                            BMW 530e    2.0    4  SemiAuto-8   2WD   \n162                            BMW 530e    2.0    4  SemiAuto-8   4WD   \n188                            BMW 740e    2.0    4  SemiAuto-8   4WD   \n382                    CHEVROLET Impala    3.6    6  SemiAuto-6   2WD   \n394              CHEVROLET Silverado 15    4.3    6      Auto-6   2WD   \n396              CHEVROLET Silverado 15    4.3    6      Auto-6   4WD   \n398              CHEVROLET Silverado 15    5.3    8      Auto-6   2WD   \n428             CHEVROLET Suburban 1500    5.3    8      Auto-6   2WD   \n432             CHEVROLET Suburban 1500    5.3    8      Auto-6   4WD   \n436                CHEVROLET Tahoe 1500    5.3    8      Auto-6   2WD   \n440                CHEVROLET Tahoe 1500    5.3    8      Auto-6   4WD   \n454                      CHEVROLET Volt    1.5    4         CVT   2WD   \n456                      CHEVROLET Volt    1.5    4         CVT   2WD   \n458                        CHRYSLER 300    3.6    6      Auto-8   2WD   \n462                        CHRYSLER 300    3.6    6      Auto-8   4WD   \n492                       DODGE Charger    3.6    6      Auto-8   2WD   \n496                       DODGE Charger    3.6    6      Auto-8   4WD   \n605   FORD Fusion Energi Plug-in Hybrid    2.0    4         CVT   2WD   \n659                       GMC Sierra 15    4.3    6      Auto-6   2WD   \n661                       GMC Sierra 15    4.3    6      Auto-6   4WD   \n663                       GMC Sierra 15    5.3    8      Auto-6   2WD   \n697                      GMC Yukon 1500    5.3    8      Auto-6   2WD   \n701                      GMC Yukon 1500    5.3    8      Auto-6   4WD   \n709                   GMC Yukon 1500 XL    5.3    8      Auto-6   2WD   \n715                   GMC Yukon XL 1500    5.3    8      Auto-6   4WD   \n892                       JEEP Cherokee    2.4    4      Auto-9   2WD   \n896                       JEEP Cherokee    2.4    4      Auto-9   4WD   \n933                        KARMA Revero    2.0    4      Auto-1   2WD   \n1162        MERCEDES-BENZ CLA250 4Matic    2.0    4   AutoMan-7   4WD   \n1179        MERCEDES-BENZ GLA250 4Matic    2.0    4   AutoMan-7   4WD   \n1192        MERCEDES-BENZ GLE350 4Matic    3.5    6      Auto-7   4WD   \n1256     MINI Cooper SE Countryman All4    1.5    3  SemiAuto-6   4WD   \n1507                 TOYOTA Sequoia FFV    5.7    8  SemiAuto-6   4WD   \n1517                  TOYOTA Tundra FFV    5.7    8  SemiAuto-6   4WD   \n1577                          VOLVO S90    2.0    4  SemiAuto-8   4WD   \n1601                        VOLVO XC 60    2.0    4  SemiAuto-8   4WD   \n1609                        VOLVO XC 90    2.0    4  SemiAuto-8   4WD   \n\n                      fuel     veh_class  air_pollution_score city_mpg  \\\n108   Gasoline/Electricity     small car                    3    28/66   \n160   Gasoline/Electricity     small car                    7    27/70   \n162   Gasoline/Electricity     small car                    7    27/66   \n188   Gasoline/Electricity     large car                    3    25/62   \n382            Ethanol/Gas     large car                    5    14/18   \n394            Ethanol/Gas        pickup                    5    12/18   \n396            Ethanol/Gas        pickup                    5    12/17   \n398            Ethanol/Gas        pickup                    3    12/16   \n428            Ethanol/Gas  standard SUV                    3    12/16   \n432            Ethanol/Gas  standard SUV                    3    11/16   \n436            Ethanol/Gas  standard SUV                    3    12/16   \n440            Ethanol/Gas  standard SUV                    3    11/16   \n454   Gasoline/Electricity     small car                    3   43/113   \n456   Gasoline/Electricity     small car                    7   43/113   \n458            Ethanol/Gas     large car                    3    14/19   \n462            Ethanol/Gas     large car                    3    13/18   \n492            Ethanol/Gas     large car                    3    14/19   \n496            Ethanol/Gas     large car                    3    13/18   \n605   Gasoline/Electricity   midsize car                    7   43/102   \n659            Ethanol/Gas        pickup                    5    12/18   \n661            Ethanol/Gas        pickup                    5    12/17   \n663            Ethanol/Gas        pickup                    3    12/16   \n697            Ethanol/Gas  standard SUV                    3    12/16   \n701            Ethanol/Gas  standard SUV                    3    11/16   \n709            Ethanol/Gas  standard SUV                    3    12/16   \n715            Ethanol/Gas  standard SUV                    3    11/16   \n892            Ethanol/Gas     small SUV                    3    15/21   \n896            Ethanol/Gas     small SUV                    3    14/21   \n933   Gasoline/Electricity     small car                    1    20/59   \n1162           Ethanol/Gas     small car                    5    17/24   \n1179           Ethanol/Gas     small SUV                    5    17/23   \n1192           Ethanol/Gas  standard SUV                    3    13/18   \n1256  Gasoline/Electricity   midsize car                    3    28/63   \n1507           Ethanol/Gas  standard SUV                    5     9/13   \n1517           Ethanol/Gas        pickup                    5     9/13   \n1577  Gasoline/Electricity   midsize car                    7    26/70   \n1601  Gasoline/Electricity     small SUV                    7    26/60   \n1609  Gasoline/Electricity  standard SUV                    7    26/63   \n\n     hwy_mpg cmb_mpg  greenhouse_gas_score smartway  \n108    34/78   30/71                    10      Yes  \n160    31/75   29/72                    10    Elite  \n162    31/68   28/67                    10    Elite  \n188    29/68   27/64                     9      Yes  \n382    20/28   16/22                     4       No  \n394    16/24   14/20                     4       No  \n396    15/22   13/19                     3       No  \n398    17/23   14/19                     3       No  \n428    17/23   14/19                     3       No  \n432    15/22   12/18                     3       No  \n436    17/23   14/19                     3       No  \n440    16/22   13/18                     3       No  \n454    42/99  42/106                    10      Yes  \n456    42/99  42/106                    10    Elite  \n458    22/30   17/23                     5       No  \n462    20/27   16/21                     4       No  \n492    22/30   17/23                     5       No  \n496    20/27   16/21                     4       No  \n605    41/91   42/97                    10    Elite  \n659    16/24   14/20                     4       No  \n661    15/22   13/19                     3       No  \n663    17/23   14/19                     3       No  \n697    17/23   14/19                     3       No  \n701    16/22   13/18                     3       No  \n709    17/23   14/19                     3       No  \n715    15/22   12/18                     3       No  \n892    22/30   18/25                     5       No  \n896    21/28   17/23                     5       No  \n933    21/61   20/60                    10       No  \n1162   24/32   20/27                     6       No  \n1179   23/31   19/26                     5       No  \n1192   17/22   14/19                     3       No  \n1256   27/66   27/65                     9      Yes  \n1507   13/17   10/14                     1       No  \n1517   12/17   10/15                     2       No  \n1577   33/72   29/71                    10    Elite  \n1601   28/58   26/59                    10    Elite  \n1609   30/61   27/62                    10    Elite  "
     },
     "execution_count": 774,
     "metadata": {},
     "output_type": "execute_result"
    }
   ],
   "source": [
    "ap18 = df18[df18['fuel'].str.contains('/')]\n",
    "ap18"
   ]
  },
  {
   "cell_type": "code",
   "execution_count": 775,
   "metadata": {},
   "outputs": [
    {
     "data": {
      "text/plain": "model                   38\ndispl                   38\ncyl                     38\ntrans                   38\ndrive                   38\nfuel                    38\nveh_class               38\nair_pollution_score     38\ncity_mpg                38\nhwy_mpg                 38\ncmb_mpg                 38\ngreenhouse_gas_score    38\nsmartway                38\ndtype: int64"
     },
     "execution_count": 775,
     "metadata": {},
     "output_type": "execute_result"
    }
   ],
   "source": [
    "ap18.count()"
   ]
  },
  {
   "cell_type": "code",
   "execution_count": 776,
   "metadata": {},
   "outputs": [],
   "source": [
    "### creating 2 copies of ap08 dataframe to store the additional column when splitting existing columns having 2 values separated by \"/\" \n",
    "\n",
    "df1_ap08 = ap08.copy()\n",
    "df2_ap08 = ap08.copy()"
   ]
  },
  {
   "cell_type": "code",
   "execution_count": 777,
   "metadata": {},
   "outputs": [
    {
     "data": {
      "text/html": "<div>\n<style scoped>\n    .dataframe tbody tr th:only-of-type {\n        vertical-align: middle;\n    }\n\n    .dataframe tbody tr th {\n        vertical-align: top;\n    }\n\n    .dataframe thead th {\n        text-align: right;\n    }\n</style>\n<table border=\"1\" class=\"dataframe\">\n  <thead>\n    <tr style=\"text-align: right;\">\n      <th></th>\n      <th>model</th>\n      <th>displ</th>\n      <th>cyl</th>\n      <th>trans</th>\n      <th>drive</th>\n      <th>fuel</th>\n      <th>veh_class</th>\n      <th>air_pollution_score</th>\n      <th>city_mpg</th>\n      <th>hwy_mpg</th>\n      <th>cmb_mpg</th>\n      <th>greenhouse_gas_score</th>\n      <th>smartway</th>\n    </tr>\n  </thead>\n  <tbody>\n    <tr>\n      <th>1550</th>\n      <td>MERCEDES-BENZ C300</td>\n      <td>3.0</td>\n      <td>6</td>\n      <td>Auto-L7</td>\n      <td>2WD</td>\n      <td>ethanol/gas</td>\n      <td>small car</td>\n      <td>6/4</td>\n      <td>13/18</td>\n      <td>19/25</td>\n      <td>15/21</td>\n      <td>7/6</td>\n      <td>no</td>\n    </tr>\n  </tbody>\n</table>\n</div>",
      "text/plain": "                   model  displ  cyl    trans drive         fuel  veh_class  \\\n1550  MERCEDES-BENZ C300    3.0    6  Auto-L7   2WD  ethanol/gas  small car   \n\n     air_pollution_score city_mpg hwy_mpg cmb_mpg greenhouse_gas_score  \\\n1550                 6/4    13/18   19/25   15/21                  7/6   \n\n     smartway  \n1550       no  "
     },
     "execution_count": 777,
     "metadata": {},
     "output_type": "execute_result"
    }
   ],
   "source": [
    "df2_ap08\n",
    "df1_ap08"
   ]
  },
  {
   "cell_type": "code",
   "execution_count": 778,
   "metadata": {},
   "outputs": [
    {
     "data": {
      "text/html": "<div>\n<style scoped>\n    .dataframe tbody tr th:only-of-type {\n        vertical-align: middle;\n    }\n\n    .dataframe tbody tr th {\n        vertical-align: top;\n    }\n\n    .dataframe thead th {\n        text-align: right;\n    }\n</style>\n<table border=\"1\" class=\"dataframe\">\n  <thead>\n    <tr style=\"text-align: right;\">\n      <th></th>\n      <th>model</th>\n      <th>displ</th>\n      <th>cyl</th>\n      <th>trans</th>\n      <th>drive</th>\n      <th>fuel</th>\n      <th>veh_class</th>\n      <th>air_pollution_score</th>\n      <th>city_mpg</th>\n      <th>hwy_mpg</th>\n      <th>cmb_mpg</th>\n      <th>greenhouse_gas_score</th>\n      <th>smartway</th>\n    </tr>\n  </thead>\n  <tbody>\n    <tr>\n      <th>1550</th>\n      <td>MERCEDES-BENZ C300</td>\n      <td>3.0</td>\n      <td>6</td>\n      <td>Auto-L7</td>\n      <td>2WD</td>\n      <td>ethanol</td>\n      <td>small car</td>\n      <td>6</td>\n      <td>13</td>\n      <td>19</td>\n      <td>15</td>\n      <td>7</td>\n      <td>no</td>\n    </tr>\n  </tbody>\n</table>\n</div>",
      "text/plain": "                   model  displ  cyl    trans drive     fuel  veh_class  \\\n1550  MERCEDES-BENZ C300    3.0    6  Auto-L7   2WD  ethanol  small car   \n\n     air_pollution_score city_mpg hwy_mpg cmb_mpg greenhouse_gas_score  \\\n1550                   6       13      19      15                    7   \n\n     smartway  \n1550       no  "
     },
     "execution_count": 778,
     "metadata": {},
     "output_type": "execute_result"
    }
   ],
   "source": [
    "# columns to split by \"/\"\n",
    "split_columns = ['fuel', 'air_pollution_score', 'city_mpg', 'hwy_mpg', 'cmb_mpg', 'greenhouse_gas_score']\n",
    "\n",
    "# apply split function to each column of each dataframe copy\n",
    "for c in split_columns:\n",
    "    df1_ap08[c] = df1_ap08[c].apply(lambda x : x.split('/')[0])\n",
    "    df2_ap08[c] = df2_ap08[c].apply(lambda x : x.split('/')[1])\n",
    "\n",
    "   \n",
    "df1_ap08\n"
   ]
  },
  {
   "cell_type": "code",
   "execution_count": 779,
   "metadata": {},
   "outputs": [
    {
     "data": {
      "text/html": "<div>\n<style scoped>\n    .dataframe tbody tr th:only-of-type {\n        vertical-align: middle;\n    }\n\n    .dataframe tbody tr th {\n        vertical-align: top;\n    }\n\n    .dataframe thead th {\n        text-align: right;\n    }\n</style>\n<table border=\"1\" class=\"dataframe\">\n  <thead>\n    <tr style=\"text-align: right;\">\n      <th></th>\n      <th>model</th>\n      <th>displ</th>\n      <th>cyl</th>\n      <th>trans</th>\n      <th>drive</th>\n      <th>fuel</th>\n      <th>veh_class</th>\n      <th>air_pollution_score</th>\n      <th>city_mpg</th>\n      <th>hwy_mpg</th>\n      <th>cmb_mpg</th>\n      <th>greenhouse_gas_score</th>\n      <th>smartway</th>\n    </tr>\n  </thead>\n  <tbody>\n    <tr>\n      <th>1550</th>\n      <td>MERCEDES-BENZ C300</td>\n      <td>3.0</td>\n      <td>6</td>\n      <td>Auto-L7</td>\n      <td>2WD</td>\n      <td>gas</td>\n      <td>small car</td>\n      <td>4</td>\n      <td>18</td>\n      <td>25</td>\n      <td>21</td>\n      <td>6</td>\n      <td>no</td>\n    </tr>\n  </tbody>\n</table>\n</div>",
      "text/plain": "                   model  displ  cyl    trans drive fuel  veh_class  \\\n1550  MERCEDES-BENZ C300    3.0    6  Auto-L7   2WD  gas  small car   \n\n     air_pollution_score city_mpg hwy_mpg cmb_mpg greenhouse_gas_score  \\\n1550                   4       18      25      21                    6   \n\n     smartway  \n1550       no  "
     },
     "execution_count": 779,
     "metadata": {},
     "output_type": "execute_result"
    }
   ],
   "source": [
    "df2_ap08"
   ]
  },
  {
   "cell_type": "code",
   "execution_count": 780,
   "metadata": {},
   "outputs": [
    {
     "name": "stdout",
     "output_type": "stream",
     "text": "<class 'pandas.core.frame.DataFrame'>\nInt64Index: 1 entries, 1550 to 1550\nData columns (total 13 columns):\nmodel                   1 non-null object\ndispl                   1 non-null float64\ncyl                     1 non-null int64\ntrans                   1 non-null object\ndrive                   1 non-null object\nfuel                    1 non-null object\nveh_class               1 non-null object\nair_pollution_score     1 non-null object\ncity_mpg                1 non-null object\nhwy_mpg                 1 non-null object\ncmb_mpg                 1 non-null object\ngreenhouse_gas_score    1 non-null object\nsmartway                1 non-null object\ndtypes: float64(1), int64(1), object(11)\nmemory usage: 112.0+ bytes\n"
    }
   ],
   "source": [
    "df1_ap08.info()"
   ]
  },
  {
   "cell_type": "code",
   "execution_count": 781,
   "metadata": {},
   "outputs": [
    {
     "data": {
      "text/html": "<div>\n<style scoped>\n    .dataframe tbody tr th:only-of-type {\n        vertical-align: middle;\n    }\n\n    .dataframe tbody tr th {\n        vertical-align: top;\n    }\n\n    .dataframe thead th {\n        text-align: right;\n    }\n</style>\n<table border=\"1\" class=\"dataframe\">\n  <thead>\n    <tr style=\"text-align: right;\">\n      <th></th>\n      <th>model</th>\n      <th>displ</th>\n      <th>cyl</th>\n      <th>trans</th>\n      <th>drive</th>\n      <th>fuel</th>\n      <th>veh_class</th>\n      <th>air_pollution_score</th>\n      <th>city_mpg</th>\n      <th>hwy_mpg</th>\n      <th>cmb_mpg</th>\n      <th>greenhouse_gas_score</th>\n      <th>smartway</th>\n    </tr>\n  </thead>\n  <tbody>\n    <tr>\n      <th>1550</th>\n      <td>MERCEDES-BENZ C300</td>\n      <td>3.0</td>\n      <td>6</td>\n      <td>Auto-L7</td>\n      <td>2WD</td>\n      <td>ethanol</td>\n      <td>small car</td>\n      <td>6</td>\n      <td>13</td>\n      <td>19</td>\n      <td>15</td>\n      <td>7</td>\n      <td>no</td>\n    </tr>\n    <tr>\n      <th>1550</th>\n      <td>MERCEDES-BENZ C300</td>\n      <td>3.0</td>\n      <td>6</td>\n      <td>Auto-L7</td>\n      <td>2WD</td>\n      <td>gas</td>\n      <td>small car</td>\n      <td>4</td>\n      <td>18</td>\n      <td>25</td>\n      <td>21</td>\n      <td>6</td>\n      <td>no</td>\n    </tr>\n  </tbody>\n</table>\n</div>",
      "text/plain": "                   model  displ  cyl    trans drive     fuel  veh_class  \\\n1550  MERCEDES-BENZ C300    3.0    6  Auto-L7   2WD  ethanol  small car   \n1550  MERCEDES-BENZ C300    3.0    6  Auto-L7   2WD      gas  small car   \n\n     air_pollution_score city_mpg hwy_mpg cmb_mpg greenhouse_gas_score  \\\n1550                   6       13      19      15                    7   \n1550                   4       18      25      21                    6   \n\n     smartway  \n1550       no  \n1550       no  "
     },
     "execution_count": 781,
     "metadata": {},
     "output_type": "execute_result"
    }
   ],
   "source": [
    "# Merging the rows\n",
    "new_08 = df1_ap08.append(df2_ap08)\n",
    "\n",
    "new_08"
   ]
  },
  {
   "cell_type": "code",
   "execution_count": 782,
   "metadata": {},
   "outputs": [],
   "source": [
    "df08.drop(ap08.index,inplace=True)"
   ]
  },
  {
   "cell_type": "code",
   "execution_count": 783,
   "metadata": {},
   "outputs": [
    {
     "data": {
      "text/html": "<div>\n<style scoped>\n    .dataframe tbody tr th:only-of-type {\n        vertical-align: middle;\n    }\n\n    .dataframe tbody tr th {\n        vertical-align: top;\n    }\n\n    .dataframe thead th {\n        text-align: right;\n    }\n</style>\n<table border=\"1\" class=\"dataframe\">\n  <thead>\n    <tr style=\"text-align: right;\">\n      <th></th>\n      <th>model</th>\n      <th>displ</th>\n      <th>cyl</th>\n      <th>trans</th>\n      <th>drive</th>\n      <th>fuel</th>\n      <th>veh_class</th>\n      <th>air_pollution_score</th>\n      <th>city_mpg</th>\n      <th>hwy_mpg</th>\n      <th>cmb_mpg</th>\n      <th>greenhouse_gas_score</th>\n      <th>smartway</th>\n    </tr>\n  </thead>\n  <tbody>\n    <tr>\n      <th>0</th>\n      <td>ACURA MDX</td>\n      <td>3.7</td>\n      <td>6</td>\n      <td>Auto-S5</td>\n      <td>4WD</td>\n      <td>Gasoline</td>\n      <td>SUV</td>\n      <td>7</td>\n      <td>15</td>\n      <td>20</td>\n      <td>17</td>\n      <td>4</td>\n      <td>no</td>\n    </tr>\n    <tr>\n      <th>1</th>\n      <td>ACURA RDX</td>\n      <td>2.3</td>\n      <td>4</td>\n      <td>Auto-S5</td>\n      <td>4WD</td>\n      <td>Gasoline</td>\n      <td>SUV</td>\n      <td>7</td>\n      <td>17</td>\n      <td>22</td>\n      <td>19</td>\n      <td>5</td>\n      <td>no</td>\n    </tr>\n    <tr>\n      <th>2</th>\n      <td>ACURA RL</td>\n      <td>3.5</td>\n      <td>6</td>\n      <td>Auto-S5</td>\n      <td>4WD</td>\n      <td>Gasoline</td>\n      <td>midsize car</td>\n      <td>7</td>\n      <td>16</td>\n      <td>24</td>\n      <td>19</td>\n      <td>5</td>\n      <td>no</td>\n    </tr>\n    <tr>\n      <th>3</th>\n      <td>ACURA TL</td>\n      <td>3.2</td>\n      <td>6</td>\n      <td>Auto-S5</td>\n      <td>2WD</td>\n      <td>Gasoline</td>\n      <td>midsize car</td>\n      <td>7</td>\n      <td>18</td>\n      <td>26</td>\n      <td>21</td>\n      <td>6</td>\n      <td>yes</td>\n    </tr>\n    <tr>\n      <th>4</th>\n      <td>ACURA TL</td>\n      <td>3.5</td>\n      <td>6</td>\n      <td>Auto-S5</td>\n      <td>2WD</td>\n      <td>Gasoline</td>\n      <td>midsize car</td>\n      <td>7</td>\n      <td>17</td>\n      <td>26</td>\n      <td>20</td>\n      <td>6</td>\n      <td>yes</td>\n    </tr>\n  </tbody>\n</table>\n</div>",
      "text/plain": "       model  displ  cyl    trans drive      fuel    veh_class  \\\n0  ACURA MDX    3.7    6  Auto-S5   4WD  Gasoline          SUV   \n1  ACURA RDX    2.3    4  Auto-S5   4WD  Gasoline          SUV   \n2   ACURA RL    3.5    6  Auto-S5   4WD  Gasoline  midsize car   \n3   ACURA TL    3.2    6  Auto-S5   2WD  Gasoline  midsize car   \n4   ACURA TL    3.5    6  Auto-S5   2WD  Gasoline  midsize car   \n\n  air_pollution_score city_mpg hwy_mpg cmb_mpg greenhouse_gas_score smartway  \n0                   7       15      20      17                    4       no  \n1                   7       17      22      19                    5       no  \n2                   7       16      24      19                    5       no  \n3                   7       18      26      21                    6      yes  \n4                   7       17      26      20                    6      yes  "
     },
     "execution_count": 783,
     "metadata": {},
     "output_type": "execute_result"
    }
   ],
   "source": [
    "df08 = df08.append(new_08,ignore_index=True)\n",
    "\n",
    "df08.head()"
   ]
  },
  {
   "cell_type": "code",
   "execution_count": 784,
   "metadata": {},
   "outputs": [
    {
     "data": {
      "text/plain": "(987, 13)"
     },
     "execution_count": 784,
     "metadata": {},
     "output_type": "execute_result"
    }
   ],
   "source": [
    "df08.shape"
   ]
  },
  {
   "cell_type": "code",
   "execution_count": 785,
   "metadata": {},
   "outputs": [
    {
     "data": {
      "text/html": "<div>\n<style scoped>\n    .dataframe tbody tr th:only-of-type {\n        vertical-align: middle;\n    }\n\n    .dataframe tbody tr th {\n        vertical-align: top;\n    }\n\n    .dataframe thead th {\n        text-align: right;\n    }\n</style>\n<table border=\"1\" class=\"dataframe\">\n  <thead>\n    <tr style=\"text-align: right;\">\n      <th></th>\n      <th>model</th>\n      <th>displ</th>\n      <th>cyl</th>\n      <th>trans</th>\n      <th>drive</th>\n      <th>fuel</th>\n      <th>veh_class</th>\n      <th>air_pollution_score</th>\n      <th>city_mpg</th>\n      <th>hwy_mpg</th>\n      <th>cmb_mpg</th>\n      <th>greenhouse_gas_score</th>\n      <th>smartway</th>\n    </tr>\n  </thead>\n  <tbody>\n  </tbody>\n</table>\n</div>",
      "text/plain": "Empty DataFrame\nColumns: [model, displ, cyl, trans, drive, fuel, veh_class, air_pollution_score, city_mpg, hwy_mpg, cmb_mpg, greenhouse_gas_score, smartway]\nIndex: []"
     },
     "execution_count": 785,
     "metadata": {},
     "output_type": "execute_result"
    }
   ],
   "source": [
    "#checking any more values seperated by  \"/\" are present\n",
    "df08[df08['fuel'].str.contains('/')]"
   ]
  },
  {
   "cell_type": "code",
   "execution_count": 786,
   "metadata": {},
   "outputs": [],
   "source": [
    "### 2018 dataset\n",
    "\n",
    "### creating 2 copies of ap08 dataframe to store the additional column when splitting existing columns having 2 values separated by \"/\" \n",
    "\n",
    "df1_ap18 = ap18.copy()\n",
    "df2_ap18 = ap18.copy()"
   ]
  },
  {
   "cell_type": "code",
   "execution_count": 787,
   "metadata": {},
   "outputs": [
    {
     "data": {
      "text/html": "<div>\n<style scoped>\n    .dataframe tbody tr th:only-of-type {\n        vertical-align: middle;\n    }\n\n    .dataframe tbody tr th {\n        vertical-align: top;\n    }\n\n    .dataframe thead th {\n        text-align: right;\n    }\n</style>\n<table border=\"1\" class=\"dataframe\">\n  <thead>\n    <tr style=\"text-align: right;\">\n      <th></th>\n      <th>model</th>\n      <th>displ</th>\n      <th>cyl</th>\n      <th>trans</th>\n      <th>drive</th>\n      <th>fuel</th>\n      <th>veh_class</th>\n      <th>air_pollution_score</th>\n      <th>city_mpg</th>\n      <th>hwy_mpg</th>\n      <th>cmb_mpg</th>\n      <th>greenhouse_gas_score</th>\n      <th>smartway</th>\n    </tr>\n  </thead>\n  <tbody>\n    <tr>\n      <th>108</th>\n      <td>BMW 330e</td>\n      <td>2.0</td>\n      <td>4</td>\n      <td>SemiAuto-8</td>\n      <td>2WD</td>\n      <td>Gasoline/Electricity</td>\n      <td>small car</td>\n      <td>3</td>\n      <td>28/66</td>\n      <td>34/78</td>\n      <td>30/71</td>\n      <td>10</td>\n      <td>Yes</td>\n    </tr>\n    <tr>\n      <th>160</th>\n      <td>BMW 530e</td>\n      <td>2.0</td>\n      <td>4</td>\n      <td>SemiAuto-8</td>\n      <td>2WD</td>\n      <td>Gasoline/Electricity</td>\n      <td>small car</td>\n      <td>7</td>\n      <td>27/70</td>\n      <td>31/75</td>\n      <td>29/72</td>\n      <td>10</td>\n      <td>Elite</td>\n    </tr>\n    <tr>\n      <th>162</th>\n      <td>BMW 530e</td>\n      <td>2.0</td>\n      <td>4</td>\n      <td>SemiAuto-8</td>\n      <td>4WD</td>\n      <td>Gasoline/Electricity</td>\n      <td>small car</td>\n      <td>7</td>\n      <td>27/66</td>\n      <td>31/68</td>\n      <td>28/67</td>\n      <td>10</td>\n      <td>Elite</td>\n    </tr>\n    <tr>\n      <th>188</th>\n      <td>BMW 740e</td>\n      <td>2.0</td>\n      <td>4</td>\n      <td>SemiAuto-8</td>\n      <td>4WD</td>\n      <td>Gasoline/Electricity</td>\n      <td>large car</td>\n      <td>3</td>\n      <td>25/62</td>\n      <td>29/68</td>\n      <td>27/64</td>\n      <td>9</td>\n      <td>Yes</td>\n    </tr>\n    <tr>\n      <th>382</th>\n      <td>CHEVROLET Impala</td>\n      <td>3.6</td>\n      <td>6</td>\n      <td>SemiAuto-6</td>\n      <td>2WD</td>\n      <td>Ethanol/Gas</td>\n      <td>large car</td>\n      <td>5</td>\n      <td>14/18</td>\n      <td>20/28</td>\n      <td>16/22</td>\n      <td>4</td>\n      <td>No</td>\n    </tr>\n    <tr>\n      <th>394</th>\n      <td>CHEVROLET Silverado 15</td>\n      <td>4.3</td>\n      <td>6</td>\n      <td>Auto-6</td>\n      <td>2WD</td>\n      <td>Ethanol/Gas</td>\n      <td>pickup</td>\n      <td>5</td>\n      <td>12/18</td>\n      <td>16/24</td>\n      <td>14/20</td>\n      <td>4</td>\n      <td>No</td>\n    </tr>\n    <tr>\n      <th>396</th>\n      <td>CHEVROLET Silverado 15</td>\n      <td>4.3</td>\n      <td>6</td>\n      <td>Auto-6</td>\n      <td>4WD</td>\n      <td>Ethanol/Gas</td>\n      <td>pickup</td>\n      <td>5</td>\n      <td>12/17</td>\n      <td>15/22</td>\n      <td>13/19</td>\n      <td>3</td>\n      <td>No</td>\n    </tr>\n    <tr>\n      <th>398</th>\n      <td>CHEVROLET Silverado 15</td>\n      <td>5.3</td>\n      <td>8</td>\n      <td>Auto-6</td>\n      <td>2WD</td>\n      <td>Ethanol/Gas</td>\n      <td>pickup</td>\n      <td>3</td>\n      <td>12/16</td>\n      <td>17/23</td>\n      <td>14/19</td>\n      <td>3</td>\n      <td>No</td>\n    </tr>\n    <tr>\n      <th>428</th>\n      <td>CHEVROLET Suburban 1500</td>\n      <td>5.3</td>\n      <td>8</td>\n      <td>Auto-6</td>\n      <td>2WD</td>\n      <td>Ethanol/Gas</td>\n      <td>standard SUV</td>\n      <td>3</td>\n      <td>12/16</td>\n      <td>17/23</td>\n      <td>14/19</td>\n      <td>3</td>\n      <td>No</td>\n    </tr>\n    <tr>\n      <th>432</th>\n      <td>CHEVROLET Suburban 1500</td>\n      <td>5.3</td>\n      <td>8</td>\n      <td>Auto-6</td>\n      <td>4WD</td>\n      <td>Ethanol/Gas</td>\n      <td>standard SUV</td>\n      <td>3</td>\n      <td>11/16</td>\n      <td>15/22</td>\n      <td>12/18</td>\n      <td>3</td>\n      <td>No</td>\n    </tr>\n    <tr>\n      <th>436</th>\n      <td>CHEVROLET Tahoe 1500</td>\n      <td>5.3</td>\n      <td>8</td>\n      <td>Auto-6</td>\n      <td>2WD</td>\n      <td>Ethanol/Gas</td>\n      <td>standard SUV</td>\n      <td>3</td>\n      <td>12/16</td>\n      <td>17/23</td>\n      <td>14/19</td>\n      <td>3</td>\n      <td>No</td>\n    </tr>\n    <tr>\n      <th>440</th>\n      <td>CHEVROLET Tahoe 1500</td>\n      <td>5.3</td>\n      <td>8</td>\n      <td>Auto-6</td>\n      <td>4WD</td>\n      <td>Ethanol/Gas</td>\n      <td>standard SUV</td>\n      <td>3</td>\n      <td>11/16</td>\n      <td>16/22</td>\n      <td>13/18</td>\n      <td>3</td>\n      <td>No</td>\n    </tr>\n    <tr>\n      <th>454</th>\n      <td>CHEVROLET Volt</td>\n      <td>1.5</td>\n      <td>4</td>\n      <td>CVT</td>\n      <td>2WD</td>\n      <td>Gasoline/Electricity</td>\n      <td>small car</td>\n      <td>3</td>\n      <td>43/113</td>\n      <td>42/99</td>\n      <td>42/106</td>\n      <td>10</td>\n      <td>Yes</td>\n    </tr>\n    <tr>\n      <th>456</th>\n      <td>CHEVROLET Volt</td>\n      <td>1.5</td>\n      <td>4</td>\n      <td>CVT</td>\n      <td>2WD</td>\n      <td>Gasoline/Electricity</td>\n      <td>small car</td>\n      <td>7</td>\n      <td>43/113</td>\n      <td>42/99</td>\n      <td>42/106</td>\n      <td>10</td>\n      <td>Elite</td>\n    </tr>\n    <tr>\n      <th>458</th>\n      <td>CHRYSLER 300</td>\n      <td>3.6</td>\n      <td>6</td>\n      <td>Auto-8</td>\n      <td>2WD</td>\n      <td>Ethanol/Gas</td>\n      <td>large car</td>\n      <td>3</td>\n      <td>14/19</td>\n      <td>22/30</td>\n      <td>17/23</td>\n      <td>5</td>\n      <td>No</td>\n    </tr>\n    <tr>\n      <th>462</th>\n      <td>CHRYSLER 300</td>\n      <td>3.6</td>\n      <td>6</td>\n      <td>Auto-8</td>\n      <td>4WD</td>\n      <td>Ethanol/Gas</td>\n      <td>large car</td>\n      <td>3</td>\n      <td>13/18</td>\n      <td>20/27</td>\n      <td>16/21</td>\n      <td>4</td>\n      <td>No</td>\n    </tr>\n    <tr>\n      <th>492</th>\n      <td>DODGE Charger</td>\n      <td>3.6</td>\n      <td>6</td>\n      <td>Auto-8</td>\n      <td>2WD</td>\n      <td>Ethanol/Gas</td>\n      <td>large car</td>\n      <td>3</td>\n      <td>14/19</td>\n      <td>22/30</td>\n      <td>17/23</td>\n      <td>5</td>\n      <td>No</td>\n    </tr>\n    <tr>\n      <th>496</th>\n      <td>DODGE Charger</td>\n      <td>3.6</td>\n      <td>6</td>\n      <td>Auto-8</td>\n      <td>4WD</td>\n      <td>Ethanol/Gas</td>\n      <td>large car</td>\n      <td>3</td>\n      <td>13/18</td>\n      <td>20/27</td>\n      <td>16/21</td>\n      <td>4</td>\n      <td>No</td>\n    </tr>\n    <tr>\n      <th>605</th>\n      <td>FORD Fusion Energi Plug-in Hybrid</td>\n      <td>2.0</td>\n      <td>4</td>\n      <td>CVT</td>\n      <td>2WD</td>\n      <td>Gasoline/Electricity</td>\n      <td>midsize car</td>\n      <td>7</td>\n      <td>43/102</td>\n      <td>41/91</td>\n      <td>42/97</td>\n      <td>10</td>\n      <td>Elite</td>\n    </tr>\n    <tr>\n      <th>659</th>\n      <td>GMC Sierra 15</td>\n      <td>4.3</td>\n      <td>6</td>\n      <td>Auto-6</td>\n      <td>2WD</td>\n      <td>Ethanol/Gas</td>\n      <td>pickup</td>\n      <td>5</td>\n      <td>12/18</td>\n      <td>16/24</td>\n      <td>14/20</td>\n      <td>4</td>\n      <td>No</td>\n    </tr>\n    <tr>\n      <th>661</th>\n      <td>GMC Sierra 15</td>\n      <td>4.3</td>\n      <td>6</td>\n      <td>Auto-6</td>\n      <td>4WD</td>\n      <td>Ethanol/Gas</td>\n      <td>pickup</td>\n      <td>5</td>\n      <td>12/17</td>\n      <td>15/22</td>\n      <td>13/19</td>\n      <td>3</td>\n      <td>No</td>\n    </tr>\n    <tr>\n      <th>663</th>\n      <td>GMC Sierra 15</td>\n      <td>5.3</td>\n      <td>8</td>\n      <td>Auto-6</td>\n      <td>2WD</td>\n      <td>Ethanol/Gas</td>\n      <td>pickup</td>\n      <td>3</td>\n      <td>12/16</td>\n      <td>17/23</td>\n      <td>14/19</td>\n      <td>3</td>\n      <td>No</td>\n    </tr>\n    <tr>\n      <th>697</th>\n      <td>GMC Yukon 1500</td>\n      <td>5.3</td>\n      <td>8</td>\n      <td>Auto-6</td>\n      <td>2WD</td>\n      <td>Ethanol/Gas</td>\n      <td>standard SUV</td>\n      <td>3</td>\n      <td>12/16</td>\n      <td>17/23</td>\n      <td>14/19</td>\n      <td>3</td>\n      <td>No</td>\n    </tr>\n    <tr>\n      <th>701</th>\n      <td>GMC Yukon 1500</td>\n      <td>5.3</td>\n      <td>8</td>\n      <td>Auto-6</td>\n      <td>4WD</td>\n      <td>Ethanol/Gas</td>\n      <td>standard SUV</td>\n      <td>3</td>\n      <td>11/16</td>\n      <td>16/22</td>\n      <td>13/18</td>\n      <td>3</td>\n      <td>No</td>\n    </tr>\n    <tr>\n      <th>709</th>\n      <td>GMC Yukon 1500 XL</td>\n      <td>5.3</td>\n      <td>8</td>\n      <td>Auto-6</td>\n      <td>2WD</td>\n      <td>Ethanol/Gas</td>\n      <td>standard SUV</td>\n      <td>3</td>\n      <td>12/16</td>\n      <td>17/23</td>\n      <td>14/19</td>\n      <td>3</td>\n      <td>No</td>\n    </tr>\n    <tr>\n      <th>715</th>\n      <td>GMC Yukon XL 1500</td>\n      <td>5.3</td>\n      <td>8</td>\n      <td>Auto-6</td>\n      <td>4WD</td>\n      <td>Ethanol/Gas</td>\n      <td>standard SUV</td>\n      <td>3</td>\n      <td>11/16</td>\n      <td>15/22</td>\n      <td>12/18</td>\n      <td>3</td>\n      <td>No</td>\n    </tr>\n    <tr>\n      <th>892</th>\n      <td>JEEP Cherokee</td>\n      <td>2.4</td>\n      <td>4</td>\n      <td>Auto-9</td>\n      <td>2WD</td>\n      <td>Ethanol/Gas</td>\n      <td>small SUV</td>\n      <td>3</td>\n      <td>15/21</td>\n      <td>22/30</td>\n      <td>18/25</td>\n      <td>5</td>\n      <td>No</td>\n    </tr>\n    <tr>\n      <th>896</th>\n      <td>JEEP Cherokee</td>\n      <td>2.4</td>\n      <td>4</td>\n      <td>Auto-9</td>\n      <td>4WD</td>\n      <td>Ethanol/Gas</td>\n      <td>small SUV</td>\n      <td>3</td>\n      <td>14/21</td>\n      <td>21/28</td>\n      <td>17/23</td>\n      <td>5</td>\n      <td>No</td>\n    </tr>\n    <tr>\n      <th>933</th>\n      <td>KARMA Revero</td>\n      <td>2.0</td>\n      <td>4</td>\n      <td>Auto-1</td>\n      <td>2WD</td>\n      <td>Gasoline/Electricity</td>\n      <td>small car</td>\n      <td>1</td>\n      <td>20/59</td>\n      <td>21/61</td>\n      <td>20/60</td>\n      <td>10</td>\n      <td>No</td>\n    </tr>\n    <tr>\n      <th>1162</th>\n      <td>MERCEDES-BENZ CLA250 4Matic</td>\n      <td>2.0</td>\n      <td>4</td>\n      <td>AutoMan-7</td>\n      <td>4WD</td>\n      <td>Ethanol/Gas</td>\n      <td>small car</td>\n      <td>5</td>\n      <td>17/24</td>\n      <td>24/32</td>\n      <td>20/27</td>\n      <td>6</td>\n      <td>No</td>\n    </tr>\n    <tr>\n      <th>1179</th>\n      <td>MERCEDES-BENZ GLA250 4Matic</td>\n      <td>2.0</td>\n      <td>4</td>\n      <td>AutoMan-7</td>\n      <td>4WD</td>\n      <td>Ethanol/Gas</td>\n      <td>small SUV</td>\n      <td>5</td>\n      <td>17/23</td>\n      <td>23/31</td>\n      <td>19/26</td>\n      <td>5</td>\n      <td>No</td>\n    </tr>\n    <tr>\n      <th>1192</th>\n      <td>MERCEDES-BENZ GLE350 4Matic</td>\n      <td>3.5</td>\n      <td>6</td>\n      <td>Auto-7</td>\n      <td>4WD</td>\n      <td>Ethanol/Gas</td>\n      <td>standard SUV</td>\n      <td>3</td>\n      <td>13/18</td>\n      <td>17/22</td>\n      <td>14/19</td>\n      <td>3</td>\n      <td>No</td>\n    </tr>\n    <tr>\n      <th>1256</th>\n      <td>MINI Cooper SE Countryman All4</td>\n      <td>1.5</td>\n      <td>3</td>\n      <td>SemiAuto-6</td>\n      <td>4WD</td>\n      <td>Gasoline/Electricity</td>\n      <td>midsize car</td>\n      <td>3</td>\n      <td>28/63</td>\n      <td>27/66</td>\n      <td>27/65</td>\n      <td>9</td>\n      <td>Yes</td>\n    </tr>\n    <tr>\n      <th>1507</th>\n      <td>TOYOTA Sequoia FFV</td>\n      <td>5.7</td>\n      <td>8</td>\n      <td>SemiAuto-6</td>\n      <td>4WD</td>\n      <td>Ethanol/Gas</td>\n      <td>standard SUV</td>\n      <td>5</td>\n      <td>9/13</td>\n      <td>13/17</td>\n      <td>10/14</td>\n      <td>1</td>\n      <td>No</td>\n    </tr>\n    <tr>\n      <th>1517</th>\n      <td>TOYOTA Tundra FFV</td>\n      <td>5.7</td>\n      <td>8</td>\n      <td>SemiAuto-6</td>\n      <td>4WD</td>\n      <td>Ethanol/Gas</td>\n      <td>pickup</td>\n      <td>5</td>\n      <td>9/13</td>\n      <td>12/17</td>\n      <td>10/15</td>\n      <td>2</td>\n      <td>No</td>\n    </tr>\n    <tr>\n      <th>1577</th>\n      <td>VOLVO S90</td>\n      <td>2.0</td>\n      <td>4</td>\n      <td>SemiAuto-8</td>\n      <td>4WD</td>\n      <td>Gasoline/Electricity</td>\n      <td>midsize car</td>\n      <td>7</td>\n      <td>26/70</td>\n      <td>33/72</td>\n      <td>29/71</td>\n      <td>10</td>\n      <td>Elite</td>\n    </tr>\n    <tr>\n      <th>1601</th>\n      <td>VOLVO XC 60</td>\n      <td>2.0</td>\n      <td>4</td>\n      <td>SemiAuto-8</td>\n      <td>4WD</td>\n      <td>Gasoline/Electricity</td>\n      <td>small SUV</td>\n      <td>7</td>\n      <td>26/60</td>\n      <td>28/58</td>\n      <td>26/59</td>\n      <td>10</td>\n      <td>Elite</td>\n    </tr>\n    <tr>\n      <th>1609</th>\n      <td>VOLVO XC 90</td>\n      <td>2.0</td>\n      <td>4</td>\n      <td>SemiAuto-8</td>\n      <td>4WD</td>\n      <td>Gasoline/Electricity</td>\n      <td>standard SUV</td>\n      <td>7</td>\n      <td>26/63</td>\n      <td>30/61</td>\n      <td>27/62</td>\n      <td>10</td>\n      <td>Elite</td>\n    </tr>\n  </tbody>\n</table>\n</div>",
      "text/plain": "                                  model  displ  cyl       trans drive  \\\n108                            BMW 330e    2.0    4  SemiAuto-8   2WD   \n160                            BMW 530e    2.0    4  SemiAuto-8   2WD   \n162                            BMW 530e    2.0    4  SemiAuto-8   4WD   \n188                            BMW 740e    2.0    4  SemiAuto-8   4WD   \n382                    CHEVROLET Impala    3.6    6  SemiAuto-6   2WD   \n394              CHEVROLET Silverado 15    4.3    6      Auto-6   2WD   \n396              CHEVROLET Silverado 15    4.3    6      Auto-6   4WD   \n398              CHEVROLET Silverado 15    5.3    8      Auto-6   2WD   \n428             CHEVROLET Suburban 1500    5.3    8      Auto-6   2WD   \n432             CHEVROLET Suburban 1500    5.3    8      Auto-6   4WD   \n436                CHEVROLET Tahoe 1500    5.3    8      Auto-6   2WD   \n440                CHEVROLET Tahoe 1500    5.3    8      Auto-6   4WD   \n454                      CHEVROLET Volt    1.5    4         CVT   2WD   \n456                      CHEVROLET Volt    1.5    4         CVT   2WD   \n458                        CHRYSLER 300    3.6    6      Auto-8   2WD   \n462                        CHRYSLER 300    3.6    6      Auto-8   4WD   \n492                       DODGE Charger    3.6    6      Auto-8   2WD   \n496                       DODGE Charger    3.6    6      Auto-8   4WD   \n605   FORD Fusion Energi Plug-in Hybrid    2.0    4         CVT   2WD   \n659                       GMC Sierra 15    4.3    6      Auto-6   2WD   \n661                       GMC Sierra 15    4.3    6      Auto-6   4WD   \n663                       GMC Sierra 15    5.3    8      Auto-6   2WD   \n697                      GMC Yukon 1500    5.3    8      Auto-6   2WD   \n701                      GMC Yukon 1500    5.3    8      Auto-6   4WD   \n709                   GMC Yukon 1500 XL    5.3    8      Auto-6   2WD   \n715                   GMC Yukon XL 1500    5.3    8      Auto-6   4WD   \n892                       JEEP Cherokee    2.4    4      Auto-9   2WD   \n896                       JEEP Cherokee    2.4    4      Auto-9   4WD   \n933                        KARMA Revero    2.0    4      Auto-1   2WD   \n1162        MERCEDES-BENZ CLA250 4Matic    2.0    4   AutoMan-7   4WD   \n1179        MERCEDES-BENZ GLA250 4Matic    2.0    4   AutoMan-7   4WD   \n1192        MERCEDES-BENZ GLE350 4Matic    3.5    6      Auto-7   4WD   \n1256     MINI Cooper SE Countryman All4    1.5    3  SemiAuto-6   4WD   \n1507                 TOYOTA Sequoia FFV    5.7    8  SemiAuto-6   4WD   \n1517                  TOYOTA Tundra FFV    5.7    8  SemiAuto-6   4WD   \n1577                          VOLVO S90    2.0    4  SemiAuto-8   4WD   \n1601                        VOLVO XC 60    2.0    4  SemiAuto-8   4WD   \n1609                        VOLVO XC 90    2.0    4  SemiAuto-8   4WD   \n\n                      fuel     veh_class  air_pollution_score city_mpg  \\\n108   Gasoline/Electricity     small car                    3    28/66   \n160   Gasoline/Electricity     small car                    7    27/70   \n162   Gasoline/Electricity     small car                    7    27/66   \n188   Gasoline/Electricity     large car                    3    25/62   \n382            Ethanol/Gas     large car                    5    14/18   \n394            Ethanol/Gas        pickup                    5    12/18   \n396            Ethanol/Gas        pickup                    5    12/17   \n398            Ethanol/Gas        pickup                    3    12/16   \n428            Ethanol/Gas  standard SUV                    3    12/16   \n432            Ethanol/Gas  standard SUV                    3    11/16   \n436            Ethanol/Gas  standard SUV                    3    12/16   \n440            Ethanol/Gas  standard SUV                    3    11/16   \n454   Gasoline/Electricity     small car                    3   43/113   \n456   Gasoline/Electricity     small car                    7   43/113   \n458            Ethanol/Gas     large car                    3    14/19   \n462            Ethanol/Gas     large car                    3    13/18   \n492            Ethanol/Gas     large car                    3    14/19   \n496            Ethanol/Gas     large car                    3    13/18   \n605   Gasoline/Electricity   midsize car                    7   43/102   \n659            Ethanol/Gas        pickup                    5    12/18   \n661            Ethanol/Gas        pickup                    5    12/17   \n663            Ethanol/Gas        pickup                    3    12/16   \n697            Ethanol/Gas  standard SUV                    3    12/16   \n701            Ethanol/Gas  standard SUV                    3    11/16   \n709            Ethanol/Gas  standard SUV                    3    12/16   \n715            Ethanol/Gas  standard SUV                    3    11/16   \n892            Ethanol/Gas     small SUV                    3    15/21   \n896            Ethanol/Gas     small SUV                    3    14/21   \n933   Gasoline/Electricity     small car                    1    20/59   \n1162           Ethanol/Gas     small car                    5    17/24   \n1179           Ethanol/Gas     small SUV                    5    17/23   \n1192           Ethanol/Gas  standard SUV                    3    13/18   \n1256  Gasoline/Electricity   midsize car                    3    28/63   \n1507           Ethanol/Gas  standard SUV                    5     9/13   \n1517           Ethanol/Gas        pickup                    5     9/13   \n1577  Gasoline/Electricity   midsize car                    7    26/70   \n1601  Gasoline/Electricity     small SUV                    7    26/60   \n1609  Gasoline/Electricity  standard SUV                    7    26/63   \n\n     hwy_mpg cmb_mpg  greenhouse_gas_score smartway  \n108    34/78   30/71                    10      Yes  \n160    31/75   29/72                    10    Elite  \n162    31/68   28/67                    10    Elite  \n188    29/68   27/64                     9      Yes  \n382    20/28   16/22                     4       No  \n394    16/24   14/20                     4       No  \n396    15/22   13/19                     3       No  \n398    17/23   14/19                     3       No  \n428    17/23   14/19                     3       No  \n432    15/22   12/18                     3       No  \n436    17/23   14/19                     3       No  \n440    16/22   13/18                     3       No  \n454    42/99  42/106                    10      Yes  \n456    42/99  42/106                    10    Elite  \n458    22/30   17/23                     5       No  \n462    20/27   16/21                     4       No  \n492    22/30   17/23                     5       No  \n496    20/27   16/21                     4       No  \n605    41/91   42/97                    10    Elite  \n659    16/24   14/20                     4       No  \n661    15/22   13/19                     3       No  \n663    17/23   14/19                     3       No  \n697    17/23   14/19                     3       No  \n701    16/22   13/18                     3       No  \n709    17/23   14/19                     3       No  \n715    15/22   12/18                     3       No  \n892    22/30   18/25                     5       No  \n896    21/28   17/23                     5       No  \n933    21/61   20/60                    10       No  \n1162   24/32   20/27                     6       No  \n1179   23/31   19/26                     5       No  \n1192   17/22   14/19                     3       No  \n1256   27/66   27/65                     9      Yes  \n1507   13/17   10/14                     1       No  \n1517   12/17   10/15                     2       No  \n1577   33/72   29/71                    10    Elite  \n1601   28/58   26/59                    10    Elite  \n1609   30/61   27/62                    10    Elite  "
     },
     "execution_count": 787,
     "metadata": {},
     "output_type": "execute_result"
    }
   ],
   "source": [
    "df1_ap18"
   ]
  },
  {
   "cell_type": "code",
   "execution_count": 788,
   "metadata": {},
   "outputs": [
    {
     "data": {
      "text/html": "<div>\n<style scoped>\n    .dataframe tbody tr th:only-of-type {\n        vertical-align: middle;\n    }\n\n    .dataframe tbody tr th {\n        vertical-align: top;\n    }\n\n    .dataframe thead th {\n        text-align: right;\n    }\n</style>\n<table border=\"1\" class=\"dataframe\">\n  <thead>\n    <tr style=\"text-align: right;\">\n      <th></th>\n      <th>model</th>\n      <th>displ</th>\n      <th>cyl</th>\n      <th>trans</th>\n      <th>drive</th>\n      <th>fuel</th>\n      <th>veh_class</th>\n      <th>air_pollution_score</th>\n      <th>city_mpg</th>\n      <th>hwy_mpg</th>\n      <th>cmb_mpg</th>\n      <th>greenhouse_gas_score</th>\n      <th>smartway</th>\n    </tr>\n  </thead>\n  <tbody>\n    <tr>\n      <th>108</th>\n      <td>BMW 330e</td>\n      <td>2.0</td>\n      <td>4</td>\n      <td>SemiAuto-8</td>\n      <td>2WD</td>\n      <td>Gasoline/Electricity</td>\n      <td>small car</td>\n      <td>3</td>\n      <td>28/66</td>\n      <td>34/78</td>\n      <td>30/71</td>\n      <td>10</td>\n      <td>Yes</td>\n    </tr>\n    <tr>\n      <th>160</th>\n      <td>BMW 530e</td>\n      <td>2.0</td>\n      <td>4</td>\n      <td>SemiAuto-8</td>\n      <td>2WD</td>\n      <td>Gasoline/Electricity</td>\n      <td>small car</td>\n      <td>7</td>\n      <td>27/70</td>\n      <td>31/75</td>\n      <td>29/72</td>\n      <td>10</td>\n      <td>Elite</td>\n    </tr>\n    <tr>\n      <th>162</th>\n      <td>BMW 530e</td>\n      <td>2.0</td>\n      <td>4</td>\n      <td>SemiAuto-8</td>\n      <td>4WD</td>\n      <td>Gasoline/Electricity</td>\n      <td>small car</td>\n      <td>7</td>\n      <td>27/66</td>\n      <td>31/68</td>\n      <td>28/67</td>\n      <td>10</td>\n      <td>Elite</td>\n    </tr>\n    <tr>\n      <th>188</th>\n      <td>BMW 740e</td>\n      <td>2.0</td>\n      <td>4</td>\n      <td>SemiAuto-8</td>\n      <td>4WD</td>\n      <td>Gasoline/Electricity</td>\n      <td>large car</td>\n      <td>3</td>\n      <td>25/62</td>\n      <td>29/68</td>\n      <td>27/64</td>\n      <td>9</td>\n      <td>Yes</td>\n    </tr>\n    <tr>\n      <th>382</th>\n      <td>CHEVROLET Impala</td>\n      <td>3.6</td>\n      <td>6</td>\n      <td>SemiAuto-6</td>\n      <td>2WD</td>\n      <td>Ethanol/Gas</td>\n      <td>large car</td>\n      <td>5</td>\n      <td>14/18</td>\n      <td>20/28</td>\n      <td>16/22</td>\n      <td>4</td>\n      <td>No</td>\n    </tr>\n    <tr>\n      <th>394</th>\n      <td>CHEVROLET Silverado 15</td>\n      <td>4.3</td>\n      <td>6</td>\n      <td>Auto-6</td>\n      <td>2WD</td>\n      <td>Ethanol/Gas</td>\n      <td>pickup</td>\n      <td>5</td>\n      <td>12/18</td>\n      <td>16/24</td>\n      <td>14/20</td>\n      <td>4</td>\n      <td>No</td>\n    </tr>\n    <tr>\n      <th>396</th>\n      <td>CHEVROLET Silverado 15</td>\n      <td>4.3</td>\n      <td>6</td>\n      <td>Auto-6</td>\n      <td>4WD</td>\n      <td>Ethanol/Gas</td>\n      <td>pickup</td>\n      <td>5</td>\n      <td>12/17</td>\n      <td>15/22</td>\n      <td>13/19</td>\n      <td>3</td>\n      <td>No</td>\n    </tr>\n    <tr>\n      <th>398</th>\n      <td>CHEVROLET Silverado 15</td>\n      <td>5.3</td>\n      <td>8</td>\n      <td>Auto-6</td>\n      <td>2WD</td>\n      <td>Ethanol/Gas</td>\n      <td>pickup</td>\n      <td>3</td>\n      <td>12/16</td>\n      <td>17/23</td>\n      <td>14/19</td>\n      <td>3</td>\n      <td>No</td>\n    </tr>\n    <tr>\n      <th>428</th>\n      <td>CHEVROLET Suburban 1500</td>\n      <td>5.3</td>\n      <td>8</td>\n      <td>Auto-6</td>\n      <td>2WD</td>\n      <td>Ethanol/Gas</td>\n      <td>standard SUV</td>\n      <td>3</td>\n      <td>12/16</td>\n      <td>17/23</td>\n      <td>14/19</td>\n      <td>3</td>\n      <td>No</td>\n    </tr>\n    <tr>\n      <th>432</th>\n      <td>CHEVROLET Suburban 1500</td>\n      <td>5.3</td>\n      <td>8</td>\n      <td>Auto-6</td>\n      <td>4WD</td>\n      <td>Ethanol/Gas</td>\n      <td>standard SUV</td>\n      <td>3</td>\n      <td>11/16</td>\n      <td>15/22</td>\n      <td>12/18</td>\n      <td>3</td>\n      <td>No</td>\n    </tr>\n    <tr>\n      <th>436</th>\n      <td>CHEVROLET Tahoe 1500</td>\n      <td>5.3</td>\n      <td>8</td>\n      <td>Auto-6</td>\n      <td>2WD</td>\n      <td>Ethanol/Gas</td>\n      <td>standard SUV</td>\n      <td>3</td>\n      <td>12/16</td>\n      <td>17/23</td>\n      <td>14/19</td>\n      <td>3</td>\n      <td>No</td>\n    </tr>\n    <tr>\n      <th>440</th>\n      <td>CHEVROLET Tahoe 1500</td>\n      <td>5.3</td>\n      <td>8</td>\n      <td>Auto-6</td>\n      <td>4WD</td>\n      <td>Ethanol/Gas</td>\n      <td>standard SUV</td>\n      <td>3</td>\n      <td>11/16</td>\n      <td>16/22</td>\n      <td>13/18</td>\n      <td>3</td>\n      <td>No</td>\n    </tr>\n    <tr>\n      <th>454</th>\n      <td>CHEVROLET Volt</td>\n      <td>1.5</td>\n      <td>4</td>\n      <td>CVT</td>\n      <td>2WD</td>\n      <td>Gasoline/Electricity</td>\n      <td>small car</td>\n      <td>3</td>\n      <td>43/113</td>\n      <td>42/99</td>\n      <td>42/106</td>\n      <td>10</td>\n      <td>Yes</td>\n    </tr>\n    <tr>\n      <th>456</th>\n      <td>CHEVROLET Volt</td>\n      <td>1.5</td>\n      <td>4</td>\n      <td>CVT</td>\n      <td>2WD</td>\n      <td>Gasoline/Electricity</td>\n      <td>small car</td>\n      <td>7</td>\n      <td>43/113</td>\n      <td>42/99</td>\n      <td>42/106</td>\n      <td>10</td>\n      <td>Elite</td>\n    </tr>\n    <tr>\n      <th>458</th>\n      <td>CHRYSLER 300</td>\n      <td>3.6</td>\n      <td>6</td>\n      <td>Auto-8</td>\n      <td>2WD</td>\n      <td>Ethanol/Gas</td>\n      <td>large car</td>\n      <td>3</td>\n      <td>14/19</td>\n      <td>22/30</td>\n      <td>17/23</td>\n      <td>5</td>\n      <td>No</td>\n    </tr>\n    <tr>\n      <th>462</th>\n      <td>CHRYSLER 300</td>\n      <td>3.6</td>\n      <td>6</td>\n      <td>Auto-8</td>\n      <td>4WD</td>\n      <td>Ethanol/Gas</td>\n      <td>large car</td>\n      <td>3</td>\n      <td>13/18</td>\n      <td>20/27</td>\n      <td>16/21</td>\n      <td>4</td>\n      <td>No</td>\n    </tr>\n    <tr>\n      <th>492</th>\n      <td>DODGE Charger</td>\n      <td>3.6</td>\n      <td>6</td>\n      <td>Auto-8</td>\n      <td>2WD</td>\n      <td>Ethanol/Gas</td>\n      <td>large car</td>\n      <td>3</td>\n      <td>14/19</td>\n      <td>22/30</td>\n      <td>17/23</td>\n      <td>5</td>\n      <td>No</td>\n    </tr>\n    <tr>\n      <th>496</th>\n      <td>DODGE Charger</td>\n      <td>3.6</td>\n      <td>6</td>\n      <td>Auto-8</td>\n      <td>4WD</td>\n      <td>Ethanol/Gas</td>\n      <td>large car</td>\n      <td>3</td>\n      <td>13/18</td>\n      <td>20/27</td>\n      <td>16/21</td>\n      <td>4</td>\n      <td>No</td>\n    </tr>\n    <tr>\n      <th>605</th>\n      <td>FORD Fusion Energi Plug-in Hybrid</td>\n      <td>2.0</td>\n      <td>4</td>\n      <td>CVT</td>\n      <td>2WD</td>\n      <td>Gasoline/Electricity</td>\n      <td>midsize car</td>\n      <td>7</td>\n      <td>43/102</td>\n      <td>41/91</td>\n      <td>42/97</td>\n      <td>10</td>\n      <td>Elite</td>\n    </tr>\n    <tr>\n      <th>659</th>\n      <td>GMC Sierra 15</td>\n      <td>4.3</td>\n      <td>6</td>\n      <td>Auto-6</td>\n      <td>2WD</td>\n      <td>Ethanol/Gas</td>\n      <td>pickup</td>\n      <td>5</td>\n      <td>12/18</td>\n      <td>16/24</td>\n      <td>14/20</td>\n      <td>4</td>\n      <td>No</td>\n    </tr>\n    <tr>\n      <th>661</th>\n      <td>GMC Sierra 15</td>\n      <td>4.3</td>\n      <td>6</td>\n      <td>Auto-6</td>\n      <td>4WD</td>\n      <td>Ethanol/Gas</td>\n      <td>pickup</td>\n      <td>5</td>\n      <td>12/17</td>\n      <td>15/22</td>\n      <td>13/19</td>\n      <td>3</td>\n      <td>No</td>\n    </tr>\n    <tr>\n      <th>663</th>\n      <td>GMC Sierra 15</td>\n      <td>5.3</td>\n      <td>8</td>\n      <td>Auto-6</td>\n      <td>2WD</td>\n      <td>Ethanol/Gas</td>\n      <td>pickup</td>\n      <td>3</td>\n      <td>12/16</td>\n      <td>17/23</td>\n      <td>14/19</td>\n      <td>3</td>\n      <td>No</td>\n    </tr>\n    <tr>\n      <th>697</th>\n      <td>GMC Yukon 1500</td>\n      <td>5.3</td>\n      <td>8</td>\n      <td>Auto-6</td>\n      <td>2WD</td>\n      <td>Ethanol/Gas</td>\n      <td>standard SUV</td>\n      <td>3</td>\n      <td>12/16</td>\n      <td>17/23</td>\n      <td>14/19</td>\n      <td>3</td>\n      <td>No</td>\n    </tr>\n    <tr>\n      <th>701</th>\n      <td>GMC Yukon 1500</td>\n      <td>5.3</td>\n      <td>8</td>\n      <td>Auto-6</td>\n      <td>4WD</td>\n      <td>Ethanol/Gas</td>\n      <td>standard SUV</td>\n      <td>3</td>\n      <td>11/16</td>\n      <td>16/22</td>\n      <td>13/18</td>\n      <td>3</td>\n      <td>No</td>\n    </tr>\n    <tr>\n      <th>709</th>\n      <td>GMC Yukon 1500 XL</td>\n      <td>5.3</td>\n      <td>8</td>\n      <td>Auto-6</td>\n      <td>2WD</td>\n      <td>Ethanol/Gas</td>\n      <td>standard SUV</td>\n      <td>3</td>\n      <td>12/16</td>\n      <td>17/23</td>\n      <td>14/19</td>\n      <td>3</td>\n      <td>No</td>\n    </tr>\n    <tr>\n      <th>715</th>\n      <td>GMC Yukon XL 1500</td>\n      <td>5.3</td>\n      <td>8</td>\n      <td>Auto-6</td>\n      <td>4WD</td>\n      <td>Ethanol/Gas</td>\n      <td>standard SUV</td>\n      <td>3</td>\n      <td>11/16</td>\n      <td>15/22</td>\n      <td>12/18</td>\n      <td>3</td>\n      <td>No</td>\n    </tr>\n    <tr>\n      <th>892</th>\n      <td>JEEP Cherokee</td>\n      <td>2.4</td>\n      <td>4</td>\n      <td>Auto-9</td>\n      <td>2WD</td>\n      <td>Ethanol/Gas</td>\n      <td>small SUV</td>\n      <td>3</td>\n      <td>15/21</td>\n      <td>22/30</td>\n      <td>18/25</td>\n      <td>5</td>\n      <td>No</td>\n    </tr>\n    <tr>\n      <th>896</th>\n      <td>JEEP Cherokee</td>\n      <td>2.4</td>\n      <td>4</td>\n      <td>Auto-9</td>\n      <td>4WD</td>\n      <td>Ethanol/Gas</td>\n      <td>small SUV</td>\n      <td>3</td>\n      <td>14/21</td>\n      <td>21/28</td>\n      <td>17/23</td>\n      <td>5</td>\n      <td>No</td>\n    </tr>\n    <tr>\n      <th>933</th>\n      <td>KARMA Revero</td>\n      <td>2.0</td>\n      <td>4</td>\n      <td>Auto-1</td>\n      <td>2WD</td>\n      <td>Gasoline/Electricity</td>\n      <td>small car</td>\n      <td>1</td>\n      <td>20/59</td>\n      <td>21/61</td>\n      <td>20/60</td>\n      <td>10</td>\n      <td>No</td>\n    </tr>\n    <tr>\n      <th>1162</th>\n      <td>MERCEDES-BENZ CLA250 4Matic</td>\n      <td>2.0</td>\n      <td>4</td>\n      <td>AutoMan-7</td>\n      <td>4WD</td>\n      <td>Ethanol/Gas</td>\n      <td>small car</td>\n      <td>5</td>\n      <td>17/24</td>\n      <td>24/32</td>\n      <td>20/27</td>\n      <td>6</td>\n      <td>No</td>\n    </tr>\n    <tr>\n      <th>1179</th>\n      <td>MERCEDES-BENZ GLA250 4Matic</td>\n      <td>2.0</td>\n      <td>4</td>\n      <td>AutoMan-7</td>\n      <td>4WD</td>\n      <td>Ethanol/Gas</td>\n      <td>small SUV</td>\n      <td>5</td>\n      <td>17/23</td>\n      <td>23/31</td>\n      <td>19/26</td>\n      <td>5</td>\n      <td>No</td>\n    </tr>\n    <tr>\n      <th>1192</th>\n      <td>MERCEDES-BENZ GLE350 4Matic</td>\n      <td>3.5</td>\n      <td>6</td>\n      <td>Auto-7</td>\n      <td>4WD</td>\n      <td>Ethanol/Gas</td>\n      <td>standard SUV</td>\n      <td>3</td>\n      <td>13/18</td>\n      <td>17/22</td>\n      <td>14/19</td>\n      <td>3</td>\n      <td>No</td>\n    </tr>\n    <tr>\n      <th>1256</th>\n      <td>MINI Cooper SE Countryman All4</td>\n      <td>1.5</td>\n      <td>3</td>\n      <td>SemiAuto-6</td>\n      <td>4WD</td>\n      <td>Gasoline/Electricity</td>\n      <td>midsize car</td>\n      <td>3</td>\n      <td>28/63</td>\n      <td>27/66</td>\n      <td>27/65</td>\n      <td>9</td>\n      <td>Yes</td>\n    </tr>\n    <tr>\n      <th>1507</th>\n      <td>TOYOTA Sequoia FFV</td>\n      <td>5.7</td>\n      <td>8</td>\n      <td>SemiAuto-6</td>\n      <td>4WD</td>\n      <td>Ethanol/Gas</td>\n      <td>standard SUV</td>\n      <td>5</td>\n      <td>9/13</td>\n      <td>13/17</td>\n      <td>10/14</td>\n      <td>1</td>\n      <td>No</td>\n    </tr>\n    <tr>\n      <th>1517</th>\n      <td>TOYOTA Tundra FFV</td>\n      <td>5.7</td>\n      <td>8</td>\n      <td>SemiAuto-6</td>\n      <td>4WD</td>\n      <td>Ethanol/Gas</td>\n      <td>pickup</td>\n      <td>5</td>\n      <td>9/13</td>\n      <td>12/17</td>\n      <td>10/15</td>\n      <td>2</td>\n      <td>No</td>\n    </tr>\n    <tr>\n      <th>1577</th>\n      <td>VOLVO S90</td>\n      <td>2.0</td>\n      <td>4</td>\n      <td>SemiAuto-8</td>\n      <td>4WD</td>\n      <td>Gasoline/Electricity</td>\n      <td>midsize car</td>\n      <td>7</td>\n      <td>26/70</td>\n      <td>33/72</td>\n      <td>29/71</td>\n      <td>10</td>\n      <td>Elite</td>\n    </tr>\n    <tr>\n      <th>1601</th>\n      <td>VOLVO XC 60</td>\n      <td>2.0</td>\n      <td>4</td>\n      <td>SemiAuto-8</td>\n      <td>4WD</td>\n      <td>Gasoline/Electricity</td>\n      <td>small SUV</td>\n      <td>7</td>\n      <td>26/60</td>\n      <td>28/58</td>\n      <td>26/59</td>\n      <td>10</td>\n      <td>Elite</td>\n    </tr>\n    <tr>\n      <th>1609</th>\n      <td>VOLVO XC 90</td>\n      <td>2.0</td>\n      <td>4</td>\n      <td>SemiAuto-8</td>\n      <td>4WD</td>\n      <td>Gasoline/Electricity</td>\n      <td>standard SUV</td>\n      <td>7</td>\n      <td>26/63</td>\n      <td>30/61</td>\n      <td>27/62</td>\n      <td>10</td>\n      <td>Elite</td>\n    </tr>\n  </tbody>\n</table>\n</div>",
      "text/plain": "                                  model  displ  cyl       trans drive  \\\n108                            BMW 330e    2.0    4  SemiAuto-8   2WD   \n160                            BMW 530e    2.0    4  SemiAuto-8   2WD   \n162                            BMW 530e    2.0    4  SemiAuto-8   4WD   \n188                            BMW 740e    2.0    4  SemiAuto-8   4WD   \n382                    CHEVROLET Impala    3.6    6  SemiAuto-6   2WD   \n394              CHEVROLET Silverado 15    4.3    6      Auto-6   2WD   \n396              CHEVROLET Silverado 15    4.3    6      Auto-6   4WD   \n398              CHEVROLET Silverado 15    5.3    8      Auto-6   2WD   \n428             CHEVROLET Suburban 1500    5.3    8      Auto-6   2WD   \n432             CHEVROLET Suburban 1500    5.3    8      Auto-6   4WD   \n436                CHEVROLET Tahoe 1500    5.3    8      Auto-6   2WD   \n440                CHEVROLET Tahoe 1500    5.3    8      Auto-6   4WD   \n454                      CHEVROLET Volt    1.5    4         CVT   2WD   \n456                      CHEVROLET Volt    1.5    4         CVT   2WD   \n458                        CHRYSLER 300    3.6    6      Auto-8   2WD   \n462                        CHRYSLER 300    3.6    6      Auto-8   4WD   \n492                       DODGE Charger    3.6    6      Auto-8   2WD   \n496                       DODGE Charger    3.6    6      Auto-8   4WD   \n605   FORD Fusion Energi Plug-in Hybrid    2.0    4         CVT   2WD   \n659                       GMC Sierra 15    4.3    6      Auto-6   2WD   \n661                       GMC Sierra 15    4.3    6      Auto-6   4WD   \n663                       GMC Sierra 15    5.3    8      Auto-6   2WD   \n697                      GMC Yukon 1500    5.3    8      Auto-6   2WD   \n701                      GMC Yukon 1500    5.3    8      Auto-6   4WD   \n709                   GMC Yukon 1500 XL    5.3    8      Auto-6   2WD   \n715                   GMC Yukon XL 1500    5.3    8      Auto-6   4WD   \n892                       JEEP Cherokee    2.4    4      Auto-9   2WD   \n896                       JEEP Cherokee    2.4    4      Auto-9   4WD   \n933                        KARMA Revero    2.0    4      Auto-1   2WD   \n1162        MERCEDES-BENZ CLA250 4Matic    2.0    4   AutoMan-7   4WD   \n1179        MERCEDES-BENZ GLA250 4Matic    2.0    4   AutoMan-7   4WD   \n1192        MERCEDES-BENZ GLE350 4Matic    3.5    6      Auto-7   4WD   \n1256     MINI Cooper SE Countryman All4    1.5    3  SemiAuto-6   4WD   \n1507                 TOYOTA Sequoia FFV    5.7    8  SemiAuto-6   4WD   \n1517                  TOYOTA Tundra FFV    5.7    8  SemiAuto-6   4WD   \n1577                          VOLVO S90    2.0    4  SemiAuto-8   4WD   \n1601                        VOLVO XC 60    2.0    4  SemiAuto-8   4WD   \n1609                        VOLVO XC 90    2.0    4  SemiAuto-8   4WD   \n\n                      fuel     veh_class  air_pollution_score city_mpg  \\\n108   Gasoline/Electricity     small car                    3    28/66   \n160   Gasoline/Electricity     small car                    7    27/70   \n162   Gasoline/Electricity     small car                    7    27/66   \n188   Gasoline/Electricity     large car                    3    25/62   \n382            Ethanol/Gas     large car                    5    14/18   \n394            Ethanol/Gas        pickup                    5    12/18   \n396            Ethanol/Gas        pickup                    5    12/17   \n398            Ethanol/Gas        pickup                    3    12/16   \n428            Ethanol/Gas  standard SUV                    3    12/16   \n432            Ethanol/Gas  standard SUV                    3    11/16   \n436            Ethanol/Gas  standard SUV                    3    12/16   \n440            Ethanol/Gas  standard SUV                    3    11/16   \n454   Gasoline/Electricity     small car                    3   43/113   \n456   Gasoline/Electricity     small car                    7   43/113   \n458            Ethanol/Gas     large car                    3    14/19   \n462            Ethanol/Gas     large car                    3    13/18   \n492            Ethanol/Gas     large car                    3    14/19   \n496            Ethanol/Gas     large car                    3    13/18   \n605   Gasoline/Electricity   midsize car                    7   43/102   \n659            Ethanol/Gas        pickup                    5    12/18   \n661            Ethanol/Gas        pickup                    5    12/17   \n663            Ethanol/Gas        pickup                    3    12/16   \n697            Ethanol/Gas  standard SUV                    3    12/16   \n701            Ethanol/Gas  standard SUV                    3    11/16   \n709            Ethanol/Gas  standard SUV                    3    12/16   \n715            Ethanol/Gas  standard SUV                    3    11/16   \n892            Ethanol/Gas     small SUV                    3    15/21   \n896            Ethanol/Gas     small SUV                    3    14/21   \n933   Gasoline/Electricity     small car                    1    20/59   \n1162           Ethanol/Gas     small car                    5    17/24   \n1179           Ethanol/Gas     small SUV                    5    17/23   \n1192           Ethanol/Gas  standard SUV                    3    13/18   \n1256  Gasoline/Electricity   midsize car                    3    28/63   \n1507           Ethanol/Gas  standard SUV                    5     9/13   \n1517           Ethanol/Gas        pickup                    5     9/13   \n1577  Gasoline/Electricity   midsize car                    7    26/70   \n1601  Gasoline/Electricity     small SUV                    7    26/60   \n1609  Gasoline/Electricity  standard SUV                    7    26/63   \n\n     hwy_mpg cmb_mpg  greenhouse_gas_score smartway  \n108    34/78   30/71                    10      Yes  \n160    31/75   29/72                    10    Elite  \n162    31/68   28/67                    10    Elite  \n188    29/68   27/64                     9      Yes  \n382    20/28   16/22                     4       No  \n394    16/24   14/20                     4       No  \n396    15/22   13/19                     3       No  \n398    17/23   14/19                     3       No  \n428    17/23   14/19                     3       No  \n432    15/22   12/18                     3       No  \n436    17/23   14/19                     3       No  \n440    16/22   13/18                     3       No  \n454    42/99  42/106                    10      Yes  \n456    42/99  42/106                    10    Elite  \n458    22/30   17/23                     5       No  \n462    20/27   16/21                     4       No  \n492    22/30   17/23                     5       No  \n496    20/27   16/21                     4       No  \n605    41/91   42/97                    10    Elite  \n659    16/24   14/20                     4       No  \n661    15/22   13/19                     3       No  \n663    17/23   14/19                     3       No  \n697    17/23   14/19                     3       No  \n701    16/22   13/18                     3       No  \n709    17/23   14/19                     3       No  \n715    15/22   12/18                     3       No  \n892    22/30   18/25                     5       No  \n896    21/28   17/23                     5       No  \n933    21/61   20/60                    10       No  \n1162   24/32   20/27                     6       No  \n1179   23/31   19/26                     5       No  \n1192   17/22   14/19                     3       No  \n1256   27/66   27/65                     9      Yes  \n1507   13/17   10/14                     1       No  \n1517   12/17   10/15                     2       No  \n1577   33/72   29/71                    10    Elite  \n1601   28/58   26/59                    10    Elite  \n1609   30/61   27/62                    10    Elite  "
     },
     "execution_count": 788,
     "metadata": {},
     "output_type": "execute_result"
    }
   ],
   "source": [
    "df2_ap18"
   ]
  },
  {
   "cell_type": "code",
   "execution_count": 789,
   "metadata": {},
   "outputs": [
    {
     "data": {
      "text/html": "<div>\n<style scoped>\n    .dataframe tbody tr th:only-of-type {\n        vertical-align: middle;\n    }\n\n    .dataframe tbody tr th {\n        vertical-align: top;\n    }\n\n    .dataframe thead th {\n        text-align: right;\n    }\n</style>\n<table border=\"1\" class=\"dataframe\">\n  <thead>\n    <tr style=\"text-align: right;\">\n      <th></th>\n      <th>model</th>\n      <th>displ</th>\n      <th>cyl</th>\n      <th>trans</th>\n      <th>drive</th>\n      <th>fuel</th>\n      <th>veh_class</th>\n      <th>air_pollution_score</th>\n      <th>city_mpg</th>\n      <th>hwy_mpg</th>\n      <th>cmb_mpg</th>\n      <th>greenhouse_gas_score</th>\n      <th>smartway</th>\n    </tr>\n  </thead>\n  <tbody>\n    <tr>\n      <th>108</th>\n      <td>BMW 330e</td>\n      <td>2.0</td>\n      <td>4</td>\n      <td>SemiAuto-8</td>\n      <td>2WD</td>\n      <td>Gasoline</td>\n      <td>small car</td>\n      <td>3</td>\n      <td>28</td>\n      <td>34</td>\n      <td>30</td>\n      <td>10</td>\n      <td>Yes</td>\n    </tr>\n    <tr>\n      <th>160</th>\n      <td>BMW 530e</td>\n      <td>2.0</td>\n      <td>4</td>\n      <td>SemiAuto-8</td>\n      <td>2WD</td>\n      <td>Gasoline</td>\n      <td>small car</td>\n      <td>7</td>\n      <td>27</td>\n      <td>31</td>\n      <td>29</td>\n      <td>10</td>\n      <td>Elite</td>\n    </tr>\n    <tr>\n      <th>162</th>\n      <td>BMW 530e</td>\n      <td>2.0</td>\n      <td>4</td>\n      <td>SemiAuto-8</td>\n      <td>4WD</td>\n      <td>Gasoline</td>\n      <td>small car</td>\n      <td>7</td>\n      <td>27</td>\n      <td>31</td>\n      <td>28</td>\n      <td>10</td>\n      <td>Elite</td>\n    </tr>\n    <tr>\n      <th>188</th>\n      <td>BMW 740e</td>\n      <td>2.0</td>\n      <td>4</td>\n      <td>SemiAuto-8</td>\n      <td>4WD</td>\n      <td>Gasoline</td>\n      <td>large car</td>\n      <td>3</td>\n      <td>25</td>\n      <td>29</td>\n      <td>27</td>\n      <td>9</td>\n      <td>Yes</td>\n    </tr>\n    <tr>\n      <th>382</th>\n      <td>CHEVROLET Impala</td>\n      <td>3.6</td>\n      <td>6</td>\n      <td>SemiAuto-6</td>\n      <td>2WD</td>\n      <td>Ethanol</td>\n      <td>large car</td>\n      <td>5</td>\n      <td>14</td>\n      <td>20</td>\n      <td>16</td>\n      <td>4</td>\n      <td>No</td>\n    </tr>\n    <tr>\n      <th>394</th>\n      <td>CHEVROLET Silverado 15</td>\n      <td>4.3</td>\n      <td>6</td>\n      <td>Auto-6</td>\n      <td>2WD</td>\n      <td>Ethanol</td>\n      <td>pickup</td>\n      <td>5</td>\n      <td>12</td>\n      <td>16</td>\n      <td>14</td>\n      <td>4</td>\n      <td>No</td>\n    </tr>\n    <tr>\n      <th>396</th>\n      <td>CHEVROLET Silverado 15</td>\n      <td>4.3</td>\n      <td>6</td>\n      <td>Auto-6</td>\n      <td>4WD</td>\n      <td>Ethanol</td>\n      <td>pickup</td>\n      <td>5</td>\n      <td>12</td>\n      <td>15</td>\n      <td>13</td>\n      <td>3</td>\n      <td>No</td>\n    </tr>\n    <tr>\n      <th>398</th>\n      <td>CHEVROLET Silverado 15</td>\n      <td>5.3</td>\n      <td>8</td>\n      <td>Auto-6</td>\n      <td>2WD</td>\n      <td>Ethanol</td>\n      <td>pickup</td>\n      <td>3</td>\n      <td>12</td>\n      <td>17</td>\n      <td>14</td>\n      <td>3</td>\n      <td>No</td>\n    </tr>\n    <tr>\n      <th>428</th>\n      <td>CHEVROLET Suburban 1500</td>\n      <td>5.3</td>\n      <td>8</td>\n      <td>Auto-6</td>\n      <td>2WD</td>\n      <td>Ethanol</td>\n      <td>standard SUV</td>\n      <td>3</td>\n      <td>12</td>\n      <td>17</td>\n      <td>14</td>\n      <td>3</td>\n      <td>No</td>\n    </tr>\n    <tr>\n      <th>432</th>\n      <td>CHEVROLET Suburban 1500</td>\n      <td>5.3</td>\n      <td>8</td>\n      <td>Auto-6</td>\n      <td>4WD</td>\n      <td>Ethanol</td>\n      <td>standard SUV</td>\n      <td>3</td>\n      <td>11</td>\n      <td>15</td>\n      <td>12</td>\n      <td>3</td>\n      <td>No</td>\n    </tr>\n    <tr>\n      <th>436</th>\n      <td>CHEVROLET Tahoe 1500</td>\n      <td>5.3</td>\n      <td>8</td>\n      <td>Auto-6</td>\n      <td>2WD</td>\n      <td>Ethanol</td>\n      <td>standard SUV</td>\n      <td>3</td>\n      <td>12</td>\n      <td>17</td>\n      <td>14</td>\n      <td>3</td>\n      <td>No</td>\n    </tr>\n    <tr>\n      <th>440</th>\n      <td>CHEVROLET Tahoe 1500</td>\n      <td>5.3</td>\n      <td>8</td>\n      <td>Auto-6</td>\n      <td>4WD</td>\n      <td>Ethanol</td>\n      <td>standard SUV</td>\n      <td>3</td>\n      <td>11</td>\n      <td>16</td>\n      <td>13</td>\n      <td>3</td>\n      <td>No</td>\n    </tr>\n    <tr>\n      <th>454</th>\n      <td>CHEVROLET Volt</td>\n      <td>1.5</td>\n      <td>4</td>\n      <td>CVT</td>\n      <td>2WD</td>\n      <td>Gasoline</td>\n      <td>small car</td>\n      <td>3</td>\n      <td>43</td>\n      <td>42</td>\n      <td>42</td>\n      <td>10</td>\n      <td>Yes</td>\n    </tr>\n    <tr>\n      <th>456</th>\n      <td>CHEVROLET Volt</td>\n      <td>1.5</td>\n      <td>4</td>\n      <td>CVT</td>\n      <td>2WD</td>\n      <td>Gasoline</td>\n      <td>small car</td>\n      <td>7</td>\n      <td>43</td>\n      <td>42</td>\n      <td>42</td>\n      <td>10</td>\n      <td>Elite</td>\n    </tr>\n    <tr>\n      <th>458</th>\n      <td>CHRYSLER 300</td>\n      <td>3.6</td>\n      <td>6</td>\n      <td>Auto-8</td>\n      <td>2WD</td>\n      <td>Ethanol</td>\n      <td>large car</td>\n      <td>3</td>\n      <td>14</td>\n      <td>22</td>\n      <td>17</td>\n      <td>5</td>\n      <td>No</td>\n    </tr>\n    <tr>\n      <th>462</th>\n      <td>CHRYSLER 300</td>\n      <td>3.6</td>\n      <td>6</td>\n      <td>Auto-8</td>\n      <td>4WD</td>\n      <td>Ethanol</td>\n      <td>large car</td>\n      <td>3</td>\n      <td>13</td>\n      <td>20</td>\n      <td>16</td>\n      <td>4</td>\n      <td>No</td>\n    </tr>\n    <tr>\n      <th>492</th>\n      <td>DODGE Charger</td>\n      <td>3.6</td>\n      <td>6</td>\n      <td>Auto-8</td>\n      <td>2WD</td>\n      <td>Ethanol</td>\n      <td>large car</td>\n      <td>3</td>\n      <td>14</td>\n      <td>22</td>\n      <td>17</td>\n      <td>5</td>\n      <td>No</td>\n    </tr>\n    <tr>\n      <th>496</th>\n      <td>DODGE Charger</td>\n      <td>3.6</td>\n      <td>6</td>\n      <td>Auto-8</td>\n      <td>4WD</td>\n      <td>Ethanol</td>\n      <td>large car</td>\n      <td>3</td>\n      <td>13</td>\n      <td>20</td>\n      <td>16</td>\n      <td>4</td>\n      <td>No</td>\n    </tr>\n    <tr>\n      <th>605</th>\n      <td>FORD Fusion Energi Plug-in Hybrid</td>\n      <td>2.0</td>\n      <td>4</td>\n      <td>CVT</td>\n      <td>2WD</td>\n      <td>Gasoline</td>\n      <td>midsize car</td>\n      <td>7</td>\n      <td>43</td>\n      <td>41</td>\n      <td>42</td>\n      <td>10</td>\n      <td>Elite</td>\n    </tr>\n    <tr>\n      <th>659</th>\n      <td>GMC Sierra 15</td>\n      <td>4.3</td>\n      <td>6</td>\n      <td>Auto-6</td>\n      <td>2WD</td>\n      <td>Ethanol</td>\n      <td>pickup</td>\n      <td>5</td>\n      <td>12</td>\n      <td>16</td>\n      <td>14</td>\n      <td>4</td>\n      <td>No</td>\n    </tr>\n    <tr>\n      <th>661</th>\n      <td>GMC Sierra 15</td>\n      <td>4.3</td>\n      <td>6</td>\n      <td>Auto-6</td>\n      <td>4WD</td>\n      <td>Ethanol</td>\n      <td>pickup</td>\n      <td>5</td>\n      <td>12</td>\n      <td>15</td>\n      <td>13</td>\n      <td>3</td>\n      <td>No</td>\n    </tr>\n    <tr>\n      <th>663</th>\n      <td>GMC Sierra 15</td>\n      <td>5.3</td>\n      <td>8</td>\n      <td>Auto-6</td>\n      <td>2WD</td>\n      <td>Ethanol</td>\n      <td>pickup</td>\n      <td>3</td>\n      <td>12</td>\n      <td>17</td>\n      <td>14</td>\n      <td>3</td>\n      <td>No</td>\n    </tr>\n    <tr>\n      <th>697</th>\n      <td>GMC Yukon 1500</td>\n      <td>5.3</td>\n      <td>8</td>\n      <td>Auto-6</td>\n      <td>2WD</td>\n      <td>Ethanol</td>\n      <td>standard SUV</td>\n      <td>3</td>\n      <td>12</td>\n      <td>17</td>\n      <td>14</td>\n      <td>3</td>\n      <td>No</td>\n    </tr>\n    <tr>\n      <th>701</th>\n      <td>GMC Yukon 1500</td>\n      <td>5.3</td>\n      <td>8</td>\n      <td>Auto-6</td>\n      <td>4WD</td>\n      <td>Ethanol</td>\n      <td>standard SUV</td>\n      <td>3</td>\n      <td>11</td>\n      <td>16</td>\n      <td>13</td>\n      <td>3</td>\n      <td>No</td>\n    </tr>\n    <tr>\n      <th>709</th>\n      <td>GMC Yukon 1500 XL</td>\n      <td>5.3</td>\n      <td>8</td>\n      <td>Auto-6</td>\n      <td>2WD</td>\n      <td>Ethanol</td>\n      <td>standard SUV</td>\n      <td>3</td>\n      <td>12</td>\n      <td>17</td>\n      <td>14</td>\n      <td>3</td>\n      <td>No</td>\n    </tr>\n    <tr>\n      <th>715</th>\n      <td>GMC Yukon XL 1500</td>\n      <td>5.3</td>\n      <td>8</td>\n      <td>Auto-6</td>\n      <td>4WD</td>\n      <td>Ethanol</td>\n      <td>standard SUV</td>\n      <td>3</td>\n      <td>11</td>\n      <td>15</td>\n      <td>12</td>\n      <td>3</td>\n      <td>No</td>\n    </tr>\n    <tr>\n      <th>892</th>\n      <td>JEEP Cherokee</td>\n      <td>2.4</td>\n      <td>4</td>\n      <td>Auto-9</td>\n      <td>2WD</td>\n      <td>Ethanol</td>\n      <td>small SUV</td>\n      <td>3</td>\n      <td>15</td>\n      <td>22</td>\n      <td>18</td>\n      <td>5</td>\n      <td>No</td>\n    </tr>\n    <tr>\n      <th>896</th>\n      <td>JEEP Cherokee</td>\n      <td>2.4</td>\n      <td>4</td>\n      <td>Auto-9</td>\n      <td>4WD</td>\n      <td>Ethanol</td>\n      <td>small SUV</td>\n      <td>3</td>\n      <td>14</td>\n      <td>21</td>\n      <td>17</td>\n      <td>5</td>\n      <td>No</td>\n    </tr>\n    <tr>\n      <th>933</th>\n      <td>KARMA Revero</td>\n      <td>2.0</td>\n      <td>4</td>\n      <td>Auto-1</td>\n      <td>2WD</td>\n      <td>Gasoline</td>\n      <td>small car</td>\n      <td>1</td>\n      <td>20</td>\n      <td>21</td>\n      <td>20</td>\n      <td>10</td>\n      <td>No</td>\n    </tr>\n    <tr>\n      <th>1162</th>\n      <td>MERCEDES-BENZ CLA250 4Matic</td>\n      <td>2.0</td>\n      <td>4</td>\n      <td>AutoMan-7</td>\n      <td>4WD</td>\n      <td>Ethanol</td>\n      <td>small car</td>\n      <td>5</td>\n      <td>17</td>\n      <td>24</td>\n      <td>20</td>\n      <td>6</td>\n      <td>No</td>\n    </tr>\n    <tr>\n      <th>1179</th>\n      <td>MERCEDES-BENZ GLA250 4Matic</td>\n      <td>2.0</td>\n      <td>4</td>\n      <td>AutoMan-7</td>\n      <td>4WD</td>\n      <td>Ethanol</td>\n      <td>small SUV</td>\n      <td>5</td>\n      <td>17</td>\n      <td>23</td>\n      <td>19</td>\n      <td>5</td>\n      <td>No</td>\n    </tr>\n    <tr>\n      <th>1192</th>\n      <td>MERCEDES-BENZ GLE350 4Matic</td>\n      <td>3.5</td>\n      <td>6</td>\n      <td>Auto-7</td>\n      <td>4WD</td>\n      <td>Ethanol</td>\n      <td>standard SUV</td>\n      <td>3</td>\n      <td>13</td>\n      <td>17</td>\n      <td>14</td>\n      <td>3</td>\n      <td>No</td>\n    </tr>\n    <tr>\n      <th>1256</th>\n      <td>MINI Cooper SE Countryman All4</td>\n      <td>1.5</td>\n      <td>3</td>\n      <td>SemiAuto-6</td>\n      <td>4WD</td>\n      <td>Gasoline</td>\n      <td>midsize car</td>\n      <td>3</td>\n      <td>28</td>\n      <td>27</td>\n      <td>27</td>\n      <td>9</td>\n      <td>Yes</td>\n    </tr>\n    <tr>\n      <th>1507</th>\n      <td>TOYOTA Sequoia FFV</td>\n      <td>5.7</td>\n      <td>8</td>\n      <td>SemiAuto-6</td>\n      <td>4WD</td>\n      <td>Ethanol</td>\n      <td>standard SUV</td>\n      <td>5</td>\n      <td>9</td>\n      <td>13</td>\n      <td>10</td>\n      <td>1</td>\n      <td>No</td>\n    </tr>\n    <tr>\n      <th>1517</th>\n      <td>TOYOTA Tundra FFV</td>\n      <td>5.7</td>\n      <td>8</td>\n      <td>SemiAuto-6</td>\n      <td>4WD</td>\n      <td>Ethanol</td>\n      <td>pickup</td>\n      <td>5</td>\n      <td>9</td>\n      <td>12</td>\n      <td>10</td>\n      <td>2</td>\n      <td>No</td>\n    </tr>\n    <tr>\n      <th>1577</th>\n      <td>VOLVO S90</td>\n      <td>2.0</td>\n      <td>4</td>\n      <td>SemiAuto-8</td>\n      <td>4WD</td>\n      <td>Gasoline</td>\n      <td>midsize car</td>\n      <td>7</td>\n      <td>26</td>\n      <td>33</td>\n      <td>29</td>\n      <td>10</td>\n      <td>Elite</td>\n    </tr>\n    <tr>\n      <th>1601</th>\n      <td>VOLVO XC 60</td>\n      <td>2.0</td>\n      <td>4</td>\n      <td>SemiAuto-8</td>\n      <td>4WD</td>\n      <td>Gasoline</td>\n      <td>small SUV</td>\n      <td>7</td>\n      <td>26</td>\n      <td>28</td>\n      <td>26</td>\n      <td>10</td>\n      <td>Elite</td>\n    </tr>\n    <tr>\n      <th>1609</th>\n      <td>VOLVO XC 90</td>\n      <td>2.0</td>\n      <td>4</td>\n      <td>SemiAuto-8</td>\n      <td>4WD</td>\n      <td>Gasoline</td>\n      <td>standard SUV</td>\n      <td>7</td>\n      <td>26</td>\n      <td>30</td>\n      <td>27</td>\n      <td>10</td>\n      <td>Elite</td>\n    </tr>\n  </tbody>\n</table>\n</div>",
      "text/plain": "                                  model  displ  cyl       trans drive  \\\n108                            BMW 330e    2.0    4  SemiAuto-8   2WD   \n160                            BMW 530e    2.0    4  SemiAuto-8   2WD   \n162                            BMW 530e    2.0    4  SemiAuto-8   4WD   \n188                            BMW 740e    2.0    4  SemiAuto-8   4WD   \n382                    CHEVROLET Impala    3.6    6  SemiAuto-6   2WD   \n394              CHEVROLET Silverado 15    4.3    6      Auto-6   2WD   \n396              CHEVROLET Silverado 15    4.3    6      Auto-6   4WD   \n398              CHEVROLET Silverado 15    5.3    8      Auto-6   2WD   \n428             CHEVROLET Suburban 1500    5.3    8      Auto-6   2WD   \n432             CHEVROLET Suburban 1500    5.3    8      Auto-6   4WD   \n436                CHEVROLET Tahoe 1500    5.3    8      Auto-6   2WD   \n440                CHEVROLET Tahoe 1500    5.3    8      Auto-6   4WD   \n454                      CHEVROLET Volt    1.5    4         CVT   2WD   \n456                      CHEVROLET Volt    1.5    4         CVT   2WD   \n458                        CHRYSLER 300    3.6    6      Auto-8   2WD   \n462                        CHRYSLER 300    3.6    6      Auto-8   4WD   \n492                       DODGE Charger    3.6    6      Auto-8   2WD   \n496                       DODGE Charger    3.6    6      Auto-8   4WD   \n605   FORD Fusion Energi Plug-in Hybrid    2.0    4         CVT   2WD   \n659                       GMC Sierra 15    4.3    6      Auto-6   2WD   \n661                       GMC Sierra 15    4.3    6      Auto-6   4WD   \n663                       GMC Sierra 15    5.3    8      Auto-6   2WD   \n697                      GMC Yukon 1500    5.3    8      Auto-6   2WD   \n701                      GMC Yukon 1500    5.3    8      Auto-6   4WD   \n709                   GMC Yukon 1500 XL    5.3    8      Auto-6   2WD   \n715                   GMC Yukon XL 1500    5.3    8      Auto-6   4WD   \n892                       JEEP Cherokee    2.4    4      Auto-9   2WD   \n896                       JEEP Cherokee    2.4    4      Auto-9   4WD   \n933                        KARMA Revero    2.0    4      Auto-1   2WD   \n1162        MERCEDES-BENZ CLA250 4Matic    2.0    4   AutoMan-7   4WD   \n1179        MERCEDES-BENZ GLA250 4Matic    2.0    4   AutoMan-7   4WD   \n1192        MERCEDES-BENZ GLE350 4Matic    3.5    6      Auto-7   4WD   \n1256     MINI Cooper SE Countryman All4    1.5    3  SemiAuto-6   4WD   \n1507                 TOYOTA Sequoia FFV    5.7    8  SemiAuto-6   4WD   \n1517                  TOYOTA Tundra FFV    5.7    8  SemiAuto-6   4WD   \n1577                          VOLVO S90    2.0    4  SemiAuto-8   4WD   \n1601                        VOLVO XC 60    2.0    4  SemiAuto-8   4WD   \n1609                        VOLVO XC 90    2.0    4  SemiAuto-8   4WD   \n\n          fuel     veh_class  air_pollution_score city_mpg hwy_mpg cmb_mpg  \\\n108   Gasoline     small car                    3       28      34      30   \n160   Gasoline     small car                    7       27      31      29   \n162   Gasoline     small car                    7       27      31      28   \n188   Gasoline     large car                    3       25      29      27   \n382    Ethanol     large car                    5       14      20      16   \n394    Ethanol        pickup                    5       12      16      14   \n396    Ethanol        pickup                    5       12      15      13   \n398    Ethanol        pickup                    3       12      17      14   \n428    Ethanol  standard SUV                    3       12      17      14   \n432    Ethanol  standard SUV                    3       11      15      12   \n436    Ethanol  standard SUV                    3       12      17      14   \n440    Ethanol  standard SUV                    3       11      16      13   \n454   Gasoline     small car                    3       43      42      42   \n456   Gasoline     small car                    7       43      42      42   \n458    Ethanol     large car                    3       14      22      17   \n462    Ethanol     large car                    3       13      20      16   \n492    Ethanol     large car                    3       14      22      17   \n496    Ethanol     large car                    3       13      20      16   \n605   Gasoline   midsize car                    7       43      41      42   \n659    Ethanol        pickup                    5       12      16      14   \n661    Ethanol        pickup                    5       12      15      13   \n663    Ethanol        pickup                    3       12      17      14   \n697    Ethanol  standard SUV                    3       12      17      14   \n701    Ethanol  standard SUV                    3       11      16      13   \n709    Ethanol  standard SUV                    3       12      17      14   \n715    Ethanol  standard SUV                    3       11      15      12   \n892    Ethanol     small SUV                    3       15      22      18   \n896    Ethanol     small SUV                    3       14      21      17   \n933   Gasoline     small car                    1       20      21      20   \n1162   Ethanol     small car                    5       17      24      20   \n1179   Ethanol     small SUV                    5       17      23      19   \n1192   Ethanol  standard SUV                    3       13      17      14   \n1256  Gasoline   midsize car                    3       28      27      27   \n1507   Ethanol  standard SUV                    5        9      13      10   \n1517   Ethanol        pickup                    5        9      12      10   \n1577  Gasoline   midsize car                    7       26      33      29   \n1601  Gasoline     small SUV                    7       26      28      26   \n1609  Gasoline  standard SUV                    7       26      30      27   \n\n      greenhouse_gas_score smartway  \n108                     10      Yes  \n160                     10    Elite  \n162                     10    Elite  \n188                      9      Yes  \n382                      4       No  \n394                      4       No  \n396                      3       No  \n398                      3       No  \n428                      3       No  \n432                      3       No  \n436                      3       No  \n440                      3       No  \n454                     10      Yes  \n456                     10    Elite  \n458                      5       No  \n462                      4       No  \n492                      5       No  \n496                      4       No  \n605                     10    Elite  \n659                      4       No  \n661                      3       No  \n663                      3       No  \n697                      3       No  \n701                      3       No  \n709                      3       No  \n715                      3       No  \n892                      5       No  \n896                      5       No  \n933                     10       No  \n1162                     6       No  \n1179                     5       No  \n1192                     3       No  \n1256                     9      Yes  \n1507                     1       No  \n1517                     2       No  \n1577                    10    Elite  \n1601                    10    Elite  \n1609                    10    Elite  "
     },
     "execution_count": 789,
     "metadata": {},
     "output_type": "execute_result"
    }
   ],
   "source": [
    "# columns to split by \"/\"\n",
    "split_columns = ['fuel', 'city_mpg', 'hwy_mpg', 'cmb_mpg']\n",
    "\n",
    "# apply split function to each column of each dataframe copy\n",
    "for c in split_columns:\n",
    "    df1_ap18[c] = df1_ap18[c].apply(lambda x : x.split('/')[0])\n",
    "    df2_ap18[c] = df2_ap18[c].apply(lambda x : x.split('/')[1])\n",
    "\n",
    "   \n",
    "df1_ap18"
   ]
  },
  {
   "cell_type": "code",
   "execution_count": 790,
   "metadata": {},
   "outputs": [
    {
     "data": {
      "text/html": "<div>\n<style scoped>\n    .dataframe tbody tr th:only-of-type {\n        vertical-align: middle;\n    }\n\n    .dataframe tbody tr th {\n        vertical-align: top;\n    }\n\n    .dataframe thead th {\n        text-align: right;\n    }\n</style>\n<table border=\"1\" class=\"dataframe\">\n  <thead>\n    <tr style=\"text-align: right;\">\n      <th></th>\n      <th>model</th>\n      <th>displ</th>\n      <th>cyl</th>\n      <th>trans</th>\n      <th>drive</th>\n      <th>fuel</th>\n      <th>veh_class</th>\n      <th>air_pollution_score</th>\n      <th>city_mpg</th>\n      <th>hwy_mpg</th>\n      <th>cmb_mpg</th>\n      <th>greenhouse_gas_score</th>\n      <th>smartway</th>\n    </tr>\n  </thead>\n  <tbody>\n    <tr>\n      <th>108</th>\n      <td>BMW 330e</td>\n      <td>2.0</td>\n      <td>4</td>\n      <td>SemiAuto-8</td>\n      <td>2WD</td>\n      <td>Electricity</td>\n      <td>small car</td>\n      <td>3</td>\n      <td>66</td>\n      <td>78</td>\n      <td>71</td>\n      <td>10</td>\n      <td>Yes</td>\n    </tr>\n    <tr>\n      <th>160</th>\n      <td>BMW 530e</td>\n      <td>2.0</td>\n      <td>4</td>\n      <td>SemiAuto-8</td>\n      <td>2WD</td>\n      <td>Electricity</td>\n      <td>small car</td>\n      <td>7</td>\n      <td>70</td>\n      <td>75</td>\n      <td>72</td>\n      <td>10</td>\n      <td>Elite</td>\n    </tr>\n    <tr>\n      <th>162</th>\n      <td>BMW 530e</td>\n      <td>2.0</td>\n      <td>4</td>\n      <td>SemiAuto-8</td>\n      <td>4WD</td>\n      <td>Electricity</td>\n      <td>small car</td>\n      <td>7</td>\n      <td>66</td>\n      <td>68</td>\n      <td>67</td>\n      <td>10</td>\n      <td>Elite</td>\n    </tr>\n    <tr>\n      <th>188</th>\n      <td>BMW 740e</td>\n      <td>2.0</td>\n      <td>4</td>\n      <td>SemiAuto-8</td>\n      <td>4WD</td>\n      <td>Electricity</td>\n      <td>large car</td>\n      <td>3</td>\n      <td>62</td>\n      <td>68</td>\n      <td>64</td>\n      <td>9</td>\n      <td>Yes</td>\n    </tr>\n    <tr>\n      <th>382</th>\n      <td>CHEVROLET Impala</td>\n      <td>3.6</td>\n      <td>6</td>\n      <td>SemiAuto-6</td>\n      <td>2WD</td>\n      <td>Gas</td>\n      <td>large car</td>\n      <td>5</td>\n      <td>18</td>\n      <td>28</td>\n      <td>22</td>\n      <td>4</td>\n      <td>No</td>\n    </tr>\n    <tr>\n      <th>394</th>\n      <td>CHEVROLET Silverado 15</td>\n      <td>4.3</td>\n      <td>6</td>\n      <td>Auto-6</td>\n      <td>2WD</td>\n      <td>Gas</td>\n      <td>pickup</td>\n      <td>5</td>\n      <td>18</td>\n      <td>24</td>\n      <td>20</td>\n      <td>4</td>\n      <td>No</td>\n    </tr>\n    <tr>\n      <th>396</th>\n      <td>CHEVROLET Silverado 15</td>\n      <td>4.3</td>\n      <td>6</td>\n      <td>Auto-6</td>\n      <td>4WD</td>\n      <td>Gas</td>\n      <td>pickup</td>\n      <td>5</td>\n      <td>17</td>\n      <td>22</td>\n      <td>19</td>\n      <td>3</td>\n      <td>No</td>\n    </tr>\n    <tr>\n      <th>398</th>\n      <td>CHEVROLET Silverado 15</td>\n      <td>5.3</td>\n      <td>8</td>\n      <td>Auto-6</td>\n      <td>2WD</td>\n      <td>Gas</td>\n      <td>pickup</td>\n      <td>3</td>\n      <td>16</td>\n      <td>23</td>\n      <td>19</td>\n      <td>3</td>\n      <td>No</td>\n    </tr>\n    <tr>\n      <th>428</th>\n      <td>CHEVROLET Suburban 1500</td>\n      <td>5.3</td>\n      <td>8</td>\n      <td>Auto-6</td>\n      <td>2WD</td>\n      <td>Gas</td>\n      <td>standard SUV</td>\n      <td>3</td>\n      <td>16</td>\n      <td>23</td>\n      <td>19</td>\n      <td>3</td>\n      <td>No</td>\n    </tr>\n    <tr>\n      <th>432</th>\n      <td>CHEVROLET Suburban 1500</td>\n      <td>5.3</td>\n      <td>8</td>\n      <td>Auto-6</td>\n      <td>4WD</td>\n      <td>Gas</td>\n      <td>standard SUV</td>\n      <td>3</td>\n      <td>16</td>\n      <td>22</td>\n      <td>18</td>\n      <td>3</td>\n      <td>No</td>\n    </tr>\n    <tr>\n      <th>436</th>\n      <td>CHEVROLET Tahoe 1500</td>\n      <td>5.3</td>\n      <td>8</td>\n      <td>Auto-6</td>\n      <td>2WD</td>\n      <td>Gas</td>\n      <td>standard SUV</td>\n      <td>3</td>\n      <td>16</td>\n      <td>23</td>\n      <td>19</td>\n      <td>3</td>\n      <td>No</td>\n    </tr>\n    <tr>\n      <th>440</th>\n      <td>CHEVROLET Tahoe 1500</td>\n      <td>5.3</td>\n      <td>8</td>\n      <td>Auto-6</td>\n      <td>4WD</td>\n      <td>Gas</td>\n      <td>standard SUV</td>\n      <td>3</td>\n      <td>16</td>\n      <td>22</td>\n      <td>18</td>\n      <td>3</td>\n      <td>No</td>\n    </tr>\n    <tr>\n      <th>454</th>\n      <td>CHEVROLET Volt</td>\n      <td>1.5</td>\n      <td>4</td>\n      <td>CVT</td>\n      <td>2WD</td>\n      <td>Electricity</td>\n      <td>small car</td>\n      <td>3</td>\n      <td>113</td>\n      <td>99</td>\n      <td>106</td>\n      <td>10</td>\n      <td>Yes</td>\n    </tr>\n    <tr>\n      <th>456</th>\n      <td>CHEVROLET Volt</td>\n      <td>1.5</td>\n      <td>4</td>\n      <td>CVT</td>\n      <td>2WD</td>\n      <td>Electricity</td>\n      <td>small car</td>\n      <td>7</td>\n      <td>113</td>\n      <td>99</td>\n      <td>106</td>\n      <td>10</td>\n      <td>Elite</td>\n    </tr>\n    <tr>\n      <th>458</th>\n      <td>CHRYSLER 300</td>\n      <td>3.6</td>\n      <td>6</td>\n      <td>Auto-8</td>\n      <td>2WD</td>\n      <td>Gas</td>\n      <td>large car</td>\n      <td>3</td>\n      <td>19</td>\n      <td>30</td>\n      <td>23</td>\n      <td>5</td>\n      <td>No</td>\n    </tr>\n    <tr>\n      <th>462</th>\n      <td>CHRYSLER 300</td>\n      <td>3.6</td>\n      <td>6</td>\n      <td>Auto-8</td>\n      <td>4WD</td>\n      <td>Gas</td>\n      <td>large car</td>\n      <td>3</td>\n      <td>18</td>\n      <td>27</td>\n      <td>21</td>\n      <td>4</td>\n      <td>No</td>\n    </tr>\n    <tr>\n      <th>492</th>\n      <td>DODGE Charger</td>\n      <td>3.6</td>\n      <td>6</td>\n      <td>Auto-8</td>\n      <td>2WD</td>\n      <td>Gas</td>\n      <td>large car</td>\n      <td>3</td>\n      <td>19</td>\n      <td>30</td>\n      <td>23</td>\n      <td>5</td>\n      <td>No</td>\n    </tr>\n    <tr>\n      <th>496</th>\n      <td>DODGE Charger</td>\n      <td>3.6</td>\n      <td>6</td>\n      <td>Auto-8</td>\n      <td>4WD</td>\n      <td>Gas</td>\n      <td>large car</td>\n      <td>3</td>\n      <td>18</td>\n      <td>27</td>\n      <td>21</td>\n      <td>4</td>\n      <td>No</td>\n    </tr>\n    <tr>\n      <th>605</th>\n      <td>FORD Fusion Energi Plug-in Hybrid</td>\n      <td>2.0</td>\n      <td>4</td>\n      <td>CVT</td>\n      <td>2WD</td>\n      <td>Electricity</td>\n      <td>midsize car</td>\n      <td>7</td>\n      <td>102</td>\n      <td>91</td>\n      <td>97</td>\n      <td>10</td>\n      <td>Elite</td>\n    </tr>\n    <tr>\n      <th>659</th>\n      <td>GMC Sierra 15</td>\n      <td>4.3</td>\n      <td>6</td>\n      <td>Auto-6</td>\n      <td>2WD</td>\n      <td>Gas</td>\n      <td>pickup</td>\n      <td>5</td>\n      <td>18</td>\n      <td>24</td>\n      <td>20</td>\n      <td>4</td>\n      <td>No</td>\n    </tr>\n    <tr>\n      <th>661</th>\n      <td>GMC Sierra 15</td>\n      <td>4.3</td>\n      <td>6</td>\n      <td>Auto-6</td>\n      <td>4WD</td>\n      <td>Gas</td>\n      <td>pickup</td>\n      <td>5</td>\n      <td>17</td>\n      <td>22</td>\n      <td>19</td>\n      <td>3</td>\n      <td>No</td>\n    </tr>\n    <tr>\n      <th>663</th>\n      <td>GMC Sierra 15</td>\n      <td>5.3</td>\n      <td>8</td>\n      <td>Auto-6</td>\n      <td>2WD</td>\n      <td>Gas</td>\n      <td>pickup</td>\n      <td>3</td>\n      <td>16</td>\n      <td>23</td>\n      <td>19</td>\n      <td>3</td>\n      <td>No</td>\n    </tr>\n    <tr>\n      <th>697</th>\n      <td>GMC Yukon 1500</td>\n      <td>5.3</td>\n      <td>8</td>\n      <td>Auto-6</td>\n      <td>2WD</td>\n      <td>Gas</td>\n      <td>standard SUV</td>\n      <td>3</td>\n      <td>16</td>\n      <td>23</td>\n      <td>19</td>\n      <td>3</td>\n      <td>No</td>\n    </tr>\n    <tr>\n      <th>701</th>\n      <td>GMC Yukon 1500</td>\n      <td>5.3</td>\n      <td>8</td>\n      <td>Auto-6</td>\n      <td>4WD</td>\n      <td>Gas</td>\n      <td>standard SUV</td>\n      <td>3</td>\n      <td>16</td>\n      <td>22</td>\n      <td>18</td>\n      <td>3</td>\n      <td>No</td>\n    </tr>\n    <tr>\n      <th>709</th>\n      <td>GMC Yukon 1500 XL</td>\n      <td>5.3</td>\n      <td>8</td>\n      <td>Auto-6</td>\n      <td>2WD</td>\n      <td>Gas</td>\n      <td>standard SUV</td>\n      <td>3</td>\n      <td>16</td>\n      <td>23</td>\n      <td>19</td>\n      <td>3</td>\n      <td>No</td>\n    </tr>\n    <tr>\n      <th>715</th>\n      <td>GMC Yukon XL 1500</td>\n      <td>5.3</td>\n      <td>8</td>\n      <td>Auto-6</td>\n      <td>4WD</td>\n      <td>Gas</td>\n      <td>standard SUV</td>\n      <td>3</td>\n      <td>16</td>\n      <td>22</td>\n      <td>18</td>\n      <td>3</td>\n      <td>No</td>\n    </tr>\n    <tr>\n      <th>892</th>\n      <td>JEEP Cherokee</td>\n      <td>2.4</td>\n      <td>4</td>\n      <td>Auto-9</td>\n      <td>2WD</td>\n      <td>Gas</td>\n      <td>small SUV</td>\n      <td>3</td>\n      <td>21</td>\n      <td>30</td>\n      <td>25</td>\n      <td>5</td>\n      <td>No</td>\n    </tr>\n    <tr>\n      <th>896</th>\n      <td>JEEP Cherokee</td>\n      <td>2.4</td>\n      <td>4</td>\n      <td>Auto-9</td>\n      <td>4WD</td>\n      <td>Gas</td>\n      <td>small SUV</td>\n      <td>3</td>\n      <td>21</td>\n      <td>28</td>\n      <td>23</td>\n      <td>5</td>\n      <td>No</td>\n    </tr>\n    <tr>\n      <th>933</th>\n      <td>KARMA Revero</td>\n      <td>2.0</td>\n      <td>4</td>\n      <td>Auto-1</td>\n      <td>2WD</td>\n      <td>Electricity</td>\n      <td>small car</td>\n      <td>1</td>\n      <td>59</td>\n      <td>61</td>\n      <td>60</td>\n      <td>10</td>\n      <td>No</td>\n    </tr>\n    <tr>\n      <th>1162</th>\n      <td>MERCEDES-BENZ CLA250 4Matic</td>\n      <td>2.0</td>\n      <td>4</td>\n      <td>AutoMan-7</td>\n      <td>4WD</td>\n      <td>Gas</td>\n      <td>small car</td>\n      <td>5</td>\n      <td>24</td>\n      <td>32</td>\n      <td>27</td>\n      <td>6</td>\n      <td>No</td>\n    </tr>\n    <tr>\n      <th>1179</th>\n      <td>MERCEDES-BENZ GLA250 4Matic</td>\n      <td>2.0</td>\n      <td>4</td>\n      <td>AutoMan-7</td>\n      <td>4WD</td>\n      <td>Gas</td>\n      <td>small SUV</td>\n      <td>5</td>\n      <td>23</td>\n      <td>31</td>\n      <td>26</td>\n      <td>5</td>\n      <td>No</td>\n    </tr>\n    <tr>\n      <th>1192</th>\n      <td>MERCEDES-BENZ GLE350 4Matic</td>\n      <td>3.5</td>\n      <td>6</td>\n      <td>Auto-7</td>\n      <td>4WD</td>\n      <td>Gas</td>\n      <td>standard SUV</td>\n      <td>3</td>\n      <td>18</td>\n      <td>22</td>\n      <td>19</td>\n      <td>3</td>\n      <td>No</td>\n    </tr>\n    <tr>\n      <th>1256</th>\n      <td>MINI Cooper SE Countryman All4</td>\n      <td>1.5</td>\n      <td>3</td>\n      <td>SemiAuto-6</td>\n      <td>4WD</td>\n      <td>Electricity</td>\n      <td>midsize car</td>\n      <td>3</td>\n      <td>63</td>\n      <td>66</td>\n      <td>65</td>\n      <td>9</td>\n      <td>Yes</td>\n    </tr>\n    <tr>\n      <th>1507</th>\n      <td>TOYOTA Sequoia FFV</td>\n      <td>5.7</td>\n      <td>8</td>\n      <td>SemiAuto-6</td>\n      <td>4WD</td>\n      <td>Gas</td>\n      <td>standard SUV</td>\n      <td>5</td>\n      <td>13</td>\n      <td>17</td>\n      <td>14</td>\n      <td>1</td>\n      <td>No</td>\n    </tr>\n    <tr>\n      <th>1517</th>\n      <td>TOYOTA Tundra FFV</td>\n      <td>5.7</td>\n      <td>8</td>\n      <td>SemiAuto-6</td>\n      <td>4WD</td>\n      <td>Gas</td>\n      <td>pickup</td>\n      <td>5</td>\n      <td>13</td>\n      <td>17</td>\n      <td>15</td>\n      <td>2</td>\n      <td>No</td>\n    </tr>\n    <tr>\n      <th>1577</th>\n      <td>VOLVO S90</td>\n      <td>2.0</td>\n      <td>4</td>\n      <td>SemiAuto-8</td>\n      <td>4WD</td>\n      <td>Electricity</td>\n      <td>midsize car</td>\n      <td>7</td>\n      <td>70</td>\n      <td>72</td>\n      <td>71</td>\n      <td>10</td>\n      <td>Elite</td>\n    </tr>\n    <tr>\n      <th>1601</th>\n      <td>VOLVO XC 60</td>\n      <td>2.0</td>\n      <td>4</td>\n      <td>SemiAuto-8</td>\n      <td>4WD</td>\n      <td>Electricity</td>\n      <td>small SUV</td>\n      <td>7</td>\n      <td>60</td>\n      <td>58</td>\n      <td>59</td>\n      <td>10</td>\n      <td>Elite</td>\n    </tr>\n    <tr>\n      <th>1609</th>\n      <td>VOLVO XC 90</td>\n      <td>2.0</td>\n      <td>4</td>\n      <td>SemiAuto-8</td>\n      <td>4WD</td>\n      <td>Electricity</td>\n      <td>standard SUV</td>\n      <td>7</td>\n      <td>63</td>\n      <td>61</td>\n      <td>62</td>\n      <td>10</td>\n      <td>Elite</td>\n    </tr>\n  </tbody>\n</table>\n</div>",
      "text/plain": "                                  model  displ  cyl       trans drive  \\\n108                            BMW 330e    2.0    4  SemiAuto-8   2WD   \n160                            BMW 530e    2.0    4  SemiAuto-8   2WD   \n162                            BMW 530e    2.0    4  SemiAuto-8   4WD   \n188                            BMW 740e    2.0    4  SemiAuto-8   4WD   \n382                    CHEVROLET Impala    3.6    6  SemiAuto-6   2WD   \n394              CHEVROLET Silverado 15    4.3    6      Auto-6   2WD   \n396              CHEVROLET Silverado 15    4.3    6      Auto-6   4WD   \n398              CHEVROLET Silverado 15    5.3    8      Auto-6   2WD   \n428             CHEVROLET Suburban 1500    5.3    8      Auto-6   2WD   \n432             CHEVROLET Suburban 1500    5.3    8      Auto-6   4WD   \n436                CHEVROLET Tahoe 1500    5.3    8      Auto-6   2WD   \n440                CHEVROLET Tahoe 1500    5.3    8      Auto-6   4WD   \n454                      CHEVROLET Volt    1.5    4         CVT   2WD   \n456                      CHEVROLET Volt    1.5    4         CVT   2WD   \n458                        CHRYSLER 300    3.6    6      Auto-8   2WD   \n462                        CHRYSLER 300    3.6    6      Auto-8   4WD   \n492                       DODGE Charger    3.6    6      Auto-8   2WD   \n496                       DODGE Charger    3.6    6      Auto-8   4WD   \n605   FORD Fusion Energi Plug-in Hybrid    2.0    4         CVT   2WD   \n659                       GMC Sierra 15    4.3    6      Auto-6   2WD   \n661                       GMC Sierra 15    4.3    6      Auto-6   4WD   \n663                       GMC Sierra 15    5.3    8      Auto-6   2WD   \n697                      GMC Yukon 1500    5.3    8      Auto-6   2WD   \n701                      GMC Yukon 1500    5.3    8      Auto-6   4WD   \n709                   GMC Yukon 1500 XL    5.3    8      Auto-6   2WD   \n715                   GMC Yukon XL 1500    5.3    8      Auto-6   4WD   \n892                       JEEP Cherokee    2.4    4      Auto-9   2WD   \n896                       JEEP Cherokee    2.4    4      Auto-9   4WD   \n933                        KARMA Revero    2.0    4      Auto-1   2WD   \n1162        MERCEDES-BENZ CLA250 4Matic    2.0    4   AutoMan-7   4WD   \n1179        MERCEDES-BENZ GLA250 4Matic    2.0    4   AutoMan-7   4WD   \n1192        MERCEDES-BENZ GLE350 4Matic    3.5    6      Auto-7   4WD   \n1256     MINI Cooper SE Countryman All4    1.5    3  SemiAuto-6   4WD   \n1507                 TOYOTA Sequoia FFV    5.7    8  SemiAuto-6   4WD   \n1517                  TOYOTA Tundra FFV    5.7    8  SemiAuto-6   4WD   \n1577                          VOLVO S90    2.0    4  SemiAuto-8   4WD   \n1601                        VOLVO XC 60    2.0    4  SemiAuto-8   4WD   \n1609                        VOLVO XC 90    2.0    4  SemiAuto-8   4WD   \n\n             fuel     veh_class  air_pollution_score city_mpg hwy_mpg cmb_mpg  \\\n108   Electricity     small car                    3       66      78      71   \n160   Electricity     small car                    7       70      75      72   \n162   Electricity     small car                    7       66      68      67   \n188   Electricity     large car                    3       62      68      64   \n382           Gas     large car                    5       18      28      22   \n394           Gas        pickup                    5       18      24      20   \n396           Gas        pickup                    5       17      22      19   \n398           Gas        pickup                    3       16      23      19   \n428           Gas  standard SUV                    3       16      23      19   \n432           Gas  standard SUV                    3       16      22      18   \n436           Gas  standard SUV                    3       16      23      19   \n440           Gas  standard SUV                    3       16      22      18   \n454   Electricity     small car                    3      113      99     106   \n456   Electricity     small car                    7      113      99     106   \n458           Gas     large car                    3       19      30      23   \n462           Gas     large car                    3       18      27      21   \n492           Gas     large car                    3       19      30      23   \n496           Gas     large car                    3       18      27      21   \n605   Electricity   midsize car                    7      102      91      97   \n659           Gas        pickup                    5       18      24      20   \n661           Gas        pickup                    5       17      22      19   \n663           Gas        pickup                    3       16      23      19   \n697           Gas  standard SUV                    3       16      23      19   \n701           Gas  standard SUV                    3       16      22      18   \n709           Gas  standard SUV                    3       16      23      19   \n715           Gas  standard SUV                    3       16      22      18   \n892           Gas     small SUV                    3       21      30      25   \n896           Gas     small SUV                    3       21      28      23   \n933   Electricity     small car                    1       59      61      60   \n1162          Gas     small car                    5       24      32      27   \n1179          Gas     small SUV                    5       23      31      26   \n1192          Gas  standard SUV                    3       18      22      19   \n1256  Electricity   midsize car                    3       63      66      65   \n1507          Gas  standard SUV                    5       13      17      14   \n1517          Gas        pickup                    5       13      17      15   \n1577  Electricity   midsize car                    7       70      72      71   \n1601  Electricity     small SUV                    7       60      58      59   \n1609  Electricity  standard SUV                    7       63      61      62   \n\n      greenhouse_gas_score smartway  \n108                     10      Yes  \n160                     10    Elite  \n162                     10    Elite  \n188                      9      Yes  \n382                      4       No  \n394                      4       No  \n396                      3       No  \n398                      3       No  \n428                      3       No  \n432                      3       No  \n436                      3       No  \n440                      3       No  \n454                     10      Yes  \n456                     10    Elite  \n458                      5       No  \n462                      4       No  \n492                      5       No  \n496                      4       No  \n605                     10    Elite  \n659                      4       No  \n661                      3       No  \n663                      3       No  \n697                      3       No  \n701                      3       No  \n709                      3       No  \n715                      3       No  \n892                      5       No  \n896                      5       No  \n933                     10       No  \n1162                     6       No  \n1179                     5       No  \n1192                     3       No  \n1256                     9      Yes  \n1507                     1       No  \n1517                     2       No  \n1577                    10    Elite  \n1601                    10    Elite  \n1609                    10    Elite  "
     },
     "execution_count": 790,
     "metadata": {},
     "output_type": "execute_result"
    }
   ],
   "source": [
    "df2_ap18"
   ]
  },
  {
   "cell_type": "code",
   "execution_count": 791,
   "metadata": {},
   "outputs": [
    {
     "data": {
      "text/html": "<div>\n<style scoped>\n    .dataframe tbody tr th:only-of-type {\n        vertical-align: middle;\n    }\n\n    .dataframe tbody tr th {\n        vertical-align: top;\n    }\n\n    .dataframe thead th {\n        text-align: right;\n    }\n</style>\n<table border=\"1\" class=\"dataframe\">\n  <thead>\n    <tr style=\"text-align: right;\">\n      <th></th>\n      <th>model</th>\n      <th>displ</th>\n      <th>cyl</th>\n      <th>trans</th>\n      <th>drive</th>\n      <th>fuel</th>\n      <th>veh_class</th>\n      <th>air_pollution_score</th>\n      <th>city_mpg</th>\n      <th>hwy_mpg</th>\n      <th>cmb_mpg</th>\n      <th>greenhouse_gas_score</th>\n      <th>smartway</th>\n    </tr>\n  </thead>\n  <tbody>\n    <tr>\n      <th>108</th>\n      <td>BMW 330e</td>\n      <td>2.0</td>\n      <td>4</td>\n      <td>SemiAuto-8</td>\n      <td>2WD</td>\n      <td>Gasoline</td>\n      <td>small car</td>\n      <td>3</td>\n      <td>28</td>\n      <td>34</td>\n      <td>30</td>\n      <td>10</td>\n      <td>Yes</td>\n    </tr>\n    <tr>\n      <th>160</th>\n      <td>BMW 530e</td>\n      <td>2.0</td>\n      <td>4</td>\n      <td>SemiAuto-8</td>\n      <td>2WD</td>\n      <td>Gasoline</td>\n      <td>small car</td>\n      <td>7</td>\n      <td>27</td>\n      <td>31</td>\n      <td>29</td>\n      <td>10</td>\n      <td>Elite</td>\n    </tr>\n    <tr>\n      <th>162</th>\n      <td>BMW 530e</td>\n      <td>2.0</td>\n      <td>4</td>\n      <td>SemiAuto-8</td>\n      <td>4WD</td>\n      <td>Gasoline</td>\n      <td>small car</td>\n      <td>7</td>\n      <td>27</td>\n      <td>31</td>\n      <td>28</td>\n      <td>10</td>\n      <td>Elite</td>\n    </tr>\n    <tr>\n      <th>188</th>\n      <td>BMW 740e</td>\n      <td>2.0</td>\n      <td>4</td>\n      <td>SemiAuto-8</td>\n      <td>4WD</td>\n      <td>Gasoline</td>\n      <td>large car</td>\n      <td>3</td>\n      <td>25</td>\n      <td>29</td>\n      <td>27</td>\n      <td>9</td>\n      <td>Yes</td>\n    </tr>\n    <tr>\n      <th>382</th>\n      <td>CHEVROLET Impala</td>\n      <td>3.6</td>\n      <td>6</td>\n      <td>SemiAuto-6</td>\n      <td>2WD</td>\n      <td>Ethanol</td>\n      <td>large car</td>\n      <td>5</td>\n      <td>14</td>\n      <td>20</td>\n      <td>16</td>\n      <td>4</td>\n      <td>No</td>\n    </tr>\n    <tr>\n      <th>...</th>\n      <td>...</td>\n      <td>...</td>\n      <td>...</td>\n      <td>...</td>\n      <td>...</td>\n      <td>...</td>\n      <td>...</td>\n      <td>...</td>\n      <td>...</td>\n      <td>...</td>\n      <td>...</td>\n      <td>...</td>\n      <td>...</td>\n    </tr>\n    <tr>\n      <th>1507</th>\n      <td>TOYOTA Sequoia FFV</td>\n      <td>5.7</td>\n      <td>8</td>\n      <td>SemiAuto-6</td>\n      <td>4WD</td>\n      <td>Gas</td>\n      <td>standard SUV</td>\n      <td>5</td>\n      <td>13</td>\n      <td>17</td>\n      <td>14</td>\n      <td>1</td>\n      <td>No</td>\n    </tr>\n    <tr>\n      <th>1517</th>\n      <td>TOYOTA Tundra FFV</td>\n      <td>5.7</td>\n      <td>8</td>\n      <td>SemiAuto-6</td>\n      <td>4WD</td>\n      <td>Gas</td>\n      <td>pickup</td>\n      <td>5</td>\n      <td>13</td>\n      <td>17</td>\n      <td>15</td>\n      <td>2</td>\n      <td>No</td>\n    </tr>\n    <tr>\n      <th>1577</th>\n      <td>VOLVO S90</td>\n      <td>2.0</td>\n      <td>4</td>\n      <td>SemiAuto-8</td>\n      <td>4WD</td>\n      <td>Electricity</td>\n      <td>midsize car</td>\n      <td>7</td>\n      <td>70</td>\n      <td>72</td>\n      <td>71</td>\n      <td>10</td>\n      <td>Elite</td>\n    </tr>\n    <tr>\n      <th>1601</th>\n      <td>VOLVO XC 60</td>\n      <td>2.0</td>\n      <td>4</td>\n      <td>SemiAuto-8</td>\n      <td>4WD</td>\n      <td>Electricity</td>\n      <td>small SUV</td>\n      <td>7</td>\n      <td>60</td>\n      <td>58</td>\n      <td>59</td>\n      <td>10</td>\n      <td>Elite</td>\n    </tr>\n    <tr>\n      <th>1609</th>\n      <td>VOLVO XC 90</td>\n      <td>2.0</td>\n      <td>4</td>\n      <td>SemiAuto-8</td>\n      <td>4WD</td>\n      <td>Electricity</td>\n      <td>standard SUV</td>\n      <td>7</td>\n      <td>63</td>\n      <td>61</td>\n      <td>62</td>\n      <td>10</td>\n      <td>Elite</td>\n    </tr>\n  </tbody>\n</table>\n<p>76 rows × 13 columns</p>\n</div>",
      "text/plain": "                   model  displ  cyl       trans drive         fuel  \\\n108             BMW 330e    2.0    4  SemiAuto-8   2WD     Gasoline   \n160             BMW 530e    2.0    4  SemiAuto-8   2WD     Gasoline   \n162             BMW 530e    2.0    4  SemiAuto-8   4WD     Gasoline   \n188             BMW 740e    2.0    4  SemiAuto-8   4WD     Gasoline   \n382     CHEVROLET Impala    3.6    6  SemiAuto-6   2WD      Ethanol   \n...                  ...    ...  ...         ...   ...          ...   \n1507  TOYOTA Sequoia FFV    5.7    8  SemiAuto-6   4WD          Gas   \n1517   TOYOTA Tundra FFV    5.7    8  SemiAuto-6   4WD          Gas   \n1577           VOLVO S90    2.0    4  SemiAuto-8   4WD  Electricity   \n1601         VOLVO XC 60    2.0    4  SemiAuto-8   4WD  Electricity   \n1609         VOLVO XC 90    2.0    4  SemiAuto-8   4WD  Electricity   \n\n         veh_class  air_pollution_score city_mpg hwy_mpg cmb_mpg  \\\n108      small car                    3       28      34      30   \n160      small car                    7       27      31      29   \n162      small car                    7       27      31      28   \n188      large car                    3       25      29      27   \n382      large car                    5       14      20      16   \n...            ...                  ...      ...     ...     ...   \n1507  standard SUV                    5       13      17      14   \n1517        pickup                    5       13      17      15   \n1577   midsize car                    7       70      72      71   \n1601     small SUV                    7       60      58      59   \n1609  standard SUV                    7       63      61      62   \n\n      greenhouse_gas_score smartway  \n108                     10      Yes  \n160                     10    Elite  \n162                     10    Elite  \n188                      9      Yes  \n382                      4       No  \n...                    ...      ...  \n1507                     1       No  \n1517                     2       No  \n1577                    10    Elite  \n1601                    10    Elite  \n1609                    10    Elite  \n\n[76 rows x 13 columns]"
     },
     "execution_count": 791,
     "metadata": {},
     "output_type": "execute_result"
    }
   ],
   "source": [
    "new_18 = df1_ap18.append(df2_ap18)\n",
    "new_18"
   ]
  },
  {
   "cell_type": "code",
   "execution_count": 792,
   "metadata": {},
   "outputs": [],
   "source": [
    "df18.drop(ap18.index,inplace=True)"
   ]
  },
  {
   "cell_type": "code",
   "execution_count": 793,
   "metadata": {},
   "outputs": [
    {
     "data": {
      "text/html": "<div>\n<style scoped>\n    .dataframe tbody tr th:only-of-type {\n        vertical-align: middle;\n    }\n\n    .dataframe tbody tr th {\n        vertical-align: top;\n    }\n\n    .dataframe thead th {\n        text-align: right;\n    }\n</style>\n<table border=\"1\" class=\"dataframe\">\n  <thead>\n    <tr style=\"text-align: right;\">\n      <th></th>\n      <th>model</th>\n      <th>displ</th>\n      <th>cyl</th>\n      <th>trans</th>\n      <th>drive</th>\n      <th>fuel</th>\n      <th>veh_class</th>\n      <th>air_pollution_score</th>\n      <th>city_mpg</th>\n      <th>hwy_mpg</th>\n      <th>cmb_mpg</th>\n      <th>greenhouse_gas_score</th>\n      <th>smartway</th>\n    </tr>\n  </thead>\n  <tbody>\n    <tr>\n      <th>0</th>\n      <td>ACURA RDX</td>\n      <td>3.5</td>\n      <td>6</td>\n      <td>SemiAuto-6</td>\n      <td>2WD</td>\n      <td>Gasoline</td>\n      <td>small SUV</td>\n      <td>3</td>\n      <td>20</td>\n      <td>28</td>\n      <td>23</td>\n      <td>5</td>\n      <td>No</td>\n    </tr>\n    <tr>\n      <th>1</th>\n      <td>ACURA RDX</td>\n      <td>3.5</td>\n      <td>6</td>\n      <td>SemiAuto-6</td>\n      <td>4WD</td>\n      <td>Gasoline</td>\n      <td>small SUV</td>\n      <td>3</td>\n      <td>19</td>\n      <td>27</td>\n      <td>22</td>\n      <td>4</td>\n      <td>No</td>\n    </tr>\n    <tr>\n      <th>2</th>\n      <td>ACURA TLX</td>\n      <td>2.4</td>\n      <td>4</td>\n      <td>AMS-8</td>\n      <td>2WD</td>\n      <td>Gasoline</td>\n      <td>small car</td>\n      <td>3</td>\n      <td>23</td>\n      <td>33</td>\n      <td>27</td>\n      <td>6</td>\n      <td>No</td>\n    </tr>\n    <tr>\n      <th>3</th>\n      <td>ACURA TLX</td>\n      <td>3.5</td>\n      <td>6</td>\n      <td>SemiAuto-9</td>\n      <td>2WD</td>\n      <td>Gasoline</td>\n      <td>small car</td>\n      <td>3</td>\n      <td>20</td>\n      <td>32</td>\n      <td>24</td>\n      <td>5</td>\n      <td>No</td>\n    </tr>\n    <tr>\n      <th>4</th>\n      <td>ACURA TLX</td>\n      <td>3.5</td>\n      <td>6</td>\n      <td>SemiAuto-9</td>\n      <td>4WD</td>\n      <td>Gasoline</td>\n      <td>small car</td>\n      <td>3</td>\n      <td>21</td>\n      <td>30</td>\n      <td>24</td>\n      <td>5</td>\n      <td>No</td>\n    </tr>\n  </tbody>\n</table>\n</div>",
      "text/plain": "       model  displ  cyl       trans drive      fuel  veh_class  \\\n0  ACURA RDX    3.5    6  SemiAuto-6   2WD  Gasoline  small SUV   \n1  ACURA RDX    3.5    6  SemiAuto-6   4WD  Gasoline  small SUV   \n2  ACURA TLX    2.4    4       AMS-8   2WD  Gasoline  small car   \n3  ACURA TLX    3.5    6  SemiAuto-9   2WD  Gasoline  small car   \n4  ACURA TLX    3.5    6  SemiAuto-9   4WD  Gasoline  small car   \n\n   air_pollution_score city_mpg hwy_mpg cmb_mpg  greenhouse_gas_score smartway  \n0                    3       20      28      23                     5       No  \n1                    3       19      27      22                     4       No  \n2                    3       23      33      27                     6       No  \n3                    3       20      32      24                     5       No  \n4                    3       21      30      24                     5       No  "
     },
     "execution_count": 793,
     "metadata": {},
     "output_type": "execute_result"
    }
   ],
   "source": [
    "df18 = df18.append(new_18,ignore_index=True)\n",
    "\n",
    "df18.head()"
   ]
  },
  {
   "cell_type": "code",
   "execution_count": 794,
   "metadata": {},
   "outputs": [
    {
     "data": {
      "text/html": "<div>\n<style scoped>\n    .dataframe tbody tr th:only-of-type {\n        vertical-align: middle;\n    }\n\n    .dataframe tbody tr th {\n        vertical-align: top;\n    }\n\n    .dataframe thead th {\n        text-align: right;\n    }\n</style>\n<table border=\"1\" class=\"dataframe\">\n  <thead>\n    <tr style=\"text-align: right;\">\n      <th></th>\n      <th>model</th>\n      <th>displ</th>\n      <th>cyl</th>\n      <th>trans</th>\n      <th>drive</th>\n      <th>fuel</th>\n      <th>veh_class</th>\n      <th>air_pollution_score</th>\n      <th>city_mpg</th>\n      <th>hwy_mpg</th>\n      <th>cmb_mpg</th>\n      <th>greenhouse_gas_score</th>\n      <th>smartway</th>\n    </tr>\n  </thead>\n  <tbody>\n  </tbody>\n</table>\n</div>",
      "text/plain": "Empty DataFrame\nColumns: [model, displ, cyl, trans, drive, fuel, veh_class, air_pollution_score, city_mpg, hwy_mpg, cmb_mpg, greenhouse_gas_score, smartway]\nIndex: []"
     },
     "execution_count": 794,
     "metadata": {},
     "output_type": "execute_result"
    }
   ],
   "source": [
    "df18[df18['fuel'].str.contains('/')]"
   ]
  },
  {
   "cell_type": "code",
   "execution_count": 0,
   "metadata": {},
   "outputs": [],
   "source": [
    "df18.shape"
   ]
  },
  {
   "cell_type": "code",
   "execution_count": null,
   "metadata": {},
   "outputs": [],
   "source": []
  }
 ]
}