{
 "nbformat": 4,
 "nbformat_minor": 2,
 "metadata": {
  "language_info": {
   "name": "python",
   "codemirror_mode": {
    "name": "ipython",
    "version": 3
   },
   "version": "3.7.4-final"
  },
  "orig_nbformat": 2,
  "file_extension": ".py",
  "mimetype": "text/x-python",
  "name": "python",
  "npconvert_exporter": "python",
  "pygments_lexer": "ipython3",
  "version": 3,
  "kernelspec": {
   "name": "python37464bitanaconda3conda24dbcb6865c6498697d03310daa199e4",
   "display_name": "Python 3.7.4 64-bit ('anaconda3': conda)"
  }
 },
 "cells": [
  {
   "cell_type": "code",
   "execution_count": 3,
   "metadata": {},
   "outputs": [],
   "source": [
    "import requests\n",
    "from bs4 import BeautifulSoup\n",
    "import pandas as pd \n",
    "import os"
   ]
  },
  {
   "cell_type": "code",
   "execution_count": 5,
   "metadata": {},
   "outputs": [
    {
     "output_type": "execute_result",
     "data": {
      "text/plain": "                                     title  audience_score  user_ratings\n0                          Zootopia (2016)              92         98633\n1  The Treasure of the Sierra Madre (1948)              93         25627\n2    All Quiet on the Western Front (1930)              89         17768\n3                       Rear Window (1954)              95        149458\n4                             Selma (2015)              86         60533",
      "text/html": "<div>\n<style scoped>\n    .dataframe tbody tr th:only-of-type {\n        vertical-align: middle;\n    }\n\n    .dataframe tbody tr th {\n        vertical-align: top;\n    }\n\n    .dataframe thead th {\n        text-align: right;\n    }\n</style>\n<table border=\"1\" class=\"dataframe\">\n  <thead>\n    <tr style=\"text-align: right;\">\n      <th></th>\n      <th>title</th>\n      <th>audience_score</th>\n      <th>user_ratings</th>\n    </tr>\n  </thead>\n  <tbody>\n    <tr>\n      <td>0</td>\n      <td>Zootopia (2016)</td>\n      <td>92</td>\n      <td>98633</td>\n    </tr>\n    <tr>\n      <td>1</td>\n      <td>The Treasure of the Sierra Madre (1948)</td>\n      <td>93</td>\n      <td>25627</td>\n    </tr>\n    <tr>\n      <td>2</td>\n      <td>All Quiet on the Western Front (1930)</td>\n      <td>89</td>\n      <td>17768</td>\n    </tr>\n    <tr>\n      <td>3</td>\n      <td>Rear Window (1954)</td>\n      <td>95</td>\n      <td>149458</td>\n    </tr>\n    <tr>\n      <td>4</td>\n      <td>Selma (2015)</td>\n      <td>86</td>\n      <td>60533</td>\n    </tr>\n  </tbody>\n</table>\n</div>"
     },
     "metadata": {},
     "execution_count": 5
    }
   ],
   "source": [
    "folder = 'rt_html'\n",
    "df_list=[]\n",
    "for movie_html in os.listdir(folder):\n",
    "    file = os.path.join(folder,movie_html)\n",
    "    with open(file) as file:\n",
    "        soup = BeautifulSoup(file, 'lxml')\n",
    "        title = soup.find('title').contents[0][:-len(' - Rotten Tomatoes')]\n",
    "        audience_score = soup.find(class_=\"audience-score meter\").find('span').contents[0][:-len('%')]\n",
    "        user_ratings = soup.find(class_=\"audience-info hidden-xs superPageFontColor\").find_all('div')[1].contents[2].strip()             .replace(',','')\n",
    "        df_list.append({'title':title,'audience_score':int(audience_score),'user_ratings':int(user_ratings)})\n",
    "\n",
    "df = pd.DataFrame(df_list,columns=['title','audience_score','user_ratings'])\n",
    "df.head()"
   ]
  },
  {
   "cell_type": "code",
   "execution_count": 4,
   "metadata": {},
   "outputs": [],
   "source": []
  },
  {
   "cell_type": "code",
   "execution_count": null,
   "metadata": {},
   "outputs": [],
   "source": []
  }
 ]
}