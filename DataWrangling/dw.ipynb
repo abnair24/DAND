{
 "nbformat": 4,
 "nbformat_minor": 2,
 "metadata": {
  "language_info": {
   "name": "python",
   "codemirror_mode": {
    "name": "ipython",
    "version": 3
   },
   "version": "3.8.0-final"
  },
  "orig_nbformat": 2,
  "file_extension": ".py",
  "mimetype": "text/x-python",
  "name": "python",
  "npconvert_exporter": "python",
  "pygments_lexer": "ipython3",
  "version": 3,
  "kernelspec": {
   "name": "python38064bitpyenvpyenv53323bea96124297984440ba64f01f57",
   "display_name": "Python 3.8.0 64-bit ('.pyenv': pyenv)"
  }
 },
 "cells": [
  {
   "cell_type": "code",
   "execution_count": 1,
   "metadata": {},
   "outputs": [],
   "source": [
    "import pandas as pd\n",
    "import zipfile"
   ]
  },
  {
   "cell_type": "code",
   "execution_count": 2,
   "metadata": {},
   "outputs": [],
   "source": [
    "with zipfile.ZipFile('armenian-online-job-postings.zip', 'r') as myzip:\n",
    "    myzip.extractall()"
   ]
  },
  {
   "cell_type": "code",
   "execution_count": 6,
   "metadata": {},
   "outputs": [
    {
     "data": {
      "text/html": "<div>\n<style scoped>\n    .dataframe tbody tr th:only-of-type {\n        vertical-align: middle;\n    }\n\n    .dataframe tbody tr th {\n        vertical-align: top;\n    }\n\n    .dataframe thead th {\n        text-align: right;\n    }\n</style>\n<table border=\"1\" class=\"dataframe\">\n  <thead>\n    <tr style=\"text-align: right;\">\n      <th></th>\n      <th>jobpost</th>\n      <th>date</th>\n      <th>Title</th>\n      <th>Company</th>\n      <th>AnnouncementCode</th>\n      <th>Term</th>\n      <th>Eligibility</th>\n      <th>Audience</th>\n      <th>StartDate</th>\n      <th>Duration</th>\n      <th>...</th>\n      <th>Salary</th>\n      <th>ApplicationP</th>\n      <th>OpeningDate</th>\n      <th>Deadline</th>\n      <th>Notes</th>\n      <th>AboutC</th>\n      <th>Attach</th>\n      <th>Year</th>\n      <th>Month</th>\n      <th>IT</th>\n    </tr>\n  </thead>\n  <tbody>\n    <tr>\n      <th>0</th>\n      <td>AMERIA Investment Consulting Company\\r\\nJOB TI...</td>\n      <td>Jan 5, 2004</td>\n      <td>Chief Financial Officer</td>\n      <td>AMERIA Investment Consulting Company</td>\n      <td>NaN</td>\n      <td>NaN</td>\n      <td>NaN</td>\n      <td>NaN</td>\n      <td>NaN</td>\n      <td>NaN</td>\n      <td>...</td>\n      <td>NaN</td>\n      <td>To apply for this position, please submit a\\r\\...</td>\n      <td>NaN</td>\n      <td>26 January 2004</td>\n      <td>NaN</td>\n      <td>NaN</td>\n      <td>NaN</td>\n      <td>2004</td>\n      <td>1</td>\n      <td>False</td>\n    </tr>\n    <tr>\n      <th>1</th>\n      <td>International Research &amp; Exchanges Board (IREX...</td>\n      <td>Jan 7, 2004</td>\n      <td>Full-time Community Connections Intern (paid i...</td>\n      <td>International Research &amp; Exchanges Board (IREX)</td>\n      <td>NaN</td>\n      <td>NaN</td>\n      <td>NaN</td>\n      <td>NaN</td>\n      <td>NaN</td>\n      <td>3 months</td>\n      <td>...</td>\n      <td>NaN</td>\n      <td>Please submit a cover letter and resume to:\\r\\...</td>\n      <td>NaN</td>\n      <td>12 January 2004</td>\n      <td>NaN</td>\n      <td>The International Research &amp; Exchanges Board (...</td>\n      <td>NaN</td>\n      <td>2004</td>\n      <td>1</td>\n      <td>False</td>\n    </tr>\n    <tr>\n      <th>2</th>\n      <td>Caucasus Environmental NGO Network (CENN)\\r\\nJ...</td>\n      <td>Jan 7, 2004</td>\n      <td>Country Coordinator</td>\n      <td>Caucasus Environmental NGO Network (CENN)</td>\n      <td>NaN</td>\n      <td>NaN</td>\n      <td>NaN</td>\n      <td>NaN</td>\n      <td>NaN</td>\n      <td>Renewable annual contract\\r\\nPOSITION</td>\n      <td>...</td>\n      <td>NaN</td>\n      <td>Please send resume or CV toursula.kazarian@......</td>\n      <td>NaN</td>\n      <td>20 January 2004\\r\\nSTART DATE:  February 2004</td>\n      <td>NaN</td>\n      <td>The Caucasus Environmental NGO Network is a\\r\\...</td>\n      <td>NaN</td>\n      <td>2004</td>\n      <td>1</td>\n      <td>False</td>\n    </tr>\n    <tr>\n      <th>3</th>\n      <td>Manoff Group\\r\\nJOB TITLE:  BCC Specialist\\r\\n...</td>\n      <td>Jan 7, 2004</td>\n      <td>BCC Specialist</td>\n      <td>Manoff Group</td>\n      <td>NaN</td>\n      <td>NaN</td>\n      <td>NaN</td>\n      <td>NaN</td>\n      <td>NaN</td>\n      <td>NaN</td>\n      <td>...</td>\n      <td>NaN</td>\n      <td>Please send cover letter and resume to Amy\\r\\n...</td>\n      <td>NaN</td>\n      <td>23 January 2004\\r\\nSTART DATE:  Immediate</td>\n      <td>NaN</td>\n      <td>NaN</td>\n      <td>NaN</td>\n      <td>2004</td>\n      <td>1</td>\n      <td>False</td>\n    </tr>\n    <tr>\n      <th>4</th>\n      <td>Yerevan Brandy Company\\r\\nJOB TITLE:  Software...</td>\n      <td>Jan 10, 2004</td>\n      <td>Software Developer</td>\n      <td>Yerevan Brandy Company</td>\n      <td>NaN</td>\n      <td>NaN</td>\n      <td>NaN</td>\n      <td>NaN</td>\n      <td>NaN</td>\n      <td>NaN</td>\n      <td>...</td>\n      <td>NaN</td>\n      <td>Successful candidates should submit\\r\\n- CV; \\...</td>\n      <td>NaN</td>\n      <td>20 January 2004, 18:00</td>\n      <td>NaN</td>\n      <td>NaN</td>\n      <td>NaN</td>\n      <td>2004</td>\n      <td>1</td>\n      <td>True</td>\n    </tr>\n  </tbody>\n</table>\n<p>5 rows × 24 columns</p>\n</div>",
      "text/plain": "                                             jobpost          date  \\\n0  AMERIA Investment Consulting Company\\r\\nJOB TI...   Jan 5, 2004   \n1  International Research & Exchanges Board (IREX...   Jan 7, 2004   \n2  Caucasus Environmental NGO Network (CENN)\\r\\nJ...   Jan 7, 2004   \n3  Manoff Group\\r\\nJOB TITLE:  BCC Specialist\\r\\n...   Jan 7, 2004   \n4  Yerevan Brandy Company\\r\\nJOB TITLE:  Software...  Jan 10, 2004   \n\n                                               Title  \\\n0                            Chief Financial Officer   \n1  Full-time Community Connections Intern (paid i...   \n2                                Country Coordinator   \n3                                     BCC Specialist   \n4                                 Software Developer   \n\n                                           Company AnnouncementCode Term  \\\n0             AMERIA Investment Consulting Company              NaN  NaN   \n1  International Research & Exchanges Board (IREX)              NaN  NaN   \n2        Caucasus Environmental NGO Network (CENN)              NaN  NaN   \n3                                     Manoff Group              NaN  NaN   \n4                           Yerevan Brandy Company              NaN  NaN   \n\n  Eligibility Audience StartDate                               Duration  ...  \\\n0         NaN      NaN       NaN                                    NaN  ...   \n1         NaN      NaN       NaN                               3 months  ...   \n2         NaN      NaN       NaN  Renewable annual contract\\r\\nPOSITION  ...   \n3         NaN      NaN       NaN                                    NaN  ...   \n4         NaN      NaN       NaN                                    NaN  ...   \n\n  Salary                                       ApplicationP OpeningDate  \\\n0    NaN  To apply for this position, please submit a\\r\\...         NaN   \n1    NaN  Please submit a cover letter and resume to:\\r\\...         NaN   \n2    NaN  Please send resume or CV toursula.kazarian@......         NaN   \n3    NaN  Please send cover letter and resume to Amy\\r\\n...         NaN   \n4    NaN  Successful candidates should submit\\r\\n- CV; \\...         NaN   \n\n                                        Deadline Notes  \\\n0                                26 January 2004   NaN   \n1                                12 January 2004   NaN   \n2  20 January 2004\\r\\nSTART DATE:  February 2004   NaN   \n3      23 January 2004\\r\\nSTART DATE:  Immediate   NaN   \n4                         20 January 2004, 18:00   NaN   \n\n                                              AboutC Attach  Year Month     IT  \n0                                                NaN    NaN  2004     1  False  \n1  The International Research & Exchanges Board (...    NaN  2004     1  False  \n2  The Caucasus Environmental NGO Network is a\\r\\...    NaN  2004     1  False  \n3                                                NaN    NaN  2004     1  False  \n4                                                NaN    NaN  2004     1   True  \n\n[5 rows x 24 columns]"
     },
     "execution_count": 6,
     "metadata": {},
     "output_type": "execute_result"
    }
   ],
   "source": [
    "df = pd.read_csv('online-job-postings.csv')\n",
    "df.head()"
   ]
  },
  {
   "cell_type": "code",
   "execution_count": 7,
   "metadata": {},
   "outputs": [
    {
     "data": {
      "text/html": "<div>\n<style scoped>\n    .dataframe tbody tr th:only-of-type {\n        vertical-align: middle;\n    }\n\n    .dataframe tbody tr th {\n        vertical-align: top;\n    }\n\n    .dataframe thead th {\n        text-align: right;\n    }\n</style>\n<table border=\"1\" class=\"dataframe\">\n  <thead>\n    <tr style=\"text-align: right;\">\n      <th></th>\n      <th>jobpost</th>\n      <th>date</th>\n      <th>Title</th>\n      <th>Company</th>\n      <th>AnnouncementCode</th>\n      <th>Term</th>\n      <th>Eligibility</th>\n      <th>Audience</th>\n      <th>StartDate</th>\n      <th>Duration</th>\n      <th>...</th>\n      <th>Salary</th>\n      <th>ApplicationP</th>\n      <th>OpeningDate</th>\n      <th>Deadline</th>\n      <th>Notes</th>\n      <th>AboutC</th>\n      <th>Attach</th>\n      <th>Year</th>\n      <th>Month</th>\n      <th>IT</th>\n    </tr>\n  </thead>\n  <tbody>\n    <tr>\n      <th>18996</th>\n      <td>Technolinguistics NGO\\r\\n\\r\\n\\r\\nTITLE:  Senio...</td>\n      <td>Dec 28, 2015</td>\n      <td>Senior Creative UX/ UI Designer</td>\n      <td>Technolinguistics NGO</td>\n      <td>NaN</td>\n      <td>Full-time</td>\n      <td>NaN</td>\n      <td>NaN</td>\n      <td>NaN</td>\n      <td>Long-term</td>\n      <td>...</td>\n      <td>Competitive</td>\n      <td>To apply for this position, please send your\\r...</td>\n      <td>29 December 2015</td>\n      <td>28 January 2016</td>\n      <td>NaN</td>\n      <td>As a company Technolinguistics has a mandate t...</td>\n      <td>NaN</td>\n      <td>2015</td>\n      <td>12</td>\n      <td>False</td>\n    </tr>\n    <tr>\n      <th>18997</th>\n      <td>\"Coca-Cola Hellenic Bottling Company Armenia\" ...</td>\n      <td>Dec 30, 2015</td>\n      <td>Category Development Manager</td>\n      <td>\"Coca-Cola Hellenic Bottling Company Armenia\" ...</td>\n      <td>NaN</td>\n      <td>Full-time</td>\n      <td>All interested professionals.</td>\n      <td>NaN</td>\n      <td>ASAP</td>\n      <td>Long-term with a probation period of 3 months.</td>\n      <td>...</td>\n      <td>NaN</td>\n      <td>All interested candidates are kindly requested...</td>\n      <td>30 December 2015</td>\n      <td>20 January 2016</td>\n      <td>NaN</td>\n      <td>NaN</td>\n      <td>NaN</td>\n      <td>2015</td>\n      <td>12</td>\n      <td>False</td>\n    </tr>\n    <tr>\n      <th>18998</th>\n      <td>\"Coca-Cola Hellenic Bottling Company Armenia\" ...</td>\n      <td>Dec 30, 2015</td>\n      <td>Operational Marketing Manager</td>\n      <td>\"Coca-Cola Hellenic Bottling Company Armenia\" ...</td>\n      <td>NaN</td>\n      <td>Full-time</td>\n      <td>All interested professionals.</td>\n      <td>NaN</td>\n      <td>ASAP</td>\n      <td>Long-term with a probation period of 3 months.</td>\n      <td>...</td>\n      <td>NaN</td>\n      <td>All interested candidates are kindly requested...</td>\n      <td>30 December 2015</td>\n      <td>20 January 2016</td>\n      <td>NaN</td>\n      <td>NaN</td>\n      <td>NaN</td>\n      <td>2015</td>\n      <td>12</td>\n      <td>False</td>\n    </tr>\n    <tr>\n      <th>18999</th>\n      <td>San Lazzaro   LLC\\r\\n\\r\\n\\r\\nTITLE:  Head of O...</td>\n      <td>Dec 30, 2015</td>\n      <td>Head of Online Sales Department</td>\n      <td>San Lazzaro   LLC</td>\n      <td>NaN</td>\n      <td>NaN</td>\n      <td>NaN</td>\n      <td>NaN</td>\n      <td>NaN</td>\n      <td>Long-term</td>\n      <td>...</td>\n      <td>Highly competitive</td>\n      <td>Interested candidates can send their CVs to:\\r...</td>\n      <td>30 December 2015</td>\n      <td>29 January 2016</td>\n      <td>NaN</td>\n      <td>San Lazzaro LLC works with several internation...</td>\n      <td>NaN</td>\n      <td>2015</td>\n      <td>12</td>\n      <td>False</td>\n    </tr>\n    <tr>\n      <th>19000</th>\n      <td>\"Kamurj\" UCO CJSC\\r\\n\\r\\n\\r\\nTITLE:  Lawyer in...</td>\n      <td>Dec 30, 2015</td>\n      <td>Lawyer in Legal Department</td>\n      <td>\"Kamurj\" UCO CJSC</td>\n      <td>NaN</td>\n      <td>Full-time</td>\n      <td>NaN</td>\n      <td>NaN</td>\n      <td>NaN</td>\n      <td>Indefinite</td>\n      <td>...</td>\n      <td>NaN</td>\n      <td>All qualified applicants are encouraged to\\r\\n...</td>\n      <td>30 December 2015</td>\n      <td>20 January 2016</td>\n      <td>NaN</td>\n      <td>\"Kamurj\" UCO CJSC is providing micro and small...</td>\n      <td>NaN</td>\n      <td>2015</td>\n      <td>12</td>\n      <td>False</td>\n    </tr>\n  </tbody>\n</table>\n<p>5 rows × 24 columns</p>\n</div>",
      "text/plain": "                                                 jobpost          date  \\\n18996  Technolinguistics NGO\\r\\n\\r\\n\\r\\nTITLE:  Senio...  Dec 28, 2015   \n18997  \"Coca-Cola Hellenic Bottling Company Armenia\" ...  Dec 30, 2015   \n18998  \"Coca-Cola Hellenic Bottling Company Armenia\" ...  Dec 30, 2015   \n18999  San Lazzaro   LLC\\r\\n\\r\\n\\r\\nTITLE:  Head of O...  Dec 30, 2015   \n19000  \"Kamurj\" UCO CJSC\\r\\n\\r\\n\\r\\nTITLE:  Lawyer in...  Dec 30, 2015   \n\n                                 Title  \\\n18996  Senior Creative UX/ UI Designer   \n18997     Category Development Manager   \n18998    Operational Marketing Manager   \n18999  Head of Online Sales Department   \n19000       Lawyer in Legal Department   \n\n                                                 Company AnnouncementCode  \\\n18996                              Technolinguistics NGO              NaN   \n18997  \"Coca-Cola Hellenic Bottling Company Armenia\" ...              NaN   \n18998  \"Coca-Cola Hellenic Bottling Company Armenia\" ...              NaN   \n18999                                  San Lazzaro   LLC              NaN   \n19000                                  \"Kamurj\" UCO CJSC              NaN   \n\n            Term                    Eligibility Audience StartDate  \\\n18996  Full-time                            NaN      NaN       NaN   \n18997  Full-time  All interested professionals.      NaN      ASAP   \n18998  Full-time  All interested professionals.      NaN      ASAP   \n18999        NaN                            NaN      NaN       NaN   \n19000  Full-time                            NaN      NaN       NaN   \n\n                                             Duration  ...  \\\n18996                                       Long-term  ...   \n18997  Long-term with a probation period of 3 months.  ...   \n18998  Long-term with a probation period of 3 months.  ...   \n18999                                       Long-term  ...   \n19000                                      Indefinite  ...   \n\n                   Salary                                       ApplicationP  \\\n18996         Competitive  To apply for this position, please send your\\r...   \n18997                 NaN  All interested candidates are kindly requested...   \n18998                 NaN  All interested candidates are kindly requested...   \n18999  Highly competitive  Interested candidates can send their CVs to:\\r...   \n19000                 NaN  All qualified applicants are encouraged to\\r\\n...   \n\n            OpeningDate         Deadline Notes  \\\n18996  29 December 2015  28 January 2016   NaN   \n18997  30 December 2015  20 January 2016   NaN   \n18998  30 December 2015  20 January 2016   NaN   \n18999  30 December 2015  29 January 2016   NaN   \n19000  30 December 2015  20 January 2016   NaN   \n\n                                                  AboutC Attach  Year Month  \\\n18996  As a company Technolinguistics has a mandate t...    NaN  2015    12   \n18997                                                NaN    NaN  2015    12   \n18998                                                NaN    NaN  2015    12   \n18999  San Lazzaro LLC works with several internation...    NaN  2015    12   \n19000  \"Kamurj\" UCO CJSC is providing micro and small...    NaN  2015    12   \n\n          IT  \n18996  False  \n18997  False  \n18998  False  \n18999  False  \n19000  False  \n\n[5 rows x 24 columns]"
     },
     "execution_count": 7,
     "metadata": {},
     "output_type": "execute_result"
    }
   ],
   "source": [
    "df.tail()"
   ]
  },
  {
   "cell_type": "code",
   "execution_count": 5,
   "metadata": {},
   "outputs": [
    {
     "name": "stdout",
     "output_type": "stream",
     "text": "<class 'pandas.core.frame.DataFrame'>\nRangeIndex: 19001 entries, 0 to 19000\nData columns (total 24 columns):\njobpost             19001 non-null object\ndate                19001 non-null object\nTitle               18973 non-null object\nCompany             18994 non-null object\nAnnouncementCode    1208 non-null object\nTerm                7676 non-null object\nEligibility         4930 non-null object\nAudience            640 non-null object\nStartDate           9675 non-null object\nDuration            10798 non-null object\nLocation            18969 non-null object\nJobDescription      15109 non-null object\nJobRequirment       16479 non-null object\nRequiredQual        18517 non-null object\nSalary              9622 non-null object\nApplicationP        18941 non-null object\nOpeningDate         18295 non-null object\nDeadline            18936 non-null object\nNotes               2211 non-null object\nAboutC              12470 non-null object\nAttach              1559 non-null object\nYear                19001 non-null int64\nMonth               19001 non-null int64\nIT                  19001 non-null bool\ndtypes: bool(1), int64(2), object(21)\nmemory usage: 3.4+ MB\n"
    }
   ],
   "source": [
    "df.info()"
   ]
  },
  {
   "cell_type": "code",
   "execution_count": 9,
   "metadata": {},
   "outputs": [
    {
     "data": {
      "text/plain": "ASAP                                                                                                                                                               4754\nImmediately                                                                                                                                                         773\nAs soon as possible                                                                                                                                                 543\nUpon hiring                                                                                                                                                         261\nImmediate                                                                                                                                                           259\n                                                                                                                                                                   ... \nEnd of April, 2013                                                                                                                                                    1\nImmidietly                                                                                                                                                            1\nThe starting date depends on the date when the project\\r\\nis notified by the EU-delegation in Armenia. It is expected to be no\\r\\nlater than 1st February 2012.       1\nJanuary-February 2008                                                                                                                                                 1\n01 February 2007                                                                                                                                                      1\nName: StartDate, Length: 1186, dtype: int64"
     },
     "execution_count": 9,
     "metadata": {},
     "output_type": "execute_result"
    }
   ],
   "source": [
    "df.StartDate.value_counts()"
   ]
  },
  {
   "cell_type": "markdown",
   "metadata": {},
   "source": [
    "Clean\n",
    "\n",
    " Rename StartDate column having values \"Immediately\", \"As soon as possible\" to \"ASAP\".\n",
    " \n",
    " Replace column headers to standard format\n",
    " \n",
    "\n"
   ]
  },
  {
   "cell_type": "code",
   "execution_count": 12,
   "metadata": {},
   "outputs": [
    {
     "name": "stdout",
     "output_type": "stream",
     "text": "<class 'pandas.core.frame.DataFrame'>\nRangeIndex: 19001 entries, 0 to 19000\nData columns (total 24 columns):\nJobPost                   19001 non-null object\ndate                      19001 non-null object\nTitle                     18973 non-null object\nCompany                   18994 non-null object\nAnnouncementCode          1208 non-null object\nTerm                      7676 non-null object\nEligibility               4930 non-null object\nAudience                  640 non-null object\nStartDate                 9675 non-null object\nDuration                  10798 non-null object\nLocation                  18969 non-null object\nJobDescription            15109 non-null object\nJobRequirement            16479 non-null object\nRequiredQualifications    18517 non-null object\nSalary                    9622 non-null object\nApplicationProcedure      18941 non-null object\nOpeningDate               18295 non-null object\nDeadline                  18936 non-null object\nNotes                     2211 non-null object\nAboutCompany              12470 non-null object\nAttach                    1559 non-null object\nYear                      19001 non-null int64\nMonth                     19001 non-null int64\nIT                        19001 non-null bool\ndtypes: bool(1), int64(2), object(21)\nmemory usage: 3.4+ MB\n"
    }
   ],
   "source": [
    "df_clean = df.copy()\n",
    "column = {\"ApplicationP\":\"ApplicationProcedure\",\n",
    "            \"AboutC\":\"AboutCompany\",\n",
    "            \"RequiredQual\":\"RequiredQualifications\",\n",
    "            \"JobRequirment\":\"JobRequirement\",\n",
    "            \"jobpost\":\"JobPost\"\n",
    "            }\n",
    "df_clean.rename(columns = column, inplace=True)\n",
    "\n",
    "df_clean.info()"
   ]
  },
  {
   "cell_type": "code",
   "execution_count": null,
   "metadata": {},
   "outputs": [],
   "source": [
    "asap_list = ['Immediately', 'As soon as possible', 'Upon hiring',\n",
    "             'Immediate', 'Immediate employment', 'As soon as possible.', 'Immediate job opportunity',\n",
    "             '\"Immediate employment, after passing the interview.\"',\n",
    "             'ASAP preferred', 'Employment contract signature date',\n",
    "             'Immediate employment opportunity', 'Immidiately', 'ASA',\n",
    "             'Asap', '\"The position is open immediately but has a flexible start date depending on the candidates earliest availability.\"',\n",
    "             'Immediately upon agreement', '20 November 2014 or ASAP',\n",
    "             'immediately', 'Immediatelly',\n",
    "             '\"Immediately upon selection or no later than November 15, 2009.\"',\n",
    "             'Immediate job opening', 'Immediate hiring', 'Upon selection',\n",
    "             'As soon as practical', 'Immadiate', 'As soon as posible',\n",
    "             'Immediately with 2 months probation period',\n",
    "             '12 November 2012 or ASAP', 'Immediate employment after passing the interview',\n",
    "             'Immediately/ upon agreement', '01 September 2014 or ASAP',\n",
    "             'Immediately or as per agreement', 'as soon as possible',\n",
    "             'As soon as Possible', 'in the nearest future', 'immediate',\n",
    "             '01 April 2014 or ASAP', 'Immidiatly', 'Urgent',\n",
    "             'Immediate or earliest possible', 'Immediate hire',\n",
    "             'Earliest  possible', 'ASAP with 3 months probation period.',\n",
    "             'Immediate employment opportunity.', 'Immediate employment.',\n",
    "             'Immidietly', 'Imminent', 'September 2014 or ASAP', 'Imediately']\n",
    "\n",
    "for text in asap_list:\n",
    "    df_clean.StartDate.replace(text,'ASAP',inplace=True)\n",
    "\n",
    "df_clean.StartDate.value_counts()"
   ]
  },
  {
   "cell_type": "code",
   "execution_count": null,
   "metadata": {},
   "outputs": [],
   "source": []
  }
 ]
}